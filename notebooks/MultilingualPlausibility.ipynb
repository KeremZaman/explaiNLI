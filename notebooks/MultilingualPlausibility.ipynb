{
  "cells": [
    {
      "cell_type": "markdown",
      "metadata": {
        "id": "HfWBqal4PfyM"
      },
      "source": [
        "# Download e-SNLI dev and test sets\n"
      ]
    },
    {
      "cell_type": "code",
      "execution_count": null,
      "metadata": {
        "id": "V1ZL9wBwXq3T"
      },
      "outputs": [],
      "source": [
        "%cd ../"
      ]
    },
    {
      "cell_type": "code",
      "execution_count": null,
      "metadata": {
        "id": "EAd_Yo3yPmFb"
      },
      "outputs": [],
      "source": [
        "!wget https://raw.githubusercontent.com/OanaMariaCamburu/e-SNLI/master/dataset/esnli_test.csv"
      ]
    },
    {
      "cell_type": "code",
      "execution_count": null,
      "metadata": {
        "id": "hAi8Zq2KPnoe"
      },
      "outputs": [],
      "source": [
        "!wget https://raw.githubusercontent.com/OanaMariaCamburu/e-SNLI/master/dataset/esnli_dev.csv"
      ]
    },
    {
      "cell_type": "markdown",
      "metadata": {
        "id": "mRv8y_ZzNYLB"
      },
      "source": [
        "# Multilingual Plausiblity"
      ]
    },
    {
      "cell_type": "markdown",
      "metadata": {
        "id": "FR1OhVMPS5qW"
      },
      "source": [
        "## Find threshold on e-SNLI test set"
      ]
    },
    {
      "cell_type": "code",
      "execution_count": null,
      "metadata": {
        "id": "t3l_BlhlNWaJ"
      },
      "outputs": [],
      "source": [
        "from eval import multilingual_plausibility\n",
        "from explainli.config import AttributionMethods, AttributionConfig, AggregationMethods, ForwardScoringOptions\n",
        "from explainli.explainli import NLIAttribution\n",
        "\n",
        "model_name = 'textattack/bert-base-uncased-snli'"
      ]
    },
    {
      "cell_type": "code",
      "execution_count": null,
      "metadata": {
        "id": "MN7UD57tPP37"
      },
      "outputs": [],
      "source": [
        "attr_config = AttributionConfig(AttributionMethods.Saliency, remove_pad_tokens=True,\n",
        "                                             remove_cls_token=True, remove_sep_tokens=True, join_subwords=True,\n",
        "                                             normalize_scores=True,\n",
        "                                             forward_scoring= ForwardScoringOptions.LOSS,\n",
        "                                             aggregation_method=AggregationMethods.L2,\n",
        "                                             label_names=['entailment', 'neutral', 'contradiction'])\n",
        "\n",
        "attribution = NLIAttribution(model_name=model_name, config=attr_config)\n"
      ]
    },
    {
      "cell_type": "code",
      "execution_count": null,
      "metadata": {
        "colab": {
          "base_uri": "https://localhost:8080/"
        },
        "id": "9vxXeNEwVvOm",
        "outputId": "85990614-27e6-4397-eadc-a5b6cdd0a17b"
      },
      "outputs": [
        {
          "name": "stderr",
          "output_type": "stream",
          "text": [
            "100%|██████████| 103/103 [00:43<00:00,  2.38it/s]\n"
          ]
        },
        {
          "name": "stdout",
          "output_type": "stream",
          "text": [
            "best F1: 0.48759531736655565, best threshold: 0.1673865020275116\n"
          ]
        }
      ],
      "source": [
        "f1, threshold = multilingual_plausibility.find_threshold_on_esnli(attribution, 'esnli_test.csv', 96)\n",
        "print(f\"best F1: {f1}, best threshold: {threshold}\")"
      ]
    },
    {
      "cell_type": "markdown",
      "metadata": {
        "id": "92pVN7HuTuOE"
      },
      "source": [
        "## Create multilingual rationales dataset"
      ]
    },
    {
      "cell_type": "markdown",
      "metadata": {
        "id": "CjwQvrNOUdjs"
      },
      "source": [
        "### Initialize multilingual NLI model, attribution method and load XNLI test split"
      ]
    },
    {
      "cell_type": "code",
      "execution_count": null,
      "metadata": {
        "id": "-5WjQlXuTNXw"
      },
      "outputs": [],
      "source": [
        "from datasets import load_dataset\n",
        "from transformers import AutoTokenizer, AutoModel\n",
        "\n",
        "nli_model_name = '../explainli/bert-base-multilingual-finetuned-mnli'\n",
        "\n",
        "dataset = load_dataset('xnli', 'all_languages', split='test')\n",
        "\n",
        "\n",
        "attr_config = AttributionConfig(AttributionMethods.Saliency, remove_pad_tokens=True,\n",
        "                                             remove_cls_token=True, remove_sep_tokens=False, join_subwords=True,\n",
        "                                             normalize_scores=True,\n",
        "                                             forward_scoring= ForwardScoringOptions.LOSS,\n",
        "                                             aggregation_method=AggregationMethods.L2,\n",
        "                                             label_names=['entailment', 'neutral', 'contradiction'])\n",
        "\n",
        "attribution = NLIAttribution(model_name=nli_model_name, config=attr_config)"
      ]
    },
    {
      "cell_type": "markdown",
      "metadata": {
        "id": "adMyXZTTUsy6"
      },
      "source": [
        "### Extract rationales for source language, English by default, part of XNLI, align highlights to other languages and create dataset"
      ]
    },
    {
      "cell_type": "code",
      "execution_count": null,
      "metadata": {
        "id": "L1zSE8tsUwUS"
      },
      "outputs": [],
      "source": [
        "word_aligner = '../explainli/awesome-align-finetuned-wo-co'\n",
        "\n",
        "pairs, labels, src_highlight_idxs = multilingual_plausibility.extract_rationales(attribution, dataset, threshold, 10)\n",
        "pairs, labels, translated_highlight_idxs = multilingual_plausibility.align_rationales(pairs, labels, src_highlight_idxs, word_aligner)\n",
        "\n",
        "tokenizer = AutoTokenizer.from_pretrained(word_aligner)\n",
        "\n",
        "multilingual_plausibility.create_dataset('exnli_test.csv', attribution, pairs, labels, translated_highlight_idxs, tokenizer)"
      ]
    },
    {
      "cell_type": "markdown",
      "metadata": {
        "id": "Ps9E5eGQYDGb"
      },
      "source": [
        "### Sample from dataset"
      ]
    },
    {
      "cell_type": "code",
      "execution_count": null,
      "metadata": {
        "colab": {
          "base_uri": "https://localhost:8080/",
          "height": 641
        },
        "id": "vNysCD7L0cQN",
        "outputId": "6df8c5f4-b4ee-44ea-8b1b-a8521835d909"
      },
      "outputs": [
        {
          "data": {
            "text/html": [
              "<div>\n",
              "<style scoped>\n",
              "    .dataframe tbody tr th:only-of-type {\n",
              "        vertical-align: middle;\n",
              "    }\n",
              "\n",
              "    .dataframe tbody tr th {\n",
              "        vertical-align: top;\n",
              "    }\n",
              "\n",
              "    .dataframe thead th {\n",
              "        text-align: right;\n",
              "    }\n",
              "</style>\n",
              "<table border=\"1\" class=\"dataframe\">\n",
              "  <thead>\n",
              "    <tr style=\"text-align: right;\">\n",
              "      <th></th>\n",
              "      <th>language</th>\n",
              "      <th>label</th>\n",
              "      <th>premise</th>\n",
              "      <th>hypothesis</th>\n",
              "      <th>premise_highlighted</th>\n",
              "      <th>hypothesis_highlighted</th>\n",
              "    </tr>\n",
              "  </thead>\n",
              "  <tbody>\n",
              "    <tr>\n",
              "      <th>20040</th>\n",
              "      <td>en</td>\n",
              "      <td>contradiction</td>\n",
              "      <td>Well, I wasn't even thinking about that, but I...</td>\n",
              "      <td>I havent spoken to him again.</td>\n",
              "      <td>Well , I wasn ' t even thinking about that , b...</td>\n",
              "      <td>I *havent* *spoken* to him *again* .</td>\n",
              "    </tr>\n",
              "    <tr>\n",
              "      <th>20041</th>\n",
              "      <td>en</td>\n",
              "      <td>entailment</td>\n",
              "      <td>Well, I wasn't even thinking about that, but I...</td>\n",
              "      <td>I was so upset that I just started talking to ...</td>\n",
              "      <td>Well , I wasn ' t even thinking about that , b...</td>\n",
              "      <td>I was so *upset* that I *just* *started* talki...</td>\n",
              "    </tr>\n",
              "    <tr>\n",
              "      <th>20042</th>\n",
              "      <td>en</td>\n",
              "      <td>neutral</td>\n",
              "      <td>Well, I wasn't even thinking about that, but I...</td>\n",
              "      <td>We had a great talk.</td>\n",
              "      <td>Well , I wasn ' t even thinking about that , b...</td>\n",
              "      <td>We had a *great* *talk* .</td>\n",
              "    </tr>\n",
              "    <tr>\n",
              "      <th>20043</th>\n",
              "      <td>en</td>\n",
              "      <td>neutral</td>\n",
              "      <td>And I thought that was a privilege, and it's s...</td>\n",
              "      <td>I was not aware that I was not the only person...</td>\n",
              "      <td>And I *thought* that was a *privilege* , and i...</td>\n",
              "      <td>I was not *aware* that I was not the only pers...</td>\n",
              "    </tr>\n",
              "    <tr>\n",
              "      <th>20044</th>\n",
              "      <td>en</td>\n",
              "      <td>entailment</td>\n",
              "      <td>And I thought that was a privilege, and it's s...</td>\n",
              "      <td>I was under the impression that I was the only...</td>\n",
              "      <td>And I *thought* that was a *privilege* , and i...</td>\n",
              "      <td>I was *under* the *impression* that I was the ...</td>\n",
              "    </tr>\n",
              "    <tr>\n",
              "      <th>...</th>\n",
              "      <td>...</td>\n",
              "      <td>...</td>\n",
              "      <td>...</td>\n",
              "      <td>...</td>\n",
              "      <td>...</td>\n",
              "      <td>...</td>\n",
              "    </tr>\n",
              "    <tr>\n",
              "      <th>25045</th>\n",
              "      <td>en</td>\n",
              "      <td>entailment</td>\n",
              "      <td>Davidson should not adopt the pronunciation of...</td>\n",
              "      <td>Davidson shouldn't talk in a way where bone an...</td>\n",
              "      <td>Davidson should not *adopt* the *pronunciation...</td>\n",
              "      <td>Davidson *shouldn* ' t *talk* in a way where b...</td>\n",
              "    </tr>\n",
              "    <tr>\n",
              "      <th>25046</th>\n",
              "      <td>en</td>\n",
              "      <td>contradiction</td>\n",
              "      <td>Davidson should not adopt the pronunciation of...</td>\n",
              "      <td>It would be better if Davidson rhymed the word...</td>\n",
              "      <td>Davidson *should* not *adopt* the *pronunciati...</td>\n",
              "      <td>It *would* be *better* *if* Davidson *rhymed* ...</td>\n",
              "    </tr>\n",
              "    <tr>\n",
              "      <th>25047</th>\n",
              "      <td>en</td>\n",
              "      <td>neutral</td>\n",
              "      <td>The average novel of 200,000 words for $25 wor...</td>\n",
              "      <td>A 200,000 word novel at $25 is a fair price.</td>\n",
              "      <td>The average novel of 200 , 000 words for $ 25 ...</td>\n",
              "      <td>A 200 , 000 *word* novel at $ 25 is a *fair* *...</td>\n",
              "    </tr>\n",
              "    <tr>\n",
              "      <th>25048</th>\n",
              "      <td>en</td>\n",
              "      <td>contradiction</td>\n",
              "      <td>The average novel of 200,000 words for $25 wor...</td>\n",
              "      <td>A 200,000 word novel for $25 is 4,000 words pe...</td>\n",
              "      <td>The average novel of 200 , 000 words for $ 25 ...</td>\n",
              "      <td>A 200 , 000 *word* novel for $ 25 is *4* , 000...</td>\n",
              "    </tr>\n",
              "    <tr>\n",
              "      <th>25049</th>\n",
              "      <td>en</td>\n",
              "      <td>entailment</td>\n",
              "      <td>The average novel of 200,000 words for $25 wor...</td>\n",
              "      <td>A 200,000 word novel for $25 is 8,000 words pe...</td>\n",
              "      <td>The *average* novel of 200 , 000 words for $ 2...</td>\n",
              "      <td>A 200 , 000 *word* novel for $ 25 is *8* , 000...</td>\n",
              "    </tr>\n",
              "  </tbody>\n",
              "</table>\n",
              "<p>5010 rows × 6 columns</p>\n",
              "</div>"
            ],
            "text/plain": [
              "      language          label  \\\n",
              "20040       en  contradiction   \n",
              "20041       en     entailment   \n",
              "20042       en        neutral   \n",
              "20043       en        neutral   \n",
              "20044       en     entailment   \n",
              "...        ...            ...   \n",
              "25045       en     entailment   \n",
              "25046       en  contradiction   \n",
              "25047       en        neutral   \n",
              "25048       en  contradiction   \n",
              "25049       en     entailment   \n",
              "\n",
              "                                                 premise  \\\n",
              "20040  Well, I wasn't even thinking about that, but I...   \n",
              "20041  Well, I wasn't even thinking about that, but I...   \n",
              "20042  Well, I wasn't even thinking about that, but I...   \n",
              "20043  And I thought that was a privilege, and it's s...   \n",
              "20044  And I thought that was a privilege, and it's s...   \n",
              "...                                                  ...   \n",
              "25045  Davidson should not adopt the pronunciation of...   \n",
              "25046  Davidson should not adopt the pronunciation of...   \n",
              "25047  The average novel of 200,000 words for $25 wor...   \n",
              "25048  The average novel of 200,000 words for $25 wor...   \n",
              "25049  The average novel of 200,000 words for $25 wor...   \n",
              "\n",
              "                                              hypothesis  \\\n",
              "20040                      I havent spoken to him again.   \n",
              "20041  I was so upset that I just started talking to ...   \n",
              "20042                               We had a great talk.   \n",
              "20043  I was not aware that I was not the only person...   \n",
              "20044  I was under the impression that I was the only...   \n",
              "...                                                  ...   \n",
              "25045  Davidson shouldn't talk in a way where bone an...   \n",
              "25046  It would be better if Davidson rhymed the word...   \n",
              "25047       A 200,000 word novel at $25 is a fair price.   \n",
              "25048  A 200,000 word novel for $25 is 4,000 words pe...   \n",
              "25049  A 200,000 word novel for $25 is 8,000 words pe...   \n",
              "\n",
              "                                     premise_highlighted  \\\n",
              "20040  Well , I wasn ' t even thinking about that , b...   \n",
              "20041  Well , I wasn ' t even thinking about that , b...   \n",
              "20042  Well , I wasn ' t even thinking about that , b...   \n",
              "20043  And I *thought* that was a *privilege* , and i...   \n",
              "20044  And I *thought* that was a *privilege* , and i...   \n",
              "...                                                  ...   \n",
              "25045  Davidson should not *adopt* the *pronunciation...   \n",
              "25046  Davidson *should* not *adopt* the *pronunciati...   \n",
              "25047  The average novel of 200 , 000 words for $ 25 ...   \n",
              "25048  The average novel of 200 , 000 words for $ 25 ...   \n",
              "25049  The *average* novel of 200 , 000 words for $ 2...   \n",
              "\n",
              "                                  hypothesis_highlighted  \n",
              "20040               I *havent* *spoken* to him *again* .  \n",
              "20041  I was so *upset* that I *just* *started* talki...  \n",
              "20042                          We had a *great* *talk* .  \n",
              "20043  I was not *aware* that I was not the only pers...  \n",
              "20044  I was *under* the *impression* that I was the ...  \n",
              "...                                                  ...  \n",
              "25045  Davidson *shouldn* ' t *talk* in a way where b...  \n",
              "25046  It *would* be *better* *if* Davidson *rhymed* ...  \n",
              "25047  A 200 , 000 *word* novel at $ 25 is a *fair* *...  \n",
              "25048  A 200 , 000 *word* novel for $ 25 is *4* , 000...  \n",
              "25049  A 200 , 000 *word* novel for $ 25 is *8* , 000...  \n",
              "\n",
              "[5010 rows x 6 columns]"
            ]
          },
          "execution_count": 8,
          "metadata": {},
          "output_type": "execute_result"
        }
      ],
      "source": [
        "import pandas as pd\n",
        "df = pd.read_csv('exnli_test.csv', engine='python', encoding='utf-8')\n",
        "df[df.language == 'en']"
      ]
    },
    {
      "cell_type": "markdown",
      "metadata": {
        "id": "ZKzLSn81YFqK"
      },
      "source": [
        "## Evaluate Multilingual Plausibility for all languages"
      ]
    },
    {
      "cell_type": "code",
      "execution_count": null,
      "metadata": {
        "id": "xMmODvQp0O9E"
      },
      "outputs": [],
      "source": [
        "# clear previous attribution records\n",
        "attribution.records.clear()\n",
        "attribution.config.remove_sep_tokens = True\n",
        "# get xnli languages\n",
        "languages = dataset['hypothesis'][0]['language']\n",
        "map_scores = multilingual_plausibility.evaluate_multilingual_plausibility('exnli_test.csv', attribution, languages, 8)"
      ]
    },
    {
      "cell_type": "code",
      "execution_count": null,
      "metadata": {
        "colab": {
          "base_uri": "https://localhost:8080/"
        },
        "id": "B3jc4IJS0KrP",
        "outputId": "427104c2-a0b0-4374-fd99-b243b81cc9bb"
      },
      "outputs": [
        {
          "name": "stdout",
          "output_type": "stream",
          "text": [
            "ar MAP score: 0.6632450105527579 \n",
            "bg MAP score: 0.7005667630172827 \n",
            "de MAP score: 0.7320776542448928 \n",
            "el MAP score: 0.6959715779373153 \n",
            "en MAP score: 1.0 \n",
            "es MAP score: 0.7664286772544779 \n",
            "fr MAP score: 0.7391015385448011 \n",
            "hi MAP score: 0.6040199596274182 \n",
            "ru MAP score: 0.6857346896929614 \n",
            "sw MAP score: 0.5798971496373715 \n",
            "th MAP score: 0.931514867206828 \n",
            "tr MAP score: 0.6652962202865744 \n",
            "ur MAP score: 0.5745013451420691 \n",
            "vi MAP score: 0.5717117424783905 \n",
            "zh MAP score: 0.5432442886485477 \n"
          ]
        }
      ],
      "source": [
        "for lang, map_score in map_scores.items():\n",
        "  print(f\"{lang} MAP score: {map_score} \")"
      ]
    }
  ],
  "metadata": {
    "accelerator": "GPU",
    "colab": {
      "collapsed_sections": [],
      "name": "MultilingualPlausibility.ipynb",
      "provenance": []
    },
    "kernelspec": {
      "display_name": "clip_prefix_caption",
      "language": "python",
      "name": "clip_prefix_caption"
    },
    "language_info": {
      "codemirror_mode": {
        "name": "ipython",
        "version": 3
      },
      "file_extension": ".py",
      "mimetype": "text/x-python",
      "name": "python",
      "nbconvert_exporter": "python",
      "pygments_lexer": "ipython3",
      "version": "3.9.7"
    }
  },
  "nbformat": 4,
  "nbformat_minor": 0
}