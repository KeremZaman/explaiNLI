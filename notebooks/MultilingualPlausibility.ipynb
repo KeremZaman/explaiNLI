{
 "cells": [
  {
   "cell_type": "markdown",
   "metadata": {
    "id": "HfWBqal4PfyM"
   },
   "source": [
    "# Download e-SNLI dev and test sets\n"
   ]
  },
  {
   "cell_type": "code",
   "execution_count": null,
   "metadata": {},
   "outputs": [],
   "source": [
    "%cd ../"
   ]
  },
  {
   "cell_type": "code",
   "execution_count": 3,
   "metadata": {
    "colab": {
     "base_uri": "https://localhost:8080/"
    },
    "id": "EAd_Yo3yPmFb",
    "outputId": "74e2c823-9764-4cdc-ec2e-524cd6c3daaa"
   },
   "outputs": [
    {
     "name": "stdout",
     "output_type": "stream",
     "text": [
      "--2022-01-02 11:17:55--  https://raw.githubusercontent.com/OanaMariaCamburu/e-SNLI/master/dataset/esnli_test.csv\n",
      "Resolving raw.githubusercontent.com (raw.githubusercontent.com)... 185.199.109.133, 185.199.108.133, 185.199.111.133, ...\n",
      "Connecting to raw.githubusercontent.com (raw.githubusercontent.com)|185.199.109.133|:443... connected.\n",
      "HTTP request sent, awaiting response... 200 OK\n",
      "Length: 7438107 (7.1M) [text/plain]\n",
      "Saving to: ‘esnli_test.csv’\n",
      "\n",
      "esnli_test.csv      100%[===================>]   7.09M  4.90MB/s    in 1.4s    \n",
      "\n",
      "2022-01-02 11:17:57 (4.90 MB/s) - ‘esnli_test.csv’ saved [7438107/7438107]\n",
      "\n"
     ]
    }
   ],
   "source": [
    "!wget https://raw.githubusercontent.com/OanaMariaCamburu/e-SNLI/master/dataset/esnli_test.csv"
   ]
  },
  {
   "cell_type": "code",
   "execution_count": 4,
   "metadata": {
    "colab": {
     "base_uri": "https://localhost:8080/"
    },
    "id": "hAi8Zq2KPnoe",
    "outputId": "45add75a-538c-466a-aea8-7dce28fb5deb"
   },
   "outputs": [
    {
     "name": "stdout",
     "output_type": "stream",
     "text": [
      "--2022-01-02 11:18:26--  https://raw.githubusercontent.com/OanaMariaCamburu/e-SNLI/master/dataset/esnli_dev.csv\n",
      "Resolving raw.githubusercontent.com (raw.githubusercontent.com)... 185.199.110.133, 185.199.111.133, 185.199.108.133, ...\n",
      "Connecting to raw.githubusercontent.com (raw.githubusercontent.com)|185.199.110.133|:443... connected.\n",
      "HTTP request sent, awaiting response... 200 OK\n",
      "Length: 7501310 (7.2M) [text/plain]\n",
      "Saving to: ‘esnli_dev.csv’\n",
      "\n",
      "esnli_dev.csv       100%[===================>]   7.15M  3.55MB/s    in 2.0s    \n",
      "\n",
      "2022-01-02 11:18:29 (3.55 MB/s) - ‘esnli_dev.csv’ saved [7501310/7501310]\n",
      "\n"
     ]
    }
   ],
   "source": [
    "!wget https://raw.githubusercontent.com/OanaMariaCamburu/e-SNLI/master/dataset/esnli_dev.csv"
   ]
  },
  {
   "cell_type": "markdown",
   "metadata": {
    "id": "mRv8y_ZzNYLB"
   },
   "source": [
    "# Multilingual Plausiblity"
   ]
  },
  {
   "cell_type": "markdown",
   "metadata": {
    "id": "FR1OhVMPS5qW"
   },
   "source": [
    "## Find threshold on e-SNLI test set"
   ]
  },
  {
   "cell_type": "code",
   "execution_count": 2,
   "metadata": {
    "id": "t3l_BlhlNWaJ"
   },
   "outputs": [],
   "source": [
    "from eval import multilingual_plausibility\n",
    "from explainli.config import AttributionMethods, AttributionConfig, AggregationMethods, ForwardScoringOptions\n",
    "from explainli.explainli import NLIAttribution\n",
    "\n",
    "model_name = 'textattack/bert-base-uncased-snli'"
   ]
  },
  {
   "cell_type": "code",
   "execution_count": 3,
   "metadata": {
    "colab": {
     "base_uri": "https://localhost:8080/",
     "height": 113,
     "referenced_widgets": [
      "fe61f3cf06b24a9c9e82d99134791630",
      "781dd118370c4264a626f0ad85c46aa9",
      "11b78aa644c14fca86a821d9a2cede61",
      "a626cbbd113b4ab88abc8ef6a0e5638d",
      "b33f25f436134c8db454275147303827",
      "a50c45ca4a1c4946ad4203a1669a3b04",
      "03802cf93efd47cd8c842a47e51245f1",
      "a43f5a38bfdb4389bc8998ac5640d9f1",
      "371817264ef7464cb146e1ac02d44ffa",
      "31f93f44c70d45b5b90e35b2d350f702",
      "44416eef316f4e5585b3ba671d90162b",
      "a194f40e648445d380ce2326fae613f5",
      "1dfc64857f784a3a87074ab3eafa7ae1",
      "d8e2bf3d2da9425cbc71286dd4344401",
      "bdd77839d7564822933842abf4c1bfdb",
      "12cbd6581417446dbb1280fa213a6126",
      "6ad69e2ebbd94b7c9c503abe26cdc679",
      "0955eb11bb89457bb674fd7ef4411f72",
      "eb9064973b7b4aa9beb7f2edd4bebb76",
      "ef0b39c86a164106aa26b0dba84ab773",
      "e11da2065da04331b5166d9f78fd37be",
      "906b43d7868d432b8bf1439e87f7893c",
      "a6e86657b8b6450bb451a971c6fb98f6",
      "2e3a4c0b6a3346ca9e6d02b41124ddce",
      "68f919cf711d49438d4e6408a786f34b",
      "f4e53c10661e4f0fb3ff168ef3ec0bf2",
      "971864ff3a5746729db599926ad13e4c",
      "076f1a4e7bd240c382286c5eed80e999",
      "ce5a5fd9f6044821a5a92061fc505e43",
      "f947efa99e094fb78a46d57774b7e6ad",
      "acf01993927240f79122ca50e91d4853",
      "fc48b34ad34c400a930b534472492d6a",
      "260af272ede447d0a8593c5227c5c902"
     ]
    },
    "id": "MN7UD57tPP37",
    "outputId": "6b9dce51-46a2-45c6-bb3f-0a8b6426ebe3"
   },
   "outputs": [],
   "source": [
    "attr_config = AttributionConfig(AttributionMethods.Saliency, remove_pad_tokens=True,\n",
    "                                             remove_cls_token=True, remove_sep_tokens=True, join_subwords=True,\n",
    "                                             normalize_scores=True,\n",
    "                                             forward_scoring= ForwardScoringOptions.LOSS,\n",
    "                                             aggregation_method=AggregationMethods.L2,\n",
    "                                             label_names=['entailment', 'neutral', 'contradiction'])\n",
    "\n",
    "attribution = NLIAttribution(model_name=model_name, config=attr_config)\n"
   ]
  },
  {
   "cell_type": "code",
   "execution_count": 4,
   "metadata": {
    "colab": {
     "base_uri": "https://localhost:8080/"
    },
    "id": "9vxXeNEwVvOm",
    "outputId": "85990614-27e6-4397-eadc-a5b6cdd0a17b"
   },
   "outputs": [
    {
     "name": "stderr",
     "output_type": "stream",
     "text": [
      "100%|██████████| 103/103 [00:43<00:00,  2.38it/s]\n"
     ]
    },
    {
     "name": "stdout",
     "output_type": "stream",
     "text": [
      "best F1: 0.48759531736655565, best threshold: 0.1673865020275116\n"
     ]
    }
   ],
   "source": [
    "f1, threshold = multilingual_plausibility.find_threshold_on_esnli(attribution, 'esnli_test.csv', 96)\n",
    "print(f\"best F1: {f1}, best threshold: {threshold}\")"
   ]
  },
  {
   "cell_type": "markdown",
   "metadata": {
    "id": "92pVN7HuTuOE"
   },
   "source": [
    "## Create multilingual rationales dataset"
   ]
  },
  {
   "cell_type": "markdown",
   "metadata": {
    "id": "CjwQvrNOUdjs"
   },
   "source": [
    "### Initialize multilingual NLI model, attribution method and load XNLI test split"
   ]
  },
  {
   "cell_type": "code",
   "execution_count": 5,
   "metadata": {
    "colab": {
     "base_uri": "https://localhost:8080/"
    },
    "id": "-5WjQlXuTNXw",
    "outputId": "68562be2-b5b4-40f7-9f05-330958dd462a"
   },
   "outputs": [
    {
     "name": "stderr",
     "output_type": "stream",
     "text": [
      "Reusing dataset xnli (/home/pyanardag/.cache/huggingface/datasets/xnli/all_languages/1.1.0/243f155ecab4d4f6e82e4eeab62b8c6b1f7abfcb8ed7fcc1661be8e25b117404)\n"
     ]
    }
   ],
   "source": [
    "from datasets import load_dataset\n",
    "from transformers import AutoTokenizer, AutoModel\n",
    "\n",
    "nli_model_name = '../explainli/bert-base-multilingual-finetuned-mnli'\n",
    "\n",
    "dataset = load_dataset('xnli', 'all_languages', split='test')\n",
    "\n",
    "\n",
    "attr_config = AttributionConfig(AttributionMethods.Saliency, remove_pad_tokens=True,\n",
    "                                             remove_cls_token=True, remove_sep_tokens=False, join_subwords=True,\n",
    "                                             normalize_scores=True,\n",
    "                                             forward_scoring= ForwardScoringOptions.LOSS,\n",
    "                                             aggregation_method=AggregationMethods.L2,\n",
    "                                             label_names=['entailment', 'neutral', 'contradiction'])\n",
    "\n",
    "attribution = NLIAttribution(model_name=nli_model_name, config=attr_config)"
   ]
  },
  {
   "cell_type": "markdown",
   "metadata": {
    "id": "adMyXZTTUsy6"
   },
   "source": [
    "### Extract rationales for source language, English by default, part of XNLI, align highlights to other languages and create dataset"
   ]
  },
  {
   "cell_type": "code",
   "execution_count": 6,
   "metadata": {
    "colab": {
     "base_uri": "https://localhost:8080/"
    },
    "id": "L1zSE8tsUwUS",
    "outputId": "cd48db1d-94ac-4185-d0eb-121aa89d9696"
   },
   "outputs": [
    {
     "name": "stderr",
     "output_type": "stream",
     "text": [
      "5010it [00:00, 107744.22it/s]\n",
      "100%|██████████| 501/501 [00:36<00:00, 13.74it/s]\n",
      "Some weights of the model checkpoint at ../explainli/awesome-align-finetuned-wo-co were not used when initializing BertModel: ['cls.predictions.transform.LayerNorm.weight', 'cls.predictions.transform.LayerNorm.bias', 'guide_layer.linear.weight', 'guide_layer.linear2.weight', 'guide_layer.linear.bias', 'cls.predictions.decoder.weight', 'cls.predictions.transform.dense.weight', 'cls.predictions.transform.dense.bias', 'psi_cls.bias', 'cls.predictions.decoder.bias', 'psi_cls.transform.bias', 'psi_cls.decoder.weight', 'guide_layer.linear2.bias', 'cls.predictions.bias', 'psi_cls.transform.weight', 'psi_cls.decoder.bias']\n",
      "- This IS expected if you are initializing BertModel from the checkpoint of a model trained on another task or with another architecture (e.g. initializing a BertForSequenceClassification model from a BertForPreTraining model).\n",
      "- This IS NOT expected if you are initializing BertModel from the checkpoint of a model that you expect to be exactly identical (initializing a BertForSequenceClassification model from a BertForSequenceClassification model).\n",
      "Some weights of BertModel were not initialized from the model checkpoint at ../explainli/awesome-align-finetuned-wo-co and are newly initialized: ['bert.pooler.dense.bias', 'bert.pooler.dense.weight']\n",
      "You should probably TRAIN this model on a down-stream task to be able to use it for predictions and inference.\n",
      "5010it [05:03, 16.49it/s]\n",
      "5010it [05:05, 16.39it/s]\n",
      "5010it [05:04, 16.43it/s]\n",
      "5010it [05:05, 16.38it/s]\n",
      "5010it [05:03, 16.52it/s]\n",
      "5010it [05:04, 16.47it/s]\n",
      "5010it [05:08, 16.22it/s]\n",
      "5010it [05:05, 16.40it/s]\n",
      "5010it [05:06, 16.36it/s]\n",
      "5010it [05:06, 16.33it/s]\n",
      "5010it [05:08, 16.24it/s]\n",
      "5010it [05:08, 16.22it/s]\n",
      "5010it [05:06, 16.36it/s]\n",
      "5010it [05:05, 16.39it/s]\n"
     ]
    }
   ],
   "source": [
    "word_aligner = '../explainli/awesome-align-finetuned-wo-co'\n",
    "\n",
    "pairs, labels, src_highlight_idxs = multilingual_plausibility.extract_rationales(attribution, dataset, threshold, 10)\n",
    "pairs, labels, translated_highlight_idxs = multilingual_plausibility.align_rationales(pairs, labels, src_highlight_idxs, word_aligner)\n",
    "\n",
    "tokenizer = AutoTokenizer.from_pretrained(word_aligner)\n",
    "\n",
    "multilingual_plausibility.create_dataset('exnli_test.csv', attribution, pairs, labels, translated_highlight_idxs, tokenizer)"
   ]
  },
  {
   "cell_type": "markdown",
   "metadata": {
    "id": "Ps9E5eGQYDGb"
   },
   "source": [
    "### Sample from dataset"
   ]
  },
  {
   "cell_type": "code",
   "execution_count": 8,
   "metadata": {
    "colab": {
     "base_uri": "https://localhost:8080/",
     "height": 641
    },
    "id": "vNysCD7L0cQN",
    "outputId": "6df8c5f4-b4ee-44ea-8b1b-a8521835d909"
   },
   "outputs": [
    {
     "data": {
      "text/html": [
       "<div>\n",
       "<style scoped>\n",
       "    .dataframe tbody tr th:only-of-type {\n",
       "        vertical-align: middle;\n",
       "    }\n",
       "\n",
       "    .dataframe tbody tr th {\n",
       "        vertical-align: top;\n",
       "    }\n",
       "\n",
       "    .dataframe thead th {\n",
       "        text-align: right;\n",
       "    }\n",
       "</style>\n",
       "<table border=\"1\" class=\"dataframe\">\n",
       "  <thead>\n",
       "    <tr style=\"text-align: right;\">\n",
       "      <th></th>\n",
       "      <th>language</th>\n",
       "      <th>label</th>\n",
       "      <th>premise</th>\n",
       "      <th>hypothesis</th>\n",
       "      <th>premise_highlighted</th>\n",
       "      <th>hypothesis_highlighted</th>\n",
       "    </tr>\n",
       "  </thead>\n",
       "  <tbody>\n",
       "    <tr>\n",
       "      <th>20040</th>\n",
       "      <td>en</td>\n",
       "      <td>contradiction</td>\n",
       "      <td>Well, I wasn't even thinking about that, but I...</td>\n",
       "      <td>I havent spoken to him again.</td>\n",
       "      <td>Well , I wasn ' t even thinking about that , b...</td>\n",
       "      <td>I *havent* *spoken* to him *again* .</td>\n",
       "    </tr>\n",
       "    <tr>\n",
       "      <th>20041</th>\n",
       "      <td>en</td>\n",
       "      <td>entailment</td>\n",
       "      <td>Well, I wasn't even thinking about that, but I...</td>\n",
       "      <td>I was so upset that I just started talking to ...</td>\n",
       "      <td>Well , I wasn ' t even thinking about that , b...</td>\n",
       "      <td>I was so *upset* that I *just* *started* talki...</td>\n",
       "    </tr>\n",
       "    <tr>\n",
       "      <th>20042</th>\n",
       "      <td>en</td>\n",
       "      <td>neutral</td>\n",
       "      <td>Well, I wasn't even thinking about that, but I...</td>\n",
       "      <td>We had a great talk.</td>\n",
       "      <td>Well , I wasn ' t even thinking about that , b...</td>\n",
       "      <td>We had a *great* *talk* .</td>\n",
       "    </tr>\n",
       "    <tr>\n",
       "      <th>20043</th>\n",
       "      <td>en</td>\n",
       "      <td>neutral</td>\n",
       "      <td>And I thought that was a privilege, and it's s...</td>\n",
       "      <td>I was not aware that I was not the only person...</td>\n",
       "      <td>And I *thought* that was a *privilege* , and i...</td>\n",
       "      <td>I was not *aware* that I was not the only pers...</td>\n",
       "    </tr>\n",
       "    <tr>\n",
       "      <th>20044</th>\n",
       "      <td>en</td>\n",
       "      <td>entailment</td>\n",
       "      <td>And I thought that was a privilege, and it's s...</td>\n",
       "      <td>I was under the impression that I was the only...</td>\n",
       "      <td>And I *thought* that was a *privilege* , and i...</td>\n",
       "      <td>I was *under* the *impression* that I was the ...</td>\n",
       "    </tr>\n",
       "    <tr>\n",
       "      <th>...</th>\n",
       "      <td>...</td>\n",
       "      <td>...</td>\n",
       "      <td>...</td>\n",
       "      <td>...</td>\n",
       "      <td>...</td>\n",
       "      <td>...</td>\n",
       "    </tr>\n",
       "    <tr>\n",
       "      <th>25045</th>\n",
       "      <td>en</td>\n",
       "      <td>entailment</td>\n",
       "      <td>Davidson should not adopt the pronunciation of...</td>\n",
       "      <td>Davidson shouldn't talk in a way where bone an...</td>\n",
       "      <td>Davidson should not *adopt* the *pronunciation...</td>\n",
       "      <td>Davidson *shouldn* ' t *talk* in a way where b...</td>\n",
       "    </tr>\n",
       "    <tr>\n",
       "      <th>25046</th>\n",
       "      <td>en</td>\n",
       "      <td>contradiction</td>\n",
       "      <td>Davidson should not adopt the pronunciation of...</td>\n",
       "      <td>It would be better if Davidson rhymed the word...</td>\n",
       "      <td>Davidson *should* not *adopt* the *pronunciati...</td>\n",
       "      <td>It *would* be *better* *if* Davidson *rhymed* ...</td>\n",
       "    </tr>\n",
       "    <tr>\n",
       "      <th>25047</th>\n",
       "      <td>en</td>\n",
       "      <td>neutral</td>\n",
       "      <td>The average novel of 200,000 words for $25 wor...</td>\n",
       "      <td>A 200,000 word novel at $25 is a fair price.</td>\n",
       "      <td>The average novel of 200 , 000 words for $ 25 ...</td>\n",
       "      <td>A 200 , 000 *word* novel at $ 25 is a *fair* *...</td>\n",
       "    </tr>\n",
       "    <tr>\n",
       "      <th>25048</th>\n",
       "      <td>en</td>\n",
       "      <td>contradiction</td>\n",
       "      <td>The average novel of 200,000 words for $25 wor...</td>\n",
       "      <td>A 200,000 word novel for $25 is 4,000 words pe...</td>\n",
       "      <td>The average novel of 200 , 000 words for $ 25 ...</td>\n",
       "      <td>A 200 , 000 *word* novel for $ 25 is *4* , 000...</td>\n",
       "    </tr>\n",
       "    <tr>\n",
       "      <th>25049</th>\n",
       "      <td>en</td>\n",
       "      <td>entailment</td>\n",
       "      <td>The average novel of 200,000 words for $25 wor...</td>\n",
       "      <td>A 200,000 word novel for $25 is 8,000 words pe...</td>\n",
       "      <td>The *average* novel of 200 , 000 words for $ 2...</td>\n",
       "      <td>A 200 , 000 *word* novel for $ 25 is *8* , 000...</td>\n",
       "    </tr>\n",
       "  </tbody>\n",
       "</table>\n",
       "<p>5010 rows × 6 columns</p>\n",
       "</div>"
      ],
      "text/plain": [
       "      language          label  \\\n",
       "20040       en  contradiction   \n",
       "20041       en     entailment   \n",
       "20042       en        neutral   \n",
       "20043       en        neutral   \n",
       "20044       en     entailment   \n",
       "...        ...            ...   \n",
       "25045       en     entailment   \n",
       "25046       en  contradiction   \n",
       "25047       en        neutral   \n",
       "25048       en  contradiction   \n",
       "25049       en     entailment   \n",
       "\n",
       "                                                 premise  \\\n",
       "20040  Well, I wasn't even thinking about that, but I...   \n",
       "20041  Well, I wasn't even thinking about that, but I...   \n",
       "20042  Well, I wasn't even thinking about that, but I...   \n",
       "20043  And I thought that was a privilege, and it's s...   \n",
       "20044  And I thought that was a privilege, and it's s...   \n",
       "...                                                  ...   \n",
       "25045  Davidson should not adopt the pronunciation of...   \n",
       "25046  Davidson should not adopt the pronunciation of...   \n",
       "25047  The average novel of 200,000 words for $25 wor...   \n",
       "25048  The average novel of 200,000 words for $25 wor...   \n",
       "25049  The average novel of 200,000 words for $25 wor...   \n",
       "\n",
       "                                              hypothesis  \\\n",
       "20040                      I havent spoken to him again.   \n",
       "20041  I was so upset that I just started talking to ...   \n",
       "20042                               We had a great talk.   \n",
       "20043  I was not aware that I was not the only person...   \n",
       "20044  I was under the impression that I was the only...   \n",
       "...                                                  ...   \n",
       "25045  Davidson shouldn't talk in a way where bone an...   \n",
       "25046  It would be better if Davidson rhymed the word...   \n",
       "25047       A 200,000 word novel at $25 is a fair price.   \n",
       "25048  A 200,000 word novel for $25 is 4,000 words pe...   \n",
       "25049  A 200,000 word novel for $25 is 8,000 words pe...   \n",
       "\n",
       "                                     premise_highlighted  \\\n",
       "20040  Well , I wasn ' t even thinking about that , b...   \n",
       "20041  Well , I wasn ' t even thinking about that , b...   \n",
       "20042  Well , I wasn ' t even thinking about that , b...   \n",
       "20043  And I *thought* that was a *privilege* , and i...   \n",
       "20044  And I *thought* that was a *privilege* , and i...   \n",
       "...                                                  ...   \n",
       "25045  Davidson should not *adopt* the *pronunciation...   \n",
       "25046  Davidson *should* not *adopt* the *pronunciati...   \n",
       "25047  The average novel of 200 , 000 words for $ 25 ...   \n",
       "25048  The average novel of 200 , 000 words for $ 25 ...   \n",
       "25049  The *average* novel of 200 , 000 words for $ 2...   \n",
       "\n",
       "                                  hypothesis_highlighted  \n",
       "20040               I *havent* *spoken* to him *again* .  \n",
       "20041  I was so *upset* that I *just* *started* talki...  \n",
       "20042                          We had a *great* *talk* .  \n",
       "20043  I was not *aware* that I was not the only pers...  \n",
       "20044  I was *under* the *impression* that I was the ...  \n",
       "...                                                  ...  \n",
       "25045  Davidson *shouldn* ' t *talk* in a way where b...  \n",
       "25046  It *would* be *better* *if* Davidson *rhymed* ...  \n",
       "25047  A 200 , 000 *word* novel at $ 25 is a *fair* *...  \n",
       "25048  A 200 , 000 *word* novel for $ 25 is *4* , 000...  \n",
       "25049  A 200 , 000 *word* novel for $ 25 is *8* , 000...  \n",
       "\n",
       "[5010 rows x 6 columns]"
      ]
     },
     "execution_count": 8,
     "metadata": {},
     "output_type": "execute_result"
    }
   ],
   "source": [
    "import pandas as pd\n",
    "df = pd.read_csv('exnli_test.csv', engine='python', encoding='utf-8')\n",
    "df[df.language == 'en']"
   ]
  },
  {
   "cell_type": "markdown",
   "metadata": {
    "id": "ZKzLSn81YFqK"
   },
   "source": [
    "## Evaluate Multilingual Plausibility for all languages"
   ]
  },
  {
   "cell_type": "code",
   "execution_count": 9,
   "metadata": {
    "colab": {
     "base_uri": "https://localhost:8080/"
    },
    "id": "xMmODvQp0O9E",
    "outputId": "7e204298-7d78-4970-f171-331e22b7291a"
   },
   "outputs": [
    {
     "name": "stdout",
     "output_type": "stream",
     "text": [
      "ar\n"
     ]
    },
    {
     "name": "stderr",
     "output_type": "stream",
     "text": [
      "100%|██████████| 627/627 [00:46<00:00, 13.54it/s]\n"
     ]
    },
    {
     "name": "stdout",
     "output_type": "stream",
     "text": [
      "MAP score for ar: 0.6632450105527579\n",
      "bg\n"
     ]
    },
    {
     "name": "stderr",
     "output_type": "stream",
     "text": [
      "100%|██████████| 627/627 [00:48<00:00, 12.96it/s]\n"
     ]
    },
    {
     "name": "stdout",
     "output_type": "stream",
     "text": [
      "MAP score for bg: 0.7005667630172827\n",
      "de\n"
     ]
    },
    {
     "name": "stderr",
     "output_type": "stream",
     "text": [
      "100%|██████████| 627/627 [00:44<00:00, 14.04it/s]\n"
     ]
    },
    {
     "name": "stdout",
     "output_type": "stream",
     "text": [
      "MAP score for de: 0.7320776542448928\n",
      "el\n"
     ]
    },
    {
     "name": "stderr",
     "output_type": "stream",
     "text": [
      "100%|██████████| 627/627 [00:58<00:00, 10.67it/s]\n"
     ]
    },
    {
     "name": "stdout",
     "output_type": "stream",
     "text": [
      "MAP score for el: 0.6959715779373153\n",
      "en\n"
     ]
    },
    {
     "name": "stderr",
     "output_type": "stream",
     "text": [
      "100%|██████████| 627/627 [00:43<00:00, 14.34it/s]\n"
     ]
    },
    {
     "name": "stdout",
     "output_type": "stream",
     "text": [
      "MAP score for en: 1.0\n",
      "es\n"
     ]
    },
    {
     "name": "stderr",
     "output_type": "stream",
     "text": [
      "100%|██████████| 627/627 [00:44<00:00, 14.06it/s]\n"
     ]
    },
    {
     "name": "stdout",
     "output_type": "stream",
     "text": [
      "MAP score for es: 0.7664286772544779\n",
      "fr\n"
     ]
    },
    {
     "name": "stderr",
     "output_type": "stream",
     "text": [
      "100%|██████████| 627/627 [00:45<00:00, 13.68it/s]\n"
     ]
    },
    {
     "name": "stdout",
     "output_type": "stream",
     "text": [
      "MAP score for fr: 0.7391015385448011\n",
      "hi\n"
     ]
    },
    {
     "name": "stderr",
     "output_type": "stream",
     "text": [
      "100%|██████████| 627/627 [00:52<00:00, 11.96it/s]\n"
     ]
    },
    {
     "name": "stdout",
     "output_type": "stream",
     "text": [
      "MAP score for hi: 0.6040199596274182\n",
      "ru\n"
     ]
    },
    {
     "name": "stderr",
     "output_type": "stream",
     "text": [
      "100%|██████████| 627/627 [00:47<00:00, 13.17it/s]\n",
      "/home/pyanardag/miniconda3/envs/clip_prefix_caption/lib/python3.9/site-packages/sklearn/metrics/_ranking.py:864: RuntimeWarning: invalid value encountered in true_divide\n",
      "  recall = tps / tps[-1]\n"
     ]
    },
    {
     "name": "stdout",
     "output_type": "stream",
     "text": [
      "MAP score for ru: 0.6857346896929614\n",
      "sw\n"
     ]
    },
    {
     "name": "stderr",
     "output_type": "stream",
     "text": [
      "100%|██████████| 627/627 [00:47<00:00, 13.19it/s]\n",
      "/home/pyanardag/miniconda3/envs/clip_prefix_caption/lib/python3.9/site-packages/sklearn/metrics/_ranking.py:864: RuntimeWarning: invalid value encountered in true_divide\n",
      "  recall = tps / tps[-1]\n",
      "/home/pyanardag/miniconda3/envs/clip_prefix_caption/lib/python3.9/site-packages/sklearn/metrics/_ranking.py:864: RuntimeWarning: invalid value encountered in true_divide\n",
      "  recall = tps / tps[-1]\n",
      "/home/pyanardag/miniconda3/envs/clip_prefix_caption/lib/python3.9/site-packages/sklearn/metrics/_ranking.py:864: RuntimeWarning: invalid value encountered in true_divide\n",
      "  recall = tps / tps[-1]\n",
      "/home/pyanardag/miniconda3/envs/clip_prefix_caption/lib/python3.9/site-packages/sklearn/metrics/_ranking.py:864: RuntimeWarning: invalid value encountered in true_divide\n",
      "  recall = tps / tps[-1]\n",
      "/home/pyanardag/miniconda3/envs/clip_prefix_caption/lib/python3.9/site-packages/sklearn/metrics/_ranking.py:864: RuntimeWarning: invalid value encountered in true_divide\n",
      "  recall = tps / tps[-1]\n"
     ]
    },
    {
     "name": "stdout",
     "output_type": "stream",
     "text": [
      "MAP score for sw: 0.5798971496373715\n",
      "th\n"
     ]
    },
    {
     "name": "stderr",
     "output_type": "stream",
     "text": [
      "100%|██████████| 627/627 [01:13<00:00,  8.50it/s]\n",
      "/home/pyanardag/miniconda3/envs/clip_prefix_caption/lib/python3.9/site-packages/sklearn/metrics/_ranking.py:864: RuntimeWarning: invalid value encountered in true_divide\n",
      "  recall = tps / tps[-1]\n",
      "/home/pyanardag/miniconda3/envs/clip_prefix_caption/lib/python3.9/site-packages/sklearn/metrics/_ranking.py:864: RuntimeWarning: invalid value encountered in true_divide\n",
      "  recall = tps / tps[-1]\n",
      "/home/pyanardag/miniconda3/envs/clip_prefix_caption/lib/python3.9/site-packages/sklearn/metrics/_ranking.py:864: RuntimeWarning: invalid value encountered in true_divide\n",
      "  recall = tps / tps[-1]\n",
      "/home/pyanardag/miniconda3/envs/clip_prefix_caption/lib/python3.9/site-packages/sklearn/metrics/_ranking.py:864: RuntimeWarning: invalid value encountered in true_divide\n",
      "  recall = tps / tps[-1]\n",
      "/home/pyanardag/miniconda3/envs/clip_prefix_caption/lib/python3.9/site-packages/sklearn/metrics/_ranking.py:864: RuntimeWarning: invalid value encountered in true_divide\n",
      "  recall = tps / tps[-1]\n",
      "/home/pyanardag/miniconda3/envs/clip_prefix_caption/lib/python3.9/site-packages/sklearn/metrics/_ranking.py:864: RuntimeWarning: invalid value encountered in true_divide\n",
      "  recall = tps / tps[-1]\n",
      "/home/pyanardag/miniconda3/envs/clip_prefix_caption/lib/python3.9/site-packages/sklearn/metrics/_ranking.py:864: RuntimeWarning: invalid value encountered in true_divide\n",
      "  recall = tps / tps[-1]\n",
      "/home/pyanardag/miniconda3/envs/clip_prefix_caption/lib/python3.9/site-packages/sklearn/metrics/_ranking.py:864: RuntimeWarning: invalid value encountered in true_divide\n",
      "  recall = tps / tps[-1]\n",
      "/home/pyanardag/miniconda3/envs/clip_prefix_caption/lib/python3.9/site-packages/sklearn/metrics/_ranking.py:864: RuntimeWarning: invalid value encountered in true_divide\n",
      "  recall = tps / tps[-1]\n",
      "/home/pyanardag/miniconda3/envs/clip_prefix_caption/lib/python3.9/site-packages/sklearn/metrics/_ranking.py:864: RuntimeWarning: invalid value encountered in true_divide\n",
      "  recall = tps / tps[-1]\n",
      "/home/pyanardag/miniconda3/envs/clip_prefix_caption/lib/python3.9/site-packages/sklearn/metrics/_ranking.py:864: RuntimeWarning: invalid value encountered in true_divide\n",
      "  recall = tps / tps[-1]\n",
      "/home/pyanardag/miniconda3/envs/clip_prefix_caption/lib/python3.9/site-packages/sklearn/metrics/_ranking.py:864: RuntimeWarning: invalid value encountered in true_divide\n",
      "  recall = tps / tps[-1]\n",
      "/home/pyanardag/miniconda3/envs/clip_prefix_caption/lib/python3.9/site-packages/sklearn/metrics/_ranking.py:864: RuntimeWarning: invalid value encountered in true_divide\n",
      "  recall = tps / tps[-1]\n",
      "/home/pyanardag/miniconda3/envs/clip_prefix_caption/lib/python3.9/site-packages/sklearn/metrics/_ranking.py:864: RuntimeWarning: invalid value encountered in true_divide\n",
      "  recall = tps / tps[-1]\n",
      "/home/pyanardag/miniconda3/envs/clip_prefix_caption/lib/python3.9/site-packages/sklearn/metrics/_ranking.py:864: RuntimeWarning: invalid value encountered in true_divide\n",
      "  recall = tps / tps[-1]\n",
      "/home/pyanardag/miniconda3/envs/clip_prefix_caption/lib/python3.9/site-packages/sklearn/metrics/_ranking.py:864: RuntimeWarning: invalid value encountered in true_divide\n",
      "  recall = tps / tps[-1]\n",
      "/home/pyanardag/miniconda3/envs/clip_prefix_caption/lib/python3.9/site-packages/sklearn/metrics/_ranking.py:864: RuntimeWarning: invalid value encountered in true_divide\n",
      "  recall = tps / tps[-1]\n",
      "/home/pyanardag/miniconda3/envs/clip_prefix_caption/lib/python3.9/site-packages/sklearn/metrics/_ranking.py:864: RuntimeWarning: invalid value encountered in true_divide\n",
      "  recall = tps / tps[-1]\n",
      "/home/pyanardag/miniconda3/envs/clip_prefix_caption/lib/python3.9/site-packages/sklearn/metrics/_ranking.py:864: RuntimeWarning: invalid value encountered in true_divide\n",
      "  recall = tps / tps[-1]\n",
      "/home/pyanardag/miniconda3/envs/clip_prefix_caption/lib/python3.9/site-packages/sklearn/metrics/_ranking.py:864: RuntimeWarning: invalid value encountered in true_divide\n",
      "  recall = tps / tps[-1]\n"
     ]
    },
    {
     "name": "stdout",
     "output_type": "stream",
     "text": [
      "MAP score for th: 0.931514867206828\n",
      "tr\n"
     ]
    },
    {
     "name": "stderr",
     "output_type": "stream",
     "text": [
      "100%|██████████| 627/627 [00:46<00:00, 13.50it/s]\n"
     ]
    },
    {
     "name": "stdout",
     "output_type": "stream",
     "text": [
      "MAP score for tr: 0.6652962202865744\n",
      "ur\n"
     ]
    },
    {
     "name": "stderr",
     "output_type": "stream",
     "text": [
      "100%|██████████| 627/627 [00:50<00:00, 12.50it/s]\n",
      "/home/pyanardag/miniconda3/envs/clip_prefix_caption/lib/python3.9/site-packages/sklearn/metrics/_ranking.py:864: RuntimeWarning: invalid value encountered in true_divide\n",
      "  recall = tps / tps[-1]\n",
      "/home/pyanardag/miniconda3/envs/clip_prefix_caption/lib/python3.9/site-packages/sklearn/metrics/_ranking.py:864: RuntimeWarning: invalid value encountered in true_divide\n",
      "  recall = tps / tps[-1]\n",
      "/home/pyanardag/miniconda3/envs/clip_prefix_caption/lib/python3.9/site-packages/sklearn/metrics/_ranking.py:864: RuntimeWarning: invalid value encountered in true_divide\n",
      "  recall = tps / tps[-1]\n",
      "/home/pyanardag/miniconda3/envs/clip_prefix_caption/lib/python3.9/site-packages/sklearn/metrics/_ranking.py:864: RuntimeWarning: invalid value encountered in true_divide\n",
      "  recall = tps / tps[-1]\n"
     ]
    },
    {
     "name": "stdout",
     "output_type": "stream",
     "text": [
      "MAP score for ur: 0.5745013451420691\n",
      "vi\n"
     ]
    },
    {
     "name": "stderr",
     "output_type": "stream",
     "text": [
      "100%|██████████| 627/627 [00:45<00:00, 13.83it/s]\n"
     ]
    },
    {
     "name": "stdout",
     "output_type": "stream",
     "text": [
      "MAP score for vi: 0.5717117424783905\n",
      "zh\n"
     ]
    },
    {
     "name": "stderr",
     "output_type": "stream",
     "text": [
      "100%|██████████| 627/627 [00:45<00:00, 13.74it/s]\n",
      "/home/pyanardag/miniconda3/envs/clip_prefix_caption/lib/python3.9/site-packages/sklearn/metrics/_ranking.py:864: RuntimeWarning: invalid value encountered in true_divide\n",
      "  recall = tps / tps[-1]\n"
     ]
    },
    {
     "name": "stdout",
     "output_type": "stream",
     "text": [
      "MAP score for zh: 0.5432442886485477\n"
     ]
    }
   ],
   "source": [
    "# clear previous attribution records\n",
    "attribution.records.clear()\n",
    "attribution.config.remove_sep_tokens = True\n",
    "# get xnli languages\n",
    "languages = dataset['hypothesis'][0]['language']\n",
    "map_scores = multilingual_plausibility.evaluate_multilingual_plausibility('exnli_test.csv', attribution, languages, 8)"
   ]
  },
  {
   "cell_type": "code",
   "execution_count": 10,
   "metadata": {
    "colab": {
     "base_uri": "https://localhost:8080/"
    },
    "id": "B3jc4IJS0KrP",
    "outputId": "427104c2-a0b0-4374-fd99-b243b81cc9bb"
   },
   "outputs": [
    {
     "name": "stdout",
     "output_type": "stream",
     "text": [
      "ar MAP score: 0.6632450105527579 \n",
      "bg MAP score: 0.7005667630172827 \n",
      "de MAP score: 0.7320776542448928 \n",
      "el MAP score: 0.6959715779373153 \n",
      "en MAP score: 1.0 \n",
      "es MAP score: 0.7664286772544779 \n",
      "fr MAP score: 0.7391015385448011 \n",
      "hi MAP score: 0.6040199596274182 \n",
      "ru MAP score: 0.6857346896929614 \n",
      "sw MAP score: 0.5798971496373715 \n",
      "th MAP score: 0.931514867206828 \n",
      "tr MAP score: 0.6652962202865744 \n",
      "ur MAP score: 0.5745013451420691 \n",
      "vi MAP score: 0.5717117424783905 \n",
      "zh MAP score: 0.5432442886485477 \n"
     ]
    }
   ],
   "source": [
    "for lang, map_score in map_scores.items():\n",
    "  print(f\"{lang} MAP score: {map_score} \")"
   ]
  }
 ],
 "metadata": {
  "accelerator": "GPU",
  "colab": {
   "collapsed_sections": [
    "cZqU29kKNNVB",
    "HfWBqal4PfyM"
   ],
   "name": "MultilingualPlausibility.ipynb",
   "provenance": []
  },
  "kernelspec": {
   "display_name": "clip_prefix_caption",
   "language": "python",
   "name": "clip_prefix_caption"
  },
  "language_info": {
   "codemirror_mode": {
    "name": "ipython",
    "version": 3
   },
   "file_extension": ".py",
   "mimetype": "text/x-python",
   "name": "python",
   "nbconvert_exporter": "python",
   "pygments_lexer": "ipython3",
   "version": "3.9.7"
  },
  "widgets": {
   "application/vnd.jupyter.widget-state+json": {
    "03802cf93efd47cd8c842a47e51245f1": {
     "model_module": "@jupyter-widgets/base",
     "model_module_version": "1.2.0",
     "model_name": "LayoutModel",
     "state": {
      "_model_module": "@jupyter-widgets/base",
      "_model_module_version": "1.2.0",
      "_model_name": "LayoutModel",
      "_view_count": null,
      "_view_module": "@jupyter-widgets/base",
      "_view_module_version": "1.2.0",
      "_view_name": "LayoutView",
      "align_content": null,
      "align_items": null,
      "align_self": null,
      "border": null,
      "bottom": null,
      "display": null,
      "flex": null,
      "flex_flow": null,
      "grid_area": null,
      "grid_auto_columns": null,
      "grid_auto_flow": null,
      "grid_auto_rows": null,
      "grid_column": null,
      "grid_gap": null,
      "grid_row": null,
      "grid_template_areas": null,
      "grid_template_columns": null,
      "grid_template_rows": null,
      "height": null,
      "justify_content": null,
      "justify_items": null,
      "left": null,
      "margin": null,
      "max_height": null,
      "max_width": null,
      "min_height": null,
      "min_width": null,
      "object_fit": null,
      "object_position": null,
      "order": null,
      "overflow": null,
      "overflow_x": null,
      "overflow_y": null,
      "padding": null,
      "right": null,
      "top": null,
      "visibility": null,
      "width": null
     }
    },
    "076f1a4e7bd240c382286c5eed80e999": {
     "model_module": "@jupyter-widgets/controls",
     "model_module_version": "1.5.0",
     "model_name": "DescriptionStyleModel",
     "state": {
      "_model_module": "@jupyter-widgets/controls",
      "_model_module_version": "1.5.0",
      "_model_name": "DescriptionStyleModel",
      "_view_count": null,
      "_view_module": "@jupyter-widgets/base",
      "_view_module_version": "1.2.0",
      "_view_name": "StyleView",
      "description_width": ""
     }
    },
    "0955eb11bb89457bb674fd7ef4411f72": {
     "model_module": "@jupyter-widgets/base",
     "model_module_version": "1.2.0",
     "model_name": "LayoutModel",
     "state": {
      "_model_module": "@jupyter-widgets/base",
      "_model_module_version": "1.2.0",
      "_model_name": "LayoutModel",
      "_view_count": null,
      "_view_module": "@jupyter-widgets/base",
      "_view_module_version": "1.2.0",
      "_view_name": "LayoutView",
      "align_content": null,
      "align_items": null,
      "align_self": null,
      "border": null,
      "bottom": null,
      "display": null,
      "flex": null,
      "flex_flow": null,
      "grid_area": null,
      "grid_auto_columns": null,
      "grid_auto_flow": null,
      "grid_auto_rows": null,
      "grid_column": null,
      "grid_gap": null,
      "grid_row": null,
      "grid_template_areas": null,
      "grid_template_columns": null,
      "grid_template_rows": null,
      "height": null,
      "justify_content": null,
      "justify_items": null,
      "left": null,
      "margin": null,
      "max_height": null,
      "max_width": null,
      "min_height": null,
      "min_width": null,
      "object_fit": null,
      "object_position": null,
      "order": null,
      "overflow": null,
      "overflow_x": null,
      "overflow_y": null,
      "padding": null,
      "right": null,
      "top": null,
      "visibility": null,
      "width": null
     }
    },
    "11b78aa644c14fca86a821d9a2cede61": {
     "model_module": "@jupyter-widgets/controls",
     "model_module_version": "1.5.0",
     "model_name": "HTMLModel",
     "state": {
      "_dom_classes": [],
      "_model_module": "@jupyter-widgets/controls",
      "_model_module_version": "1.5.0",
      "_model_name": "HTMLModel",
      "_view_count": null,
      "_view_module": "@jupyter-widgets/controls",
      "_view_module_version": "1.5.0",
      "_view_name": "HTMLView",
      "description": "",
      "description_tooltip": null,
      "layout": "IPY_MODEL_03802cf93efd47cd8c842a47e51245f1",
      "placeholder": "​",
      "style": "IPY_MODEL_a50c45ca4a1c4946ad4203a1669a3b04",
      "value": "Downloading: 100%"
     }
    },
    "12cbd6581417446dbb1280fa213a6126": {
     "model_module": "@jupyter-widgets/controls",
     "model_module_version": "1.5.0",
     "model_name": "HTMLModel",
     "state": {
      "_dom_classes": [],
      "_model_module": "@jupyter-widgets/controls",
      "_model_module_version": "1.5.0",
      "_model_name": "HTMLModel",
      "_view_count": null,
      "_view_module": "@jupyter-widgets/controls",
      "_view_module_version": "1.5.0",
      "_view_name": "HTMLView",
      "description": "",
      "description_tooltip": null,
      "layout": "IPY_MODEL_906b43d7868d432b8bf1439e87f7893c",
      "placeholder": "​",
      "style": "IPY_MODEL_e11da2065da04331b5166d9f78fd37be",
      "value": " 226k/226k [00:00&lt;00:00, 669kB/s]"
     }
    },
    "1dfc64857f784a3a87074ab3eafa7ae1": {
     "model_module": "@jupyter-widgets/base",
     "model_module_version": "1.2.0",
     "model_name": "LayoutModel",
     "state": {
      "_model_module": "@jupyter-widgets/base",
      "_model_module_version": "1.2.0",
      "_model_name": "LayoutModel",
      "_view_count": null,
      "_view_module": "@jupyter-widgets/base",
      "_view_module_version": "1.2.0",
      "_view_name": "LayoutView",
      "align_content": null,
      "align_items": null,
      "align_self": null,
      "border": null,
      "bottom": null,
      "display": null,
      "flex": null,
      "flex_flow": null,
      "grid_area": null,
      "grid_auto_columns": null,
      "grid_auto_flow": null,
      "grid_auto_rows": null,
      "grid_column": null,
      "grid_gap": null,
      "grid_row": null,
      "grid_template_areas": null,
      "grid_template_columns": null,
      "grid_template_rows": null,
      "height": null,
      "justify_content": null,
      "justify_items": null,
      "left": null,
      "margin": null,
      "max_height": null,
      "max_width": null,
      "min_height": null,
      "min_width": null,
      "object_fit": null,
      "object_position": null,
      "order": null,
      "overflow": null,
      "overflow_x": null,
      "overflow_y": null,
      "padding": null,
      "right": null,
      "top": null,
      "visibility": null,
      "width": null
     }
    },
    "260af272ede447d0a8593c5227c5c902": {
     "model_module": "@jupyter-widgets/base",
     "model_module_version": "1.2.0",
     "model_name": "LayoutModel",
     "state": {
      "_model_module": "@jupyter-widgets/base",
      "_model_module_version": "1.2.0",
      "_model_name": "LayoutModel",
      "_view_count": null,
      "_view_module": "@jupyter-widgets/base",
      "_view_module_version": "1.2.0",
      "_view_name": "LayoutView",
      "align_content": null,
      "align_items": null,
      "align_self": null,
      "border": null,
      "bottom": null,
      "display": null,
      "flex": null,
      "flex_flow": null,
      "grid_area": null,
      "grid_auto_columns": null,
      "grid_auto_flow": null,
      "grid_auto_rows": null,
      "grid_column": null,
      "grid_gap": null,
      "grid_row": null,
      "grid_template_areas": null,
      "grid_template_columns": null,
      "grid_template_rows": null,
      "height": null,
      "justify_content": null,
      "justify_items": null,
      "left": null,
      "margin": null,
      "max_height": null,
      "max_width": null,
      "min_height": null,
      "min_width": null,
      "object_fit": null,
      "object_position": null,
      "order": null,
      "overflow": null,
      "overflow_x": null,
      "overflow_y": null,
      "padding": null,
      "right": null,
      "top": null,
      "visibility": null,
      "width": null
     }
    },
    "2e3a4c0b6a3346ca9e6d02b41124ddce": {
     "model_module": "@jupyter-widgets/base",
     "model_module_version": "1.2.0",
     "model_name": "LayoutModel",
     "state": {
      "_model_module": "@jupyter-widgets/base",
      "_model_module_version": "1.2.0",
      "_model_name": "LayoutModel",
      "_view_count": null,
      "_view_module": "@jupyter-widgets/base",
      "_view_module_version": "1.2.0",
      "_view_name": "LayoutView",
      "align_content": null,
      "align_items": null,
      "align_self": null,
      "border": null,
      "bottom": null,
      "display": null,
      "flex": null,
      "flex_flow": null,
      "grid_area": null,
      "grid_auto_columns": null,
      "grid_auto_flow": null,
      "grid_auto_rows": null,
      "grid_column": null,
      "grid_gap": null,
      "grid_row": null,
      "grid_template_areas": null,
      "grid_template_columns": null,
      "grid_template_rows": null,
      "height": null,
      "justify_content": null,
      "justify_items": null,
      "left": null,
      "margin": null,
      "max_height": null,
      "max_width": null,
      "min_height": null,
      "min_width": null,
      "object_fit": null,
      "object_position": null,
      "order": null,
      "overflow": null,
      "overflow_x": null,
      "overflow_y": null,
      "padding": null,
      "right": null,
      "top": null,
      "visibility": null,
      "width": null
     }
    },
    "31f93f44c70d45b5b90e35b2d350f702": {
     "model_module": "@jupyter-widgets/controls",
     "model_module_version": "1.5.0",
     "model_name": "DescriptionStyleModel",
     "state": {
      "_model_module": "@jupyter-widgets/controls",
      "_model_module_version": "1.5.0",
      "_model_name": "DescriptionStyleModel",
      "_view_count": null,
      "_view_module": "@jupyter-widgets/base",
      "_view_module_version": "1.2.0",
      "_view_name": "StyleView",
      "description_width": ""
     }
    },
    "371817264ef7464cb146e1ac02d44ffa": {
     "model_module": "@jupyter-widgets/base",
     "model_module_version": "1.2.0",
     "model_name": "LayoutModel",
     "state": {
      "_model_module": "@jupyter-widgets/base",
      "_model_module_version": "1.2.0",
      "_model_name": "LayoutModel",
      "_view_count": null,
      "_view_module": "@jupyter-widgets/base",
      "_view_module_version": "1.2.0",
      "_view_name": "LayoutView",
      "align_content": null,
      "align_items": null,
      "align_self": null,
      "border": null,
      "bottom": null,
      "display": null,
      "flex": null,
      "flex_flow": null,
      "grid_area": null,
      "grid_auto_columns": null,
      "grid_auto_flow": null,
      "grid_auto_rows": null,
      "grid_column": null,
      "grid_gap": null,
      "grid_row": null,
      "grid_template_areas": null,
      "grid_template_columns": null,
      "grid_template_rows": null,
      "height": null,
      "justify_content": null,
      "justify_items": null,
      "left": null,
      "margin": null,
      "max_height": null,
      "max_width": null,
      "min_height": null,
      "min_width": null,
      "object_fit": null,
      "object_position": null,
      "order": null,
      "overflow": null,
      "overflow_x": null,
      "overflow_y": null,
      "padding": null,
      "right": null,
      "top": null,
      "visibility": null,
      "width": null
     }
    },
    "44416eef316f4e5585b3ba671d90162b": {
     "model_module": "@jupyter-widgets/base",
     "model_module_version": "1.2.0",
     "model_name": "LayoutModel",
     "state": {
      "_model_module": "@jupyter-widgets/base",
      "_model_module_version": "1.2.0",
      "_model_name": "LayoutModel",
      "_view_count": null,
      "_view_module": "@jupyter-widgets/base",
      "_view_module_version": "1.2.0",
      "_view_name": "LayoutView",
      "align_content": null,
      "align_items": null,
      "align_self": null,
      "border": null,
      "bottom": null,
      "display": null,
      "flex": null,
      "flex_flow": null,
      "grid_area": null,
      "grid_auto_columns": null,
      "grid_auto_flow": null,
      "grid_auto_rows": null,
      "grid_column": null,
      "grid_gap": null,
      "grid_row": null,
      "grid_template_areas": null,
      "grid_template_columns": null,
      "grid_template_rows": null,
      "height": null,
      "justify_content": null,
      "justify_items": null,
      "left": null,
      "margin": null,
      "max_height": null,
      "max_width": null,
      "min_height": null,
      "min_width": null,
      "object_fit": null,
      "object_position": null,
      "order": null,
      "overflow": null,
      "overflow_x": null,
      "overflow_y": null,
      "padding": null,
      "right": null,
      "top": null,
      "visibility": null,
      "width": null
     }
    },
    "68f919cf711d49438d4e6408a786f34b": {
     "model_module": "@jupyter-widgets/controls",
     "model_module_version": "1.5.0",
     "model_name": "HTMLModel",
     "state": {
      "_dom_classes": [],
      "_model_module": "@jupyter-widgets/controls",
      "_model_module_version": "1.5.0",
      "_model_name": "HTMLModel",
      "_view_count": null,
      "_view_module": "@jupyter-widgets/controls",
      "_view_module_version": "1.5.0",
      "_view_name": "HTMLView",
      "description": "",
      "description_tooltip": null,
      "layout": "IPY_MODEL_ce5a5fd9f6044821a5a92061fc505e43",
      "placeholder": "​",
      "style": "IPY_MODEL_076f1a4e7bd240c382286c5eed80e999",
      "value": "Downloading: 100%"
     }
    },
    "6ad69e2ebbd94b7c9c503abe26cdc679": {
     "model_module": "@jupyter-widgets/controls",
     "model_module_version": "1.5.0",
     "model_name": "DescriptionStyleModel",
     "state": {
      "_model_module": "@jupyter-widgets/controls",
      "_model_module_version": "1.5.0",
      "_model_name": "DescriptionStyleModel",
      "_view_count": null,
      "_view_module": "@jupyter-widgets/base",
      "_view_module_version": "1.2.0",
      "_view_name": "StyleView",
      "description_width": ""
     }
    },
    "781dd118370c4264a626f0ad85c46aa9": {
     "model_module": "@jupyter-widgets/base",
     "model_module_version": "1.2.0",
     "model_name": "LayoutModel",
     "state": {
      "_model_module": "@jupyter-widgets/base",
      "_model_module_version": "1.2.0",
      "_model_name": "LayoutModel",
      "_view_count": null,
      "_view_module": "@jupyter-widgets/base",
      "_view_module_version": "1.2.0",
      "_view_name": "LayoutView",
      "align_content": null,
      "align_items": null,
      "align_self": null,
      "border": null,
      "bottom": null,
      "display": null,
      "flex": null,
      "flex_flow": null,
      "grid_area": null,
      "grid_auto_columns": null,
      "grid_auto_flow": null,
      "grid_auto_rows": null,
      "grid_column": null,
      "grid_gap": null,
      "grid_row": null,
      "grid_template_areas": null,
      "grid_template_columns": null,
      "grid_template_rows": null,
      "height": null,
      "justify_content": null,
      "justify_items": null,
      "left": null,
      "margin": null,
      "max_height": null,
      "max_width": null,
      "min_height": null,
      "min_width": null,
      "object_fit": null,
      "object_position": null,
      "order": null,
      "overflow": null,
      "overflow_x": null,
      "overflow_y": null,
      "padding": null,
      "right": null,
      "top": null,
      "visibility": null,
      "width": null
     }
    },
    "906b43d7868d432b8bf1439e87f7893c": {
     "model_module": "@jupyter-widgets/base",
     "model_module_version": "1.2.0",
     "model_name": "LayoutModel",
     "state": {
      "_model_module": "@jupyter-widgets/base",
      "_model_module_version": "1.2.0",
      "_model_name": "LayoutModel",
      "_view_count": null,
      "_view_module": "@jupyter-widgets/base",
      "_view_module_version": "1.2.0",
      "_view_name": "LayoutView",
      "align_content": null,
      "align_items": null,
      "align_self": null,
      "border": null,
      "bottom": null,
      "display": null,
      "flex": null,
      "flex_flow": null,
      "grid_area": null,
      "grid_auto_columns": null,
      "grid_auto_flow": null,
      "grid_auto_rows": null,
      "grid_column": null,
      "grid_gap": null,
      "grid_row": null,
      "grid_template_areas": null,
      "grid_template_columns": null,
      "grid_template_rows": null,
      "height": null,
      "justify_content": null,
      "justify_items": null,
      "left": null,
      "margin": null,
      "max_height": null,
      "max_width": null,
      "min_height": null,
      "min_width": null,
      "object_fit": null,
      "object_position": null,
      "order": null,
      "overflow": null,
      "overflow_x": null,
      "overflow_y": null,
      "padding": null,
      "right": null,
      "top": null,
      "visibility": null,
      "width": null
     }
    },
    "971864ff3a5746729db599926ad13e4c": {
     "model_module": "@jupyter-widgets/controls",
     "model_module_version": "1.5.0",
     "model_name": "HTMLModel",
     "state": {
      "_dom_classes": [],
      "_model_module": "@jupyter-widgets/controls",
      "_model_module_version": "1.5.0",
      "_model_name": "HTMLModel",
      "_view_count": null,
      "_view_module": "@jupyter-widgets/controls",
      "_view_module_version": "1.5.0",
      "_view_name": "HTMLView",
      "description": "",
      "description_tooltip": null,
      "layout": "IPY_MODEL_260af272ede447d0a8593c5227c5c902",
      "placeholder": "​",
      "style": "IPY_MODEL_fc48b34ad34c400a930b534472492d6a",
      "value": " 418M/418M [00:18&lt;00:00, 34.7MB/s]"
     }
    },
    "a194f40e648445d380ce2326fae613f5": {
     "model_module": "@jupyter-widgets/controls",
     "model_module_version": "1.5.0",
     "model_name": "HBoxModel",
     "state": {
      "_dom_classes": [],
      "_model_module": "@jupyter-widgets/controls",
      "_model_module_version": "1.5.0",
      "_model_name": "HBoxModel",
      "_view_count": null,
      "_view_module": "@jupyter-widgets/controls",
      "_view_module_version": "1.5.0",
      "_view_name": "HBoxView",
      "box_style": "",
      "children": [
       "IPY_MODEL_d8e2bf3d2da9425cbc71286dd4344401",
       "IPY_MODEL_bdd77839d7564822933842abf4c1bfdb",
       "IPY_MODEL_12cbd6581417446dbb1280fa213a6126"
      ],
      "layout": "IPY_MODEL_1dfc64857f784a3a87074ab3eafa7ae1"
     }
    },
    "a43f5a38bfdb4389bc8998ac5640d9f1": {
     "model_module": "@jupyter-widgets/controls",
     "model_module_version": "1.5.0",
     "model_name": "ProgressStyleModel",
     "state": {
      "_model_module": "@jupyter-widgets/controls",
      "_model_module_version": "1.5.0",
      "_model_name": "ProgressStyleModel",
      "_view_count": null,
      "_view_module": "@jupyter-widgets/base",
      "_view_module_version": "1.2.0",
      "_view_name": "StyleView",
      "bar_color": null,
      "description_width": ""
     }
    },
    "a50c45ca4a1c4946ad4203a1669a3b04": {
     "model_module": "@jupyter-widgets/controls",
     "model_module_version": "1.5.0",
     "model_name": "DescriptionStyleModel",
     "state": {
      "_model_module": "@jupyter-widgets/controls",
      "_model_module_version": "1.5.0",
      "_model_name": "DescriptionStyleModel",
      "_view_count": null,
      "_view_module": "@jupyter-widgets/base",
      "_view_module_version": "1.2.0",
      "_view_name": "StyleView",
      "description_width": ""
     }
    },
    "a626cbbd113b4ab88abc8ef6a0e5638d": {
     "model_module": "@jupyter-widgets/controls",
     "model_module_version": "1.5.0",
     "model_name": "FloatProgressModel",
     "state": {
      "_dom_classes": [],
      "_model_module": "@jupyter-widgets/controls",
      "_model_module_version": "1.5.0",
      "_model_name": "FloatProgressModel",
      "_view_count": null,
      "_view_module": "@jupyter-widgets/controls",
      "_view_module_version": "1.5.0",
      "_view_name": "ProgressView",
      "bar_style": "success",
      "description": "",
      "description_tooltip": null,
      "layout": "IPY_MODEL_371817264ef7464cb146e1ac02d44ffa",
      "max": 630,
      "min": 0,
      "orientation": "horizontal",
      "style": "IPY_MODEL_a43f5a38bfdb4389bc8998ac5640d9f1",
      "value": 630
     }
    },
    "a6e86657b8b6450bb451a971c6fb98f6": {
     "model_module": "@jupyter-widgets/controls",
     "model_module_version": "1.5.0",
     "model_name": "HBoxModel",
     "state": {
      "_dom_classes": [],
      "_model_module": "@jupyter-widgets/controls",
      "_model_module_version": "1.5.0",
      "_model_name": "HBoxModel",
      "_view_count": null,
      "_view_module": "@jupyter-widgets/controls",
      "_view_module_version": "1.5.0",
      "_view_name": "HBoxView",
      "box_style": "",
      "children": [
       "IPY_MODEL_68f919cf711d49438d4e6408a786f34b",
       "IPY_MODEL_f4e53c10661e4f0fb3ff168ef3ec0bf2",
       "IPY_MODEL_971864ff3a5746729db599926ad13e4c"
      ],
      "layout": "IPY_MODEL_2e3a4c0b6a3346ca9e6d02b41124ddce"
     }
    },
    "acf01993927240f79122ca50e91d4853": {
     "model_module": "@jupyter-widgets/base",
     "model_module_version": "1.2.0",
     "model_name": "LayoutModel",
     "state": {
      "_model_module": "@jupyter-widgets/base",
      "_model_module_version": "1.2.0",
      "_model_name": "LayoutModel",
      "_view_count": null,
      "_view_module": "@jupyter-widgets/base",
      "_view_module_version": "1.2.0",
      "_view_name": "LayoutView",
      "align_content": null,
      "align_items": null,
      "align_self": null,
      "border": null,
      "bottom": null,
      "display": null,
      "flex": null,
      "flex_flow": null,
      "grid_area": null,
      "grid_auto_columns": null,
      "grid_auto_flow": null,
      "grid_auto_rows": null,
      "grid_column": null,
      "grid_gap": null,
      "grid_row": null,
      "grid_template_areas": null,
      "grid_template_columns": null,
      "grid_template_rows": null,
      "height": null,
      "justify_content": null,
      "justify_items": null,
      "left": null,
      "margin": null,
      "max_height": null,
      "max_width": null,
      "min_height": null,
      "min_width": null,
      "object_fit": null,
      "object_position": null,
      "order": null,
      "overflow": null,
      "overflow_x": null,
      "overflow_y": null,
      "padding": null,
      "right": null,
      "top": null,
      "visibility": null,
      "width": null
     }
    },
    "b33f25f436134c8db454275147303827": {
     "model_module": "@jupyter-widgets/controls",
     "model_module_version": "1.5.0",
     "model_name": "HTMLModel",
     "state": {
      "_dom_classes": [],
      "_model_module": "@jupyter-widgets/controls",
      "_model_module_version": "1.5.0",
      "_model_name": "HTMLModel",
      "_view_count": null,
      "_view_module": "@jupyter-widgets/controls",
      "_view_module_version": "1.5.0",
      "_view_name": "HTMLView",
      "description": "",
      "description_tooltip": null,
      "layout": "IPY_MODEL_44416eef316f4e5585b3ba671d90162b",
      "placeholder": "​",
      "style": "IPY_MODEL_31f93f44c70d45b5b90e35b2d350f702",
      "value": " 630/630 [00:00&lt;00:00, 14.3kB/s]"
     }
    },
    "bdd77839d7564822933842abf4c1bfdb": {
     "model_module": "@jupyter-widgets/controls",
     "model_module_version": "1.5.0",
     "model_name": "FloatProgressModel",
     "state": {
      "_dom_classes": [],
      "_model_module": "@jupyter-widgets/controls",
      "_model_module_version": "1.5.0",
      "_model_name": "FloatProgressModel",
      "_view_count": null,
      "_view_module": "@jupyter-widgets/controls",
      "_view_module_version": "1.5.0",
      "_view_name": "ProgressView",
      "bar_style": "success",
      "description": "",
      "description_tooltip": null,
      "layout": "IPY_MODEL_ef0b39c86a164106aa26b0dba84ab773",
      "max": 231508,
      "min": 0,
      "orientation": "horizontal",
      "style": "IPY_MODEL_eb9064973b7b4aa9beb7f2edd4bebb76",
      "value": 231508
     }
    },
    "ce5a5fd9f6044821a5a92061fc505e43": {
     "model_module": "@jupyter-widgets/base",
     "model_module_version": "1.2.0",
     "model_name": "LayoutModel",
     "state": {
      "_model_module": "@jupyter-widgets/base",
      "_model_module_version": "1.2.0",
      "_model_name": "LayoutModel",
      "_view_count": null,
      "_view_module": "@jupyter-widgets/base",
      "_view_module_version": "1.2.0",
      "_view_name": "LayoutView",
      "align_content": null,
      "align_items": null,
      "align_self": null,
      "border": null,
      "bottom": null,
      "display": null,
      "flex": null,
      "flex_flow": null,
      "grid_area": null,
      "grid_auto_columns": null,
      "grid_auto_flow": null,
      "grid_auto_rows": null,
      "grid_column": null,
      "grid_gap": null,
      "grid_row": null,
      "grid_template_areas": null,
      "grid_template_columns": null,
      "grid_template_rows": null,
      "height": null,
      "justify_content": null,
      "justify_items": null,
      "left": null,
      "margin": null,
      "max_height": null,
      "max_width": null,
      "min_height": null,
      "min_width": null,
      "object_fit": null,
      "object_position": null,
      "order": null,
      "overflow": null,
      "overflow_x": null,
      "overflow_y": null,
      "padding": null,
      "right": null,
      "top": null,
      "visibility": null,
      "width": null
     }
    },
    "d8e2bf3d2da9425cbc71286dd4344401": {
     "model_module": "@jupyter-widgets/controls",
     "model_module_version": "1.5.0",
     "model_name": "HTMLModel",
     "state": {
      "_dom_classes": [],
      "_model_module": "@jupyter-widgets/controls",
      "_model_module_version": "1.5.0",
      "_model_name": "HTMLModel",
      "_view_count": null,
      "_view_module": "@jupyter-widgets/controls",
      "_view_module_version": "1.5.0",
      "_view_name": "HTMLView",
      "description": "",
      "description_tooltip": null,
      "layout": "IPY_MODEL_0955eb11bb89457bb674fd7ef4411f72",
      "placeholder": "​",
      "style": "IPY_MODEL_6ad69e2ebbd94b7c9c503abe26cdc679",
      "value": "Downloading: 100%"
     }
    },
    "e11da2065da04331b5166d9f78fd37be": {
     "model_module": "@jupyter-widgets/controls",
     "model_module_version": "1.5.0",
     "model_name": "DescriptionStyleModel",
     "state": {
      "_model_module": "@jupyter-widgets/controls",
      "_model_module_version": "1.5.0",
      "_model_name": "DescriptionStyleModel",
      "_view_count": null,
      "_view_module": "@jupyter-widgets/base",
      "_view_module_version": "1.2.0",
      "_view_name": "StyleView",
      "description_width": ""
     }
    },
    "eb9064973b7b4aa9beb7f2edd4bebb76": {
     "model_module": "@jupyter-widgets/controls",
     "model_module_version": "1.5.0",
     "model_name": "ProgressStyleModel",
     "state": {
      "_model_module": "@jupyter-widgets/controls",
      "_model_module_version": "1.5.0",
      "_model_name": "ProgressStyleModel",
      "_view_count": null,
      "_view_module": "@jupyter-widgets/base",
      "_view_module_version": "1.2.0",
      "_view_name": "StyleView",
      "bar_color": null,
      "description_width": ""
     }
    },
    "ef0b39c86a164106aa26b0dba84ab773": {
     "model_module": "@jupyter-widgets/base",
     "model_module_version": "1.2.0",
     "model_name": "LayoutModel",
     "state": {
      "_model_module": "@jupyter-widgets/base",
      "_model_module_version": "1.2.0",
      "_model_name": "LayoutModel",
      "_view_count": null,
      "_view_module": "@jupyter-widgets/base",
      "_view_module_version": "1.2.0",
      "_view_name": "LayoutView",
      "align_content": null,
      "align_items": null,
      "align_self": null,
      "border": null,
      "bottom": null,
      "display": null,
      "flex": null,
      "flex_flow": null,
      "grid_area": null,
      "grid_auto_columns": null,
      "grid_auto_flow": null,
      "grid_auto_rows": null,
      "grid_column": null,
      "grid_gap": null,
      "grid_row": null,
      "grid_template_areas": null,
      "grid_template_columns": null,
      "grid_template_rows": null,
      "height": null,
      "justify_content": null,
      "justify_items": null,
      "left": null,
      "margin": null,
      "max_height": null,
      "max_width": null,
      "min_height": null,
      "min_width": null,
      "object_fit": null,
      "object_position": null,
      "order": null,
      "overflow": null,
      "overflow_x": null,
      "overflow_y": null,
      "padding": null,
      "right": null,
      "top": null,
      "visibility": null,
      "width": null
     }
    },
    "f4e53c10661e4f0fb3ff168ef3ec0bf2": {
     "model_module": "@jupyter-widgets/controls",
     "model_module_version": "1.5.0",
     "model_name": "FloatProgressModel",
     "state": {
      "_dom_classes": [],
      "_model_module": "@jupyter-widgets/controls",
      "_model_module_version": "1.5.0",
      "_model_name": "FloatProgressModel",
      "_view_count": null,
      "_view_module": "@jupyter-widgets/controls",
      "_view_module_version": "1.5.0",
      "_view_name": "ProgressView",
      "bar_style": "success",
      "description": "",
      "description_tooltip": null,
      "layout": "IPY_MODEL_acf01993927240f79122ca50e91d4853",
      "max": 437986855,
      "min": 0,
      "orientation": "horizontal",
      "style": "IPY_MODEL_f947efa99e094fb78a46d57774b7e6ad",
      "value": 437986855
     }
    },
    "f947efa99e094fb78a46d57774b7e6ad": {
     "model_module": "@jupyter-widgets/controls",
     "model_module_version": "1.5.0",
     "model_name": "ProgressStyleModel",
     "state": {
      "_model_module": "@jupyter-widgets/controls",
      "_model_module_version": "1.5.0",
      "_model_name": "ProgressStyleModel",
      "_view_count": null,
      "_view_module": "@jupyter-widgets/base",
      "_view_module_version": "1.2.0",
      "_view_name": "StyleView",
      "bar_color": null,
      "description_width": ""
     }
    },
    "fc48b34ad34c400a930b534472492d6a": {
     "model_module": "@jupyter-widgets/controls",
     "model_module_version": "1.5.0",
     "model_name": "DescriptionStyleModel",
     "state": {
      "_model_module": "@jupyter-widgets/controls",
      "_model_module_version": "1.5.0",
      "_model_name": "DescriptionStyleModel",
      "_view_count": null,
      "_view_module": "@jupyter-widgets/base",
      "_view_module_version": "1.2.0",
      "_view_name": "StyleView",
      "description_width": ""
     }
    },
    "fe61f3cf06b24a9c9e82d99134791630": {
     "model_module": "@jupyter-widgets/controls",
     "model_module_version": "1.5.0",
     "model_name": "HBoxModel",
     "state": {
      "_dom_classes": [],
      "_model_module": "@jupyter-widgets/controls",
      "_model_module_version": "1.5.0",
      "_model_name": "HBoxModel",
      "_view_count": null,
      "_view_module": "@jupyter-widgets/controls",
      "_view_module_version": "1.5.0",
      "_view_name": "HBoxView",
      "box_style": "",
      "children": [
       "IPY_MODEL_11b78aa644c14fca86a821d9a2cede61",
       "IPY_MODEL_a626cbbd113b4ab88abc8ef6a0e5638d",
       "IPY_MODEL_b33f25f436134c8db454275147303827"
      ],
      "layout": "IPY_MODEL_781dd118370c4264a626f0ad85c46aa9"
     }
    }
   }
  }
 },
 "nbformat": 4,
 "nbformat_minor": 1
}
