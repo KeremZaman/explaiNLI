{
  "cells": [
    {
      "cell_type": "code",
      "execution_count": null,
      "metadata": {
        "id": "JxOLs41hEEDQ"
      },
      "outputs": [],
      "source": [
        "%cd ../"
      ]
    },
    {
      "cell_type": "markdown",
      "metadata": {
        "id": "CeulufijXKf2"
      },
      "source": [
        "# Additional functions"
      ]
    },
    {
      "cell_type": "code",
      "execution_count": null,
      "metadata": {
        "id": "9F4o0UsnXQJh"
      },
      "outputs": [],
      "source": [
        "from explainli.config import AttributionMethods, AttributionConfig, AggregationMethods, ForwardScoringOptions\n",
        "from explainli.explainli import NLIAttribution\n",
        "from eval import crosslingual_faithfulness\n",
        "\n",
        "from IPython.display import display\n",
        "import pandas as pd\n",
        "import numpy as np\n",
        "\n",
        "nli_model_name = '<path_to_finetuned_model>/bert-base-multilingual-finetuned-mnli'\n",
        "word_aligner = '<path_to_word_aligner>/awesome-align-finetuned-wo-co'"
      ]
    },
    {
      "cell_type": "code",
      "execution_count": null,
      "metadata": {
        "id": "qn37Auf6mzFn"
      },
      "outputs": [],
      "source": [
        "def show_results(avg_correlation, avg_correlations_per_lang, avg_pval, avg_pvalues_per_lang):\n",
        "  avg_correlation_top5 = np.mean([avg_correlations_per_lang[lang] for lang in ['es', 'fr', 'de', 'zh', 'vi']])\n",
        "  avg_pval_top5 = np.mean([avg_pvalues_per_lang[lang] for lang in ['es', 'fr', 'de', 'zh', 'vi']])\n",
        "\n",
        "  items = [(lang, avg_correlations_per_lang[lang], avg_pvalues_per_lang[lang]) for lang in avg_correlations_per_lang if lang != 'en' ]\n",
        "  df = pd.DataFrame(items)\n",
        "  df.columns = ['language', 'correlation', 'pval']\n",
        "  df.set_index('language', inplace=True)\n",
        "  display(df)\n",
        "\n",
        "  print(f\"avg correlation: {avg_correlation}, avg pval: {avg_pval}\")\n",
        "  print(f\"avg correlation (top5): {avg_correlation_top5}, avg pval (top5): {avg_pval_top5}\")"
      ]
    },
    {
      "cell_type": "code",
      "execution_count": null,
      "metadata": {
        "id": "e0CaQn3W-q1w"
      },
      "outputs": [],
      "source": [
        "import json\n",
        "\n",
        "def save_dataset_with_alignments(dataset, out):\n",
        "  pairs, labels, alignments = dataset\n",
        "  alignments_as_list = list(map(lambda x: list(x) if x is not None else None, alignments))\n",
        "  data_as_dict = {'alignments': alignments_as_list, 'pairs': pairs, 'labels': labels}\n",
        "\n",
        "  with open(out, 'w') as f:\n",
        "    json.dump(data_as_dict, f)\n",
        "\n",
        "def load_dataset_with_alignments(fname):\n",
        "  with open(fname, 'r') as f:\n",
        "    data_as_dict = json.load(f)\n",
        "    alignments = list(map(lambda x: set(map(lambda y: tuple(y), x)) if x is not None else None, data_as_dict['alignments']))\n",
        "    pairs, labels = data_as_dict['pairs'], data_as_dict['labels']\n",
        "\n",
        "  return pairs, labels, alignments"
      ]
    },
    {
      "cell_type": "markdown",
      "metadata": {
        "id": "KbUMV9b8_rms"
      },
      "source": [
        "## Create dataset with alignments, save and load"
      ]
    },
    {
      "cell_type": "code",
      "execution_count": null,
      "metadata": {
        "id": "Bl6wuHWJ_yIz"
      },
      "outputs": [],
      "source": [
        "from datasets import load_dataset\n",
        "\n",
        "dataset = load_dataset('xnli', 'all_languages', split='test')\n",
        "pairs, labels, alignments = crosslingual_faithfulness.create_dataset_with_alignments(dataset, word_aligner=word_aligner)\n",
        "ds = pairs, labels, alignments\n",
        "\n",
        "save_dataset_with_alignments(ds, 'data_w_alignments.json')"
      ]
    },
    {
      "cell_type": "code",
      "execution_count": null,
      "metadata": {
        "id": "3TzfiGK-AAqh"
      },
      "outputs": [],
      "source": [
        "ds = load_dataset_with_alignments('data_w_alignments.json')"
      ]
    },
    {
      "cell_type": "markdown",
      "metadata": {
        "id": "tsbZk_TpoYHr"
      },
      "source": [
        "# InputXGradient"
      ]
    },
    {
      "cell_type": "markdown",
      "metadata": {
        "id": "jEWJjiQJghzK"
      },
      "source": [
        "## wrt Top prediction with MEAN"
      ]
    },
    {
      "cell_type": "code",
      "execution_count": null,
      "metadata": {
        "id": "bmGSL5WlgnPW"
      },
      "outputs": [],
      "source": [
        "attr_config = AttributionConfig(AttributionMethods.InputXGradient, remove_pad_tokens=True,\n",
        "                                             remove_cls_token=True, remove_sep_tokens=True, join_subwords=True,\n",
        "                                             normalize_scores=True,\n",
        "                                             forward_scoring= ForwardScoringOptions.TOP_PREDICTION,\n",
        "                                             aggregation_method=AggregationMethods.MEAN,\n",
        "                                             label_names=['entailment', 'neutral', 'contradiction'])\n",
        "\n",
        "attribution = NLIAttribution(model_name=nli_model_name, config=attr_config)"
      ]
    },
    {
      "cell_type": "code",
      "execution_count": null,
      "metadata": {
        "id": "2GU2yNpVgsEn"
      },
      "outputs": [],
      "source": [
        "ds, avg_correlation, avg_correlations_per_lang, avg_pval, avg_pvalues_per_lang = crosslingual_faithfulness.evaluate(attribution, 16, dataset_with_alignments=ds)"
      ]
    },
    {
      "cell_type": "code",
      "execution_count": null,
      "metadata": {
        "id": "D625_Y-bZAmZ"
      },
      "outputs": [],
      "source": [
        "show_results(avg_correlation, avg_correlations_per_lang, avg_pval, avg_pvalues_per_lang)"
      ]
    },
    {
      "cell_type": "markdown",
      "metadata": {
        "id": "ElocMTYwXAby"
      },
      "source": [
        "## wrt Top prediction with L2"
      ]
    },
    {
      "cell_type": "code",
      "execution_count": null,
      "metadata": {
        "id": "i4awaL2Nm7k1"
      },
      "outputs": [],
      "source": [
        "attr_config = AttributionConfig(AttributionMethods.InputXGradient, remove_pad_tokens=True,\n",
        "                                             remove_cls_token=True, remove_sep_tokens=True, join_subwords=True,\n",
        "                                             normalize_scores=True,\n",
        "                                             forward_scoring= ForwardScoringOptions.TOP_PREDICTION,\n",
        "                                             aggregation_method=AggregationMethods.L2,\n",
        "                                             label_names=['entailment', 'neutral', 'contradiction'])\n",
        "\n",
        "attribution = NLIAttribution(model_name=nli_model_name, config=attr_config)"
      ]
    },
    {
      "cell_type": "code",
      "execution_count": null,
      "metadata": {
        "id": "dIlALkG1m_-H"
      },
      "outputs": [],
      "source": [
        "ds, avg_correlation, avg_correlations_per_lang, avg_pval, avg_pvalues_per_lang = crosslingual_faithfulness.evaluate(attribution, 16, dataset_with_alignments=ds)"
      ]
    },
    {
      "cell_type": "code",
      "execution_count": null,
      "metadata": {
        "id": "QzKZsH7enAxp"
      },
      "outputs": [],
      "source": [
        "show_results(avg_correlation, avg_correlations_per_lang, avg_pval, avg_pvalues_per_lang)"
      ]
    },
    {
      "cell_type": "markdown",
      "metadata": {
        "id": "o8vLFWDCnC07"
      },
      "source": [
        "## wrt Loss with MEAN"
      ]
    },
    {
      "cell_type": "code",
      "execution_count": null,
      "metadata": {
        "id": "owajY3cQohwP"
      },
      "outputs": [],
      "source": [
        "attr_config = AttributionConfig(AttributionMethods.InputXGradient, remove_pad_tokens=True,\n",
        "                                             remove_cls_token=True, remove_sep_tokens=True, join_subwords=True,\n",
        "                                             normalize_scores=True,\n",
        "                                             forward_scoring= ForwardScoringOptions.LOSS,\n",
        "                                             aggregation_method=AggregationMethods.MEAN,\n",
        "                                             label_names=['entailment', 'neutral', 'contradiction'])\n",
        "\n",
        "attribution = NLIAttribution(model_name=nli_model_name, config=attr_config)"
      ]
    },
    {
      "cell_type": "code",
      "execution_count": null,
      "metadata": {
        "id": "GTHI3qmfopO-"
      },
      "outputs": [],
      "source": [
        "ds, avg_correlation, avg_correlations_per_lang, avg_pval, avg_pvalues_per_lang = crosslingual_faithfulness.evaluate(attribution, 16, dataset_with_alignments=ds)"
      ]
    },
    {
      "cell_type": "code",
      "execution_count": null,
      "metadata": {
        "id": "Is6mGKvworVH"
      },
      "outputs": [],
      "source": [
        "show_results(avg_correlation, avg_correlations_per_lang, avg_pval, avg_pvalues_per_lang)"
      ]
    },
    {
      "cell_type": "markdown",
      "metadata": {
        "id": "ffte3ikyoiD2"
      },
      "source": [
        "## wrt Loss with L2"
      ]
    },
    {
      "cell_type": "code",
      "execution_count": null,
      "metadata": {
        "id": "NIdGCOicota7"
      },
      "outputs": [],
      "source": [
        "attr_config = AttributionConfig(AttributionMethods.InputXGradient, remove_pad_tokens=True,\n",
        "                                             remove_cls_token=True, remove_sep_tokens=True, join_subwords=True,\n",
        "                                             normalize_scores=True,\n",
        "                                             forward_scoring= ForwardScoringOptions.LOSS,\n",
        "                                             aggregation_method=AggregationMethods.L2,\n",
        "                                             label_names=['entailment', 'neutral', 'contradiction'])\n",
        "\n",
        "attribution = NLIAttribution(model_name=nli_model_name, config=attr_config)"
      ]
    },
    {
      "cell_type": "code",
      "execution_count": null,
      "metadata": {
        "id": "PN09qTSRpSvS"
      },
      "outputs": [],
      "source": [
        "ds, avg_correlation, avg_correlations_per_lang, avg_pval, avg_pvalues_per_lang = crosslingual_faithfulness.evaluate(attribution, 16, dataset_with_alignments=ds)"
      ]
    },
    {
      "cell_type": "code",
      "execution_count": null,
      "metadata": {
        "id": "nZS4qWCYpUh_"
      },
      "outputs": [],
      "source": [
        "show_results(avg_correlation, avg_correlations_per_lang, avg_pval, avg_pvalues_per_lang)"
      ]
    },
    {
      "cell_type": "markdown",
      "metadata": {
        "id": "dvCw8Qx5Ol0M"
      },
      "source": [
        "# Saliency"
      ]
    },
    {
      "cell_type": "markdown",
      "metadata": {
        "id": "ZFTMJN--On1C"
      },
      "source": [
        "## wrt Top prediction with MEAN"
      ]
    },
    {
      "cell_type": "code",
      "execution_count": null,
      "metadata": {
        "id": "pWCDNu4PO2xg"
      },
      "outputs": [],
      "source": [
        "attr_config = AttributionConfig(AttributionMethods.Saliency, remove_pad_tokens=True,\n",
        "                                             remove_cls_token=True, remove_sep_tokens=True, join_subwords=True,\n",
        "                                             normalize_scores=True,\n",
        "                                             forward_scoring= ForwardScoringOptions.TOP_PREDICTION,\n",
        "                                             aggregation_method=AggregationMethods.MEAN,\n",
        "                                             label_names=['entailment', 'neutral', 'contradiction'])\n",
        "\n",
        "attribution = NLIAttribution(model_name=nli_model_name, config=attr_config)"
      ]
    },
    {
      "cell_type": "code",
      "execution_count": null,
      "metadata": {
        "id": "3PIaQFXVO27X"
      },
      "outputs": [],
      "source": [
        "ds, avg_correlation, avg_correlations_per_lang, avg_pval, avg_pvalues_per_lang = crosslingual_faithfulness.evaluate(attribution, 16, dataset_with_alignments=ds)"
      ]
    },
    {
      "cell_type": "code",
      "execution_count": null,
      "metadata": {
        "id": "9auBD7YQUtmd"
      },
      "outputs": [],
      "source": [
        "show_results(avg_correlation, avg_correlations_per_lang, avg_pval, avg_pvalues_per_lang)"
      ]
    },
    {
      "cell_type": "markdown",
      "metadata": {
        "id": "z-eZDZKyOs7K"
      },
      "source": [
        "## wrt Top prediction with L2"
      ]
    },
    {
      "cell_type": "code",
      "execution_count": null,
      "metadata": {
        "id": "0emyF1M7O3c4"
      },
      "outputs": [],
      "source": [
        "attr_config = AttributionConfig(AttributionMethods.Saliency, remove_pad_tokens=True,\n",
        "                                             remove_cls_token=True, remove_sep_tokens=True, join_subwords=True,\n",
        "                                             normalize_scores=True,\n",
        "                                             forward_scoring= ForwardScoringOptions.TOP_PREDICTION,\n",
        "                                             aggregation_method=AggregationMethods.L2,\n",
        "                                             label_names=['entailment', 'neutral', 'contradiction'])\n",
        "\n",
        "attribution = NLIAttribution(model_name=nli_model_name, config=attr_config)"
      ]
    },
    {
      "cell_type": "code",
      "execution_count": null,
      "metadata": {
        "id": "ip8l5BrAO3jJ"
      },
      "outputs": [],
      "source": [
        "ds, avg_correlation, avg_correlations_per_lang, avg_pval, avg_pvalues_per_lang = crosslingual_faithfulness.evaluate(attribution, 16, dataset_with_alignments=ds)"
      ]
    },
    {
      "cell_type": "code",
      "execution_count": null,
      "metadata": {
        "id": "updQtkVkU4A1"
      },
      "outputs": [],
      "source": [
        "show_results(avg_correlation, avg_correlations_per_lang, avg_pval, avg_pvalues_per_lang)"
      ]
    },
    {
      "cell_type": "markdown",
      "metadata": {
        "id": "zTQebqN7OuOZ"
      },
      "source": [
        "## wrt Loss with MEAN"
      ]
    },
    {
      "cell_type": "code",
      "execution_count": null,
      "metadata": {
        "id": "IzqRGA-ZO4AX"
      },
      "outputs": [],
      "source": [
        "attr_config = AttributionConfig(AttributionMethods.Saliency, remove_pad_tokens=True,\n",
        "                                             remove_cls_token=True, remove_sep_tokens=True, join_subwords=True,\n",
        "                                             normalize_scores=True,\n",
        "                                             forward_scoring= ForwardScoringOptions.LOSS,\n",
        "                                             aggregation_method=AggregationMethods.MEAN,\n",
        "                                             label_names=['entailment', 'neutral', 'contradiction'])\n",
        "\n",
        "attribution = NLIAttribution(model_name=nli_model_name, config=attr_config)"
      ]
    },
    {
      "cell_type": "code",
      "execution_count": null,
      "metadata": {
        "id": "XfqjA2a-U1QC"
      },
      "outputs": [],
      "source": [
        "ds, avg_correlation, avg_correlations_per_lang, avg_pval, avg_pvalues_per_lang = crosslingual_faithfulness.evaluate(attribution, 16, dataset_with_alignments=ds)"
      ]
    },
    {
      "cell_type": "code",
      "execution_count": null,
      "metadata": {
        "id": "wVsNGPlxO4Et"
      },
      "outputs": [],
      "source": [
        "show_results(avg_correlation, avg_correlations_per_lang, avg_pval, avg_pvalues_per_lang)"
      ]
    },
    {
      "cell_type": "markdown",
      "metadata": {
        "id": "e3rTuUxYOwjJ"
      },
      "source": [
        "## wrt Loss with L2"
      ]
    },
    {
      "cell_type": "code",
      "execution_count": null,
      "metadata": {
        "id": "C0WcWGVxO4fm"
      },
      "outputs": [],
      "source": [
        "attr_config = AttributionConfig(AttributionMethods.Saliency, remove_pad_tokens=True,\n",
        "                                             remove_cls_token=True, remove_sep_tokens=True, join_subwords=True,\n",
        "                                             normalize_scores=True,\n",
        "                                             forward_scoring= ForwardScoringOptions.LOSS,\n",
        "                                             aggregation_method=AggregationMethods.L2,\n",
        "                                             label_names=['entailment', 'neutral', 'contradiction'])\n",
        "\n",
        "attribution = NLIAttribution(model_name=nli_model_name, config=attr_config)"
      ]
    },
    {
      "cell_type": "code",
      "execution_count": null,
      "metadata": {
        "id": "SHS3piAZU61P"
      },
      "outputs": [],
      "source": [
        "ds, avg_correlation, avg_correlations_per_lang, avg_pval, avg_pvalues_per_lang = crosslingual_faithfulness.evaluate(attribution, 16, dataset_with_alignments=ds)"
      ]
    },
    {
      "cell_type": "code",
      "execution_count": null,
      "metadata": {
        "id": "3RFUejuSO4kP"
      },
      "outputs": [],
      "source": [
        "show_results(avg_correlation, avg_correlations_per_lang, avg_pval, avg_pvalues_per_lang)"
      ]
    },
    {
      "cell_type": "markdown",
      "metadata": {
        "id": "gcDPkxurVQey"
      },
      "source": [
        "# Activation"
      ]
    },
    {
      "cell_type": "markdown",
      "metadata": {
        "id": "Ad7iddsyVQey"
      },
      "source": [
        "## wrt Top prediction with MEAN"
      ]
    },
    {
      "cell_type": "code",
      "execution_count": null,
      "metadata": {
        "colab": {
          "base_uri": "https://localhost:8080/"
        },
        "id": "sOspAAAfVQey",
        "outputId": "f3126707-c1b2-4a80-86dc-f6bfc6cac7ab"
      },
      "outputs": [
        {
          "name": "stderr",
          "output_type": "stream",
          "text": [
            "/usr/local/lib/python3.7/dist-packages/transformers/configuration_utils.py:337: UserWarning: Passing `gradient_checkpointing` to a config initialization is deprecated and will be removed in v5 Transformers. Using `model.gradient_checkpointing_enable()` instead, or if you are using the `Trainer` API, pass `gradient_checkpointing=True` in your `TrainingArguments`.\n",
            "  \"Passing `gradient_checkpointing` to a config initialization is deprecated and will be removed in v5 \"\n"
          ]
        }
      ],
      "source": [
        "attr_config = AttributionConfig(AttributionMethods.Activation, remove_pad_tokens=True,\n",
        "                                             remove_cls_token=True, remove_sep_tokens=True, join_subwords=True,\n",
        "                                             normalize_scores=True,\n",
        "                                             forward_scoring= ForwardScoringOptions.TOP_PREDICTION,\n",
        "                                             aggregation_method=AggregationMethods.MEAN,\n",
        "                                             label_names=['entailment', 'neutral', 'contradiction'])\n",
        "\n",
        "attribution = NLIAttribution(model_name=nli_model_name, config=attr_config)"
      ]
    },
    {
      "cell_type": "code",
      "execution_count": null,
      "metadata": {
        "id": "Ws6YZhMYVQey"
      },
      "outputs": [],
      "source": [
        "ds, avg_correlation, avg_correlations_per_lang, avg_pval, avg_pvalues_per_lang = crosslingual_faithfulness.evaluate(attribution, 16, dataset_with_alignments=ds)"
      ]
    },
    {
      "cell_type": "code",
      "execution_count": null,
      "metadata": {
        "id": "VpZvdQrVVQez"
      },
      "outputs": [],
      "source": [
        "show_results(avg_correlation, avg_correlations_per_lang, avg_pval, avg_pvalues_per_lang)"
      ]
    },
    {
      "cell_type": "markdown",
      "metadata": {
        "id": "rbmXxHs-VQez"
      },
      "source": [
        "## wrt Top prediction with L2"
      ]
    },
    {
      "cell_type": "code",
      "execution_count": null,
      "metadata": {
        "id": "uvjzr0PRVQez"
      },
      "outputs": [],
      "source": [
        "attr_config = AttributionConfig(AttributionMethods.Activation, remove_pad_tokens=True,\n",
        "                                             remove_cls_token=True, remove_sep_tokens=True, join_subwords=True,\n",
        "                                             normalize_scores=True,\n",
        "                                             forward_scoring= ForwardScoringOptions.TOP_PREDICTION,\n",
        "                                             aggregation_method=AggregationMethods.L2,\n",
        "                                             label_names=['entailment', 'neutral', 'contradiction'])\n",
        "\n",
        "attribution = NLIAttribution(model_name=nli_model_name, config=attr_config)"
      ]
    },
    {
      "cell_type": "code",
      "execution_count": null,
      "metadata": {
        "id": "c95Iw5KhVQez"
      },
      "outputs": [],
      "source": [
        "ds, avg_correlation, avg_correlations_per_lang, avg_pval, avg_pvalues_per_lang = crosslingual_faithfulness.evaluate(attribution, 16, dataset_with_alignments=ds)"
      ]
    },
    {
      "cell_type": "code",
      "execution_count": null,
      "metadata": {
        "id": "UGuCgSxDVQez"
      },
      "outputs": [],
      "source": [
        "show_results(avg_correlation, avg_correlations_per_lang, avg_pval, avg_pvalues_per_lang)"
      ]
    },
    {
      "cell_type": "markdown",
      "metadata": {
        "id": "nFzNRKpYVQez"
      },
      "source": [
        "## wrt Loss with MEAN"
      ]
    },
    {
      "cell_type": "code",
      "execution_count": null,
      "metadata": {
        "id": "QNOdgsc8VQe1"
      },
      "outputs": [],
      "source": [
        "attr_config = AttributionConfig(AttributionMethods.Activation, remove_pad_tokens=True,\n",
        "                                             remove_cls_token=True, remove_sep_tokens=True, join_subwords=True,\n",
        "                                             normalize_scores=True,\n",
        "                                             forward_scoring= ForwardScoringOptions.LOSS,\n",
        "                                             aggregation_method=AggregationMethods.MEAN,\n",
        "                                             label_names=['entailment', 'neutral', 'contradiction'])\n",
        "\n",
        "attribution = NLIAttribution(model_name=nli_model_name, config=attr_config)"
      ]
    },
    {
      "cell_type": "code",
      "execution_count": null,
      "metadata": {
        "id": "nczfdgpeVQe1"
      },
      "outputs": [],
      "source": [
        "ds, avg_correlation, avg_correlations_per_lang, avg_pval, avg_pvalues_per_lang = crosslingual_faithfulness.evaluate(attribution, 16, dataset_with_alignments=ds)"
      ]
    },
    {
      "cell_type": "code",
      "execution_count": null,
      "metadata": {
        "id": "3jG7-E15VQe1"
      },
      "outputs": [],
      "source": [
        "show_results(avg_correlation, avg_correlations_per_lang, avg_pval, avg_pvalues_per_lang)"
      ]
    },
    {
      "cell_type": "markdown",
      "metadata": {
        "id": "k-PdtP16VQe2"
      },
      "source": [
        "## wrt Loss with L2"
      ]
    },
    {
      "cell_type": "code",
      "execution_count": null,
      "metadata": {
        "id": "3hYTVz_9VQe2"
      },
      "outputs": [],
      "source": [
        "attr_config = AttributionConfig(AttributionMethods.Activation, remove_pad_tokens=True,\n",
        "                                             remove_cls_token=True, remove_sep_tokens=True, join_subwords=True,\n",
        "                                             normalize_scores=True,\n",
        "                                             forward_scoring= ForwardScoringOptions.LOSS,\n",
        "                                             aggregation_method=AggregationMethods.L2,\n",
        "                                             label_names=['entailment', 'neutral', 'contradiction'])\n",
        "\n",
        "attribution = NLIAttribution(model_name=nli_model_name, config=attr_config)"
      ]
    },
    {
      "cell_type": "code",
      "execution_count": null,
      "metadata": {
        "id": "D3tzn4OGVQe2"
      },
      "outputs": [],
      "source": [
        "ds, avg_correlation, avg_correlations_per_lang, avg_pval, avg_pvalues_per_lang = crosslingual_faithfulness.evaluate(attribution, 16, dataset_with_alignments=ds)"
      ]
    },
    {
      "cell_type": "code",
      "execution_count": null,
      "metadata": {
        "id": "AqjRX_EjVQe2"
      },
      "outputs": [],
      "source": [
        "show_results(avg_correlation, avg_correlations_per_lang, avg_pval, avg_pvalues_per_lang)"
      ]
    },
    {
      "cell_type": "markdown",
      "metadata": {
        "id": "PD7jS2tDVosM"
      },
      "source": [
        "# Guided BP"
      ]
    },
    {
      "cell_type": "markdown",
      "metadata": {
        "id": "RhGyZqsWVosM"
      },
      "source": [
        "## wrt Top prediction with MEAN"
      ]
    },
    {
      "cell_type": "code",
      "execution_count": null,
      "metadata": {
        "id": "9zceZTB8VosN"
      },
      "outputs": [],
      "source": [
        "attr_config = AttributionConfig(AttributionMethods.GuidedBackprop, remove_pad_tokens=True,\n",
        "                                             remove_cls_token=True, remove_sep_tokens=True, join_subwords=True,\n",
        "                                             normalize_scores=True,\n",
        "                                             forward_scoring= ForwardScoringOptions.TOP_PREDICTION,\n",
        "                                             aggregation_method=AggregationMethods.MEAN,\n",
        "                                             label_names=['entailment', 'neutral', 'contradiction'])\n",
        "\n",
        "attribution = NLIAttribution(model_name=nli_model_name, config=attr_config)"
      ]
    },
    {
      "cell_type": "code",
      "execution_count": null,
      "metadata": {
        "id": "inTeKTFwVosN"
      },
      "outputs": [],
      "source": [
        "ds, avg_correlation, avg_correlations_per_lang, avg_pval, avg_pvalues_per_lang = crosslingual_faithfulness.evaluate(attribution, 16, dataset_with_alignments=ds)"
      ]
    },
    {
      "cell_type": "code",
      "execution_count": null,
      "metadata": {
        "id": "iyUQRcBxVosN"
      },
      "outputs": [],
      "source": [
        "show_results(avg_correlation, avg_correlations_per_lang, avg_pval, avg_pvalues_per_lang)"
      ]
    },
    {
      "cell_type": "markdown",
      "metadata": {
        "id": "qMbLuagDVosO"
      },
      "source": [
        "## wrt Top prediction with L2"
      ]
    },
    {
      "cell_type": "code",
      "execution_count": null,
      "metadata": {
        "id": "4t78mVxzVosO"
      },
      "outputs": [],
      "source": [
        "attr_config = AttributionConfig(AttributionMethods.GuidedBackprop, remove_pad_tokens=True,\n",
        "                                             remove_cls_token=True, remove_sep_tokens=True, join_subwords=True,\n",
        "                                             normalize_scores=True,\n",
        "                                             forward_scoring= ForwardScoringOptions.TOP_PREDICTION,\n",
        "                                             aggregation_method=AggregationMethods.L2,\n",
        "                                             label_names=['entailment', 'neutral', 'contradiction'])\n",
        "\n",
        "attribution = NLIAttribution(model_name=nli_model_name, config=attr_config)"
      ]
    },
    {
      "cell_type": "code",
      "execution_count": null,
      "metadata": {
        "id": "EFoHbFcFVosO"
      },
      "outputs": [],
      "source": [
        "ds, avg_correlation, avg_correlations_per_lang, avg_pval, avg_pvalues_per_lang = crosslingual_faithfulness.evaluate(attribution, 16, dataset_with_alignments=ds)"
      ]
    },
    {
      "cell_type": "code",
      "execution_count": null,
      "metadata": {
        "id": "sUS47d5kVosO"
      },
      "outputs": [],
      "source": [
        "show_results(avg_correlation, avg_correlations_per_lang, avg_pval, avg_pvalues_per_lang)"
      ]
    },
    {
      "cell_type": "markdown",
      "metadata": {
        "id": "sVAWDsbmVosP"
      },
      "source": [
        "## wrt Loss with MEAN"
      ]
    },
    {
      "cell_type": "code",
      "execution_count": null,
      "metadata": {
        "id": "8MDKZQX2VosP"
      },
      "outputs": [],
      "source": [
        "attr_config = AttributionConfig(AttributionMethods.GuidedBackprop, remove_pad_tokens=True,\n",
        "                                             remove_cls_token=True, remove_sep_tokens=True, join_subwords=True,\n",
        "                                             normalize_scores=True,\n",
        "                                             forward_scoring= ForwardScoringOptions.LOSS,\n",
        "                                             aggregation_method=AggregationMethods.MEAN,\n",
        "                                             label_names=['entailment', 'neutral', 'contradiction'])\n",
        "\n",
        "attribution = NLIAttribution(model_name=nli_model_name, config=attr_config)"
      ]
    },
    {
      "cell_type": "code",
      "execution_count": null,
      "metadata": {
        "id": "jaYsnkdXVosP"
      },
      "outputs": [],
      "source": [
        "ds, avg_correlation, avg_correlations_per_lang, avg_pval, avg_pvalues_per_lang = crosslingual_faithfulness.evaluate(attribution, 16, dataset_with_alignments=ds)"
      ]
    },
    {
      "cell_type": "code",
      "execution_count": null,
      "metadata": {
        "id": "urn32fj6VosP"
      },
      "outputs": [],
      "source": [
        "show_results(avg_correlation, avg_correlations_per_lang, avg_pval, avg_pvalues_per_lang)"
      ]
    },
    {
      "cell_type": "markdown",
      "metadata": {
        "id": "b8JA35S9VosQ"
      },
      "source": [
        "## wrt Loss with L2"
      ]
    },
    {
      "cell_type": "code",
      "execution_count": null,
      "metadata": {
        "id": "XmMRxZdQVosQ"
      },
      "outputs": [],
      "source": [
        "attr_config = AttributionConfig(AttributionMethods.GuidedBackprop, remove_pad_tokens=True,\n",
        "                                             remove_cls_token=True, remove_sep_tokens=True, join_subwords=True,\n",
        "                                             normalize_scores=True,\n",
        "                                             forward_scoring= ForwardScoringOptions.LOSS,\n",
        "                                             aggregation_method=AggregationMethods.L2,\n",
        "                                             label_names=['entailment', 'neutral', 'contradiction'])\n",
        "\n",
        "attribution = NLIAttribution(model_name=nli_model_name, config=attr_config)"
      ]
    },
    {
      "cell_type": "code",
      "execution_count": null,
      "metadata": {
        "id": "CKRhFWB_VosQ"
      },
      "outputs": [],
      "source": [
        "ds, avg_correlation, avg_correlations_per_lang, avg_pval, avg_pvalues_per_lang = crosslingual_faithfulness.evaluate(attribution, 16, dataset_with_alignments=ds)"
      ]
    },
    {
      "cell_type": "code",
      "execution_count": null,
      "metadata": {
        "id": "Ga3rSNO2VosR"
      },
      "outputs": [],
      "source": [
        "show_results(avg_correlation, avg_correlations_per_lang, avg_pval, avg_pvalues_per_lang)"
      ]
    },
    {
      "cell_type": "markdown",
      "metadata": {
        "id": "bOlhA9-IW23l"
      },
      "source": [
        "# Occlusion"
      ]
    },
    {
      "cell_type": "markdown",
      "metadata": {
        "id": "lfjp7obPW23x"
      },
      "source": [
        "## wrt Top prediction with SUM"
      ]
    },
    {
      "cell_type": "code",
      "execution_count": null,
      "metadata": {
        "id": "4ldmnncAW23x"
      },
      "outputs": [],
      "source": [
        "attr_config = AttributionConfig(AttributionMethods.Occlusion, remove_pad_tokens=True,\n",
        "                                             remove_cls_token=True, remove_sep_tokens=True, join_subwords=True,\n",
        "                                             normalize_scores=True,\n",
        "                                             forward_scoring= ForwardScoringOptions.TOP_PREDICTION,\n",
        "                                             aggregation_method=AggregationMethods.SUM,\n",
        "                                             label_names=['entailment', 'neutral', 'contradiction'])\n",
        "\n",
        "attribution = NLIAttribution(model_name=nli_model_name, config=attr_config)"
      ]
    },
    {
      "cell_type": "code",
      "execution_count": null,
      "metadata": {
        "id": "GXniiLejW23y"
      },
      "outputs": [],
      "source": [
        "ds, avg_correlation, avg_correlations_per_lang, avg_pval, avg_pvalues_per_lang = crosslingual_faithfulness.evaluate(attribution, 16, dataset_with_alignments=ds, sliding_window_shapes=(1, 768))"
      ]
    },
    {
      "cell_type": "code",
      "execution_count": null,
      "metadata": {
        "id": "oB2dpNRTW23y"
      },
      "outputs": [],
      "source": [
        "show_results(avg_correlation, avg_correlations_per_lang, avg_pval, avg_pvalues_per_lang)"
      ]
    },
    {
      "cell_type": "markdown",
      "metadata": {
        "id": "1nX-L5YZW23z"
      },
      "source": [
        "## wrt Loss with SUM"
      ]
    },
    {
      "cell_type": "code",
      "execution_count": null,
      "metadata": {
        "id": "imVm9dRCW23z"
      },
      "outputs": [],
      "source": [
        "attr_config = AttributionConfig(AttributionMethods.Occlusion, remove_pad_tokens=True,\n",
        "                                             remove_cls_token=True, remove_sep_tokens=True, join_subwords=True,\n",
        "                                             normalize_scores=True,\n",
        "                                             forward_scoring= ForwardScoringOptions.LOSS,\n",
        "                                             aggregation_method=AggregationMethods.SUM,\n",
        "                                             label_names=['entailment', 'neutral', 'contradiction'])\n",
        "\n",
        "attribution = NLIAttribution(model_name=nli_model_name, config=attr_config)"
      ]
    },
    {
      "cell_type": "code",
      "execution_count": null,
      "metadata": {
        "id": "6puR-8cyW230"
      },
      "outputs": [],
      "source": [
        "ds, avg_correlation, avg_correlations_per_lang, avg_pval, avg_pvalues_per_lang = crosslingual_faithfulness.evaluate(attribution, 16, dataset_with_alignments=ds, sliding_window_shapes=(1, 768))"
      ]
    },
    {
      "cell_type": "code",
      "execution_count": null,
      "metadata": {
        "id": "xtOZ6pGCW230"
      },
      "outputs": [],
      "source": [
        "show_results(avg_correlation, avg_correlations_per_lang, avg_pval, avg_pvalues_per_lang)"
      ]
    },
    {
      "cell_type": "markdown",
      "metadata": {
        "id": "qCXdr9kHYbTZ"
      },
      "source": [
        "# LIME"
      ]
    },
    {
      "cell_type": "markdown",
      "metadata": {
        "id": "Y2OA8w_GYbTa"
      },
      "source": [
        "## wrt Top prediction with SUM"
      ]
    },
    {
      "cell_type": "code",
      "execution_count": null,
      "metadata": {
        "id": "4TZSENoiYbTa"
      },
      "outputs": [],
      "source": [
        "attr_config = AttributionConfig(AttributionMethods.LIME, remove_pad_tokens=True,\n",
        "                                             remove_cls_token=True, remove_sep_tokens=True, join_subwords=True,\n",
        "                                             normalize_scores=True,\n",
        "                                             forward_scoring= ForwardScoringOptions.TOP_PREDICTION,\n",
        "                                             aggregation_method=AggregationMethods.SUM,\n",
        "                                             label_names=['entailment', 'neutral', 'contradiction'])\n",
        "\n",
        "attribution = NLIAttribution(model_name=nli_model_name, config=attr_config)"
      ]
    },
    {
      "cell_type": "code",
      "execution_count": null,
      "metadata": {
        "id": "I_GbH1gCJblL"
      },
      "outputs": [],
      "source": [
        "import warnings\n",
        "warnings.filterwarnings(\"ignore\")"
      ]
    },
    {
      "cell_type": "code",
      "execution_count": null,
      "metadata": {
        "id": "6PEjv2uyYbTb"
      },
      "outputs": [],
      "source": [
        "ds, avg_correlation, avg_correlations_per_lang, avg_pval, avg_pvalues_per_lang = crosslingual_faithfulness.evaluate(attribution, 1, dataset_with_alignments=ds)"
      ]
    },
    {
      "cell_type": "code",
      "execution_count": null,
      "metadata": {
        "id": "g6GClWmkYbTb"
      },
      "outputs": [],
      "source": [
        "show_results(avg_correlation, avg_correlations_per_lang, avg_pval, avg_pvalues_per_lang)"
      ]
    },
    {
      "cell_type": "markdown",
      "metadata": {
        "id": "eTPaEgTYYbTd"
      },
      "source": [
        "## wrt Loss with SUM"
      ]
    },
    {
      "cell_type": "code",
      "execution_count": null,
      "metadata": {
        "id": "qSWOjXQKYbTd"
      },
      "outputs": [],
      "source": [
        "attr_config = AttributionConfig(AttributionMethods.LIME, remove_pad_tokens=True,\n",
        "                                             remove_cls_token=True, remove_sep_tokens=True, join_subwords=True,\n",
        "                                             normalize_scores=True,\n",
        "                                             forward_scoring= ForwardScoringOptions.LOSS,\n",
        "                                             aggregation_method=AggregationMethods.SUM,\n",
        "                                             label_names=['entailment', 'neutral', 'contradiction'])\n",
        "\n",
        "attribution = NLIAttribution(model_name=nli_model_name, config=attr_config)"
      ]
    },
    {
      "cell_type": "code",
      "execution_count": null,
      "metadata": {
        "id": "T6UYME09YbTd"
      },
      "outputs": [],
      "source": [
        "ds, avg_correlation, avg_correlations_per_lang, avg_pval, avg_pvalues_per_lang = crosslingual_faithfulness.evaluate(attribution, 1, dataset_with_alignments=ds)"
      ]
    },
    {
      "cell_type": "code",
      "execution_count": null,
      "metadata": {
        "id": "CGSAnEeyYbTe"
      },
      "outputs": [],
      "source": [
        "show_results(avg_correlation, avg_correlations_per_lang, avg_pval, avg_pvalues_per_lang)"
      ]
    },
    {
      "cell_type": "markdown",
      "metadata": {},
      "source": [
        "# Shapley"
      ]
    },
    {
      "cell_type": "markdown",
      "metadata": {},
      "source": [
        "## wrt Top prediction with SUM"
      ]
    },
    {
      "cell_type": "code",
      "execution_count": null,
      "metadata": {},
      "outputs": [],
      "source": [
        "attr_config = AttributionConfig(AttributionMethods.Shapley, remove_pad_tokens=True,\n",
        "                                             remove_cls_token=True, remove_sep_tokens=True, join_subwords=True,\n",
        "                                             normalize_scores=True,\n",
        "                                             forward_scoring= ForwardScoringOptions.TOP_PREDICTION,\n",
        "                                             aggregation_method=AggregationMethods.SUM,\n",
        "                                             label_names=['entailment', 'neutral', 'contradiction'])\n",
        "\n",
        "attribution = NLIAttribution(model_name=nli_model_name, config=attr_config)"
      ]
    },
    {
      "cell_type": "code",
      "execution_count": null,
      "metadata": {},
      "outputs": [],
      "source": [
        "ds, avg_correlation, avg_correlations_per_lang, avg_pval, avg_pvalues_per_lang = crosslingual_faithfulness.evaluate(attribution, 1, dataset_with_alignments=ds)"
      ]
    },
    {
      "cell_type": "code",
      "execution_count": null,
      "metadata": {},
      "outputs": [],
      "source": [
        "show_results(avg_correlation, avg_correlations_per_lang, avg_pval, avg_pvalues_per_lang)"
      ]
    },
    {
      "cell_type": "markdown",
      "metadata": {},
      "source": [
        "## wrt Loss with SUM"
      ]
    },
    {
      "cell_type": "code",
      "execution_count": null,
      "metadata": {},
      "outputs": [],
      "source": [
        "attr_config = AttributionConfig(AttributionMethods.Shapley, remove_pad_tokens=True,\n",
        "                                             remove_cls_token=True, remove_sep_tokens=True, join_subwords=True,\n",
        "                                             normalize_scores=True,\n",
        "                                             forward_scoring= ForwardScoringOptions.LOSS,\n",
        "                                             aggregation_method=AggregationMethods.SUM,\n",
        "                                             label_names=['entailment', 'neutral', 'contradiction'])\n",
        "\n",
        "attribution = NLIAttribution(model_name=nli_model_name, config=attr_config)"
      ]
    },
    {
      "cell_type": "code",
      "execution_count": null,
      "metadata": {},
      "outputs": [],
      "source": [
        "ds, avg_correlation, avg_correlations_per_lang, avg_pval, avg_pvalues_per_lang = crosslingual_faithfulness.evaluate(attribution, 1, dataset_with_alignments=ds)"
      ]
    },
    {
      "cell_type": "code",
      "execution_count": null,
      "metadata": {},
      "outputs": [],
      "source": [
        "show_results(avg_correlation, avg_correlations_per_lang, avg_pval, avg_pvalues_per_lang)"
      ]
    }
  ],
  "metadata": {
    "accelerator": "GPU",
    "colab": {
      "collapsed_sections": [
        "D0Sfb7Av4SoF",
        "CeulufijXKf2",
        "KbUMV9b8_rms",
        "tsbZk_TpoYHr",
        "jEWJjiQJghzK",
        "ElocMTYwXAby",
        "o8vLFWDCnC07",
        "ffte3ikyoiD2",
        "dvCw8Qx5Ol0M",
        "ZFTMJN--On1C",
        "z-eZDZKyOs7K",
        "zTQebqN7OuOZ",
        "e3rTuUxYOwjJ",
        "gcDPkxurVQey",
        "Ad7iddsyVQey",
        "rbmXxHs-VQez",
        "nFzNRKpYVQez",
        "k-PdtP16VQe2",
        "PD7jS2tDVosM",
        "RhGyZqsWVosM",
        "qMbLuagDVosO",
        "sVAWDsbmVosP",
        "b8JA35S9VosQ",
        "U_OWpD4hcuG5",
        "cC4P1PT1cuG6",
        "8VP-W2P1cuG7",
        "bOlhA9-IW23l",
        "lfjp7obPW23x",
        "1nX-L5YZW23z",
        "qCXdr9kHYbTZ",
        "Y2OA8w_GYbTa",
        "eTPaEgTYYbTd",
        "c_nL9lI3GuZh"
      ],
      "name": "Crosslingual_Faithfulness.ipynb",
      "provenance": []
    },
    "kernelspec": {
      "display_name": "Python 3",
      "name": "python3"
    },
    "language_info": {
      "name": "python"
    }
  },
  "nbformat": 4,
  "nbformat_minor": 0
}
