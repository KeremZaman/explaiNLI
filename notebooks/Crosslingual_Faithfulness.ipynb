{
  "nbformat": 4,
  "nbformat_minor": 0,
  "metadata": {
    "colab": {
      "name": "Crosslingual_Faithfulness.ipynb",
      "provenance": [],
      "collapsed_sections": [
        "D0Sfb7Av4SoF",
        "CeulufijXKf2",
        "KbUMV9b8_rms",
        "tsbZk_TpoYHr",
        "jEWJjiQJghzK",
        "ElocMTYwXAby",
        "o8vLFWDCnC07",
        "ffte3ikyoiD2",
        "dvCw8Qx5Ol0M",
        "ZFTMJN--On1C",
        "z-eZDZKyOs7K",
        "zTQebqN7OuOZ",
        "e3rTuUxYOwjJ",
        "gcDPkxurVQey",
        "Ad7iddsyVQey",
        "rbmXxHs-VQez",
        "nFzNRKpYVQez",
        "k-PdtP16VQe2",
        "PD7jS2tDVosM",
        "RhGyZqsWVosM",
        "qMbLuagDVosO",
        "sVAWDsbmVosP",
        "b8JA35S9VosQ",
        "U_OWpD4hcuG5",
        "cC4P1PT1cuG6",
        "8VP-W2P1cuG7",
        "bOlhA9-IW23l",
        "lfjp7obPW23x",
        "1nX-L5YZW23z",
        "qCXdr9kHYbTZ",
        "Y2OA8w_GYbTa",
        "eTPaEgTYYbTd",
        "c_nL9lI3GuZh"
      ]
    },
    "kernelspec": {
      "name": "python3",
      "display_name": "Python 3"
    },
    "language_info": {
      "name": "python"
    },
    "accelerator": "GPU"
  },
  "cells": [
    {
      "cell_type": "code",
      "metadata": {
        "id": "JxOLs41hEEDQ"
      },
      "source": [
        "%cd ../"
      ],
      "execution_count": null,
      "outputs": []
    },
    {
      "cell_type": "markdown",
      "metadata": {
        "id": "CeulufijXKf2"
      },
      "source": [
        "# Additional functions"
      ]
    },
    {
      "cell_type": "code",
      "metadata": {
        "id": "9F4o0UsnXQJh"
      },
      "source": [
        "from explainli.config import AttributionMethods, AttributionConfig, AggregationMethods, ForwardScoringOptions\n",
        "from explainli.explainli import NLIAttribution\n",
        "from eval import crosslingual_faithfulness\n",
        "\n",
        "from IPython.display import display\n",
        "import pandas as pd\n",
        "import numpy as np\n",
        "\n",
        "nli_model_name = '<path_to_finetuned_model>/bert-base-multilingual-finetuned-mnli'\n",
        "word_aligner = '<path_to_word_aligner>/awesome-align-finetuned-wo-co'"
      ],
      "execution_count": null,
      "outputs": []
    },
    {
      "cell_type": "code",
      "metadata": {
        "id": "qn37Auf6mzFn"
      },
      "source": [
        "def show_results(avg_correlation, avg_correlations_per_lang, avg_pval, avg_pvalues_per_lang):\n",
        "  avg_correlation_top5 = np.mean([avg_correlations_per_lang[lang] for lang in ['es', 'fr', 'de', 'zh', 'vi']])\n",
        "  avg_pval_top5 = np.mean([avg_pvalues_per_lang[lang] for lang in ['es', 'fr', 'de', 'zh', 'vi']])\n",
        "\n",
        "  items = [(lang, avg_correlations_per_lang[lang], avg_pvalues_per_lang[lang]) for lang in avg_correlations_per_lang if lang != 'en' ]\n",
        "  df = pd.DataFrame(items)\n",
        "  df.columns = ['language', 'correlation', 'pval']\n",
        "  df.set_index('language', inplace=True)\n",
        "  display(df)\n",
        "\n",
        "  print(f\"avg correlation: {avg_correlation}, avg pval: {avg_pval}\")\n",
        "  print(f\"avg correlation (top5): {avg_correlation_top5}, avg pval (top5): {avg_pval_top5}\")"
      ],
      "execution_count": null,
      "outputs": []
    },
    {
      "cell_type": "code",
      "metadata": {
        "id": "e0CaQn3W-q1w"
      },
      "source": [
        "import json\n",
        "\n",
        "def save_dataset_with_alignments(dataset, out):\n",
        "  pairs, labels, alignments = dataset\n",
        "  alignments_as_list = list(map(lambda x: list(x) if x is not None else None, alignments))\n",
        "  data_as_dict = {'alignments': alignments_as_list, 'pairs': pairs, 'labels': labels}\n",
        "\n",
        "  with open(out, 'w') as f:\n",
        "    json.dump(data_as_dict, f)\n",
        "\n",
        "def load_dataset_with_alignments(fname):\n",
        "  with open(fname, 'r') as f:\n",
        "    data_as_dict = json.load(f)\n",
        "    alignments = list(map(lambda x: set(map(lambda y: tuple(y), x)) if x is not None else None, data_as_dict['alignments']))\n",
        "    pairs, labels = data_as_dict['pairs'], data_as_dict['labels']\n",
        "\n",
        "  return pairs, labels, alignments"
      ],
      "execution_count": null,
      "outputs": []
    },
    {
      "cell_type": "markdown",
      "metadata": {
        "id": "KbUMV9b8_rms"
      },
      "source": [
        "## Create dataset with alignments, save and load"
      ]
    },
    {
      "cell_type": "code",
      "metadata": {
        "id": "Bl6wuHWJ_yIz"
      },
      "source": [
        "from datasets import load_dataset\n",
        "\n",
        "dataset = load_dataset('xnli', 'all_languages', split='test')\n",
        "pairs, labels, alignments = crosslingual_faithfulness.create_dataset_with_alignments(dataset, word_aligner=word_aligner)\n",
        "ds = pairs, labels, alignments\n",
        "\n",
        "save_dataset_with_alignments(ds, 'data_w_alignments.json')"
      ],
      "execution_count": null,
      "outputs": []
    },
    {
      "cell_type": "code",
      "metadata": {
        "id": "3TzfiGK-AAqh"
      },
      "source": [
        "ds = load_dataset_with_alignments('/content/drive/MyDrive/explaiNLI/data_w_alignments.json')"
      ],
      "execution_count": null,
      "outputs": []
    },
    {
      "cell_type": "markdown",
      "metadata": {
        "id": "tsbZk_TpoYHr"
      },
      "source": [
        "# InputXGradient"
      ]
    },
    {
      "cell_type": "markdown",
      "metadata": {
        "id": "jEWJjiQJghzK"
      },
      "source": [
        "## wrt Top prediction with MEAN"
      ]
    },
    {
      "cell_type": "code",
      "metadata": {
        "id": "bmGSL5WlgnPW"
      },
      "source": [
        "attr_config = AttributionConfig(AttributionMethods.InputXGradient, remove_pad_tokens=True,\n",
        "                                             remove_cls_token=True, remove_sep_tokens=True, join_subwords=True,\n",
        "                                             normalize_scores=True,\n",
        "                                             forward_scoring= ForwardScoringOptions.TOP_PREDICTION,\n",
        "                                             aggregation_method=AggregationMethods.MEAN,\n",
        "                                             label_names=['entailment', 'neutral', 'contradiction'])\n",
        "\n",
        "attribution = NLIAttribution(model_name=nli_model_name, config=attr_config)"
      ],
      "execution_count": null,
      "outputs": []
    },
    {
      "cell_type": "code",
      "metadata": {
        "id": "2GU2yNpVgsEn"
      },
      "source": [
        "ds, avg_correlation, avg_correlations_per_lang, avg_pval, avg_pvalues_per_lang = crosslingual_faithfulness.evaluate(attribution, 16, dataset_with_alignments=ds)"
      ],
      "execution_count": null,
      "outputs": []
    },
    {
      "cell_type": "code",
      "metadata": {
        "id": "D625_Y-bZAmZ"
      },
      "source": [
        "show_results(avg_correlation, avg_correlations_per_lang, avg_pval, avg_pvalues_per_lang)"
      ],
      "execution_count": null,
      "outputs": []
    },
    {
      "cell_type": "markdown",
      "metadata": {
        "id": "ElocMTYwXAby"
      },
      "source": [
        "## wrt Top prediction with L2"
      ]
    },
    {
      "cell_type": "code",
      "metadata": {
        "id": "i4awaL2Nm7k1"
      },
      "source": [
        "attr_config = AttributionConfig(AttributionMethods.InputXGradient, remove_pad_tokens=True,\n",
        "                                             remove_cls_token=True, remove_sep_tokens=True, join_subwords=True,\n",
        "                                             normalize_scores=True,\n",
        "                                             forward_scoring= ForwardScoringOptions.TOP_PREDICTION,\n",
        "                                             aggregation_method=AggregationMethods.L2,\n",
        "                                             label_names=['entailment', 'neutral', 'contradiction'])\n",
        "\n",
        "attribution = NLIAttribution(model_name=nli_model_name, config=attr_config)"
      ],
      "execution_count": null,
      "outputs": []
    },
    {
      "cell_type": "code",
      "metadata": {
        "id": "dIlALkG1m_-H"
      },
      "source": [
        "ds, avg_correlation, avg_correlations_per_lang, avg_pval, avg_pvalues_per_lang = crosslingual_faithfulness.evaluate(attribution, 16, dataset_with_alignments=ds)"
      ],
      "execution_count": null,
      "outputs": []
    },
    {
      "cell_type": "code",
      "metadata": {
        "id": "QzKZsH7enAxp"
      },
      "source": [
        "show_results(avg_correlation, avg_correlations_per_lang, avg_pval, avg_pvalues_per_lang)"
      ],
      "execution_count": null,
      "outputs": []
    },
    {
      "cell_type": "markdown",
      "metadata": {
        "id": "o8vLFWDCnC07"
      },
      "source": [
        "## wrt Loss with MEAN"
      ]
    },
    {
      "cell_type": "code",
      "metadata": {
        "id": "owajY3cQohwP"
      },
      "source": [
        "attr_config = AttributionConfig(AttributionMethods.InputXGradient, remove_pad_tokens=True,\n",
        "                                             remove_cls_token=True, remove_sep_tokens=True, join_subwords=True,\n",
        "                                             normalize_scores=True,\n",
        "                                             forward_scoring= ForwardScoringOptions.LOSS,\n",
        "                                             aggregation_method=AggregationMethods.MEAN,\n",
        "                                             label_names=['entailment', 'neutral', 'contradiction'])\n",
        "\n",
        "attribution = NLIAttribution(model_name=nli_model_name, config=attr_config)"
      ],
      "execution_count": null,
      "outputs": []
    },
    {
      "cell_type": "code",
      "metadata": {
        "id": "GTHI3qmfopO-"
      },
      "source": [
        "ds, avg_correlation, avg_correlations_per_lang, avg_pval, avg_pvalues_per_lang = crosslingual_faithfulness.evaluate(attribution, 16, dataset_with_alignments=ds)"
      ],
      "execution_count": null,
      "outputs": []
    },
    {
      "cell_type": "code",
      "metadata": {
        "id": "Is6mGKvworVH"
      },
      "source": [
        "show_results(avg_correlation, avg_correlations_per_lang, avg_pval, avg_pvalues_per_lang)"
      ],
      "execution_count": null,
      "outputs": []
    },
    {
      "cell_type": "markdown",
      "metadata": {
        "id": "ffte3ikyoiD2"
      },
      "source": [
        "## wrt Loss with L2"
      ]
    },
    {
      "cell_type": "code",
      "metadata": {
        "id": "NIdGCOicota7"
      },
      "source": [
        "attr_config = AttributionConfig(AttributionMethods.InputXGradient, remove_pad_tokens=True,\n",
        "                                             remove_cls_token=True, remove_sep_tokens=True, join_subwords=True,\n",
        "                                             normalize_scores=True,\n",
        "                                             forward_scoring= ForwardScoringOptions.LOSS,\n",
        "                                             aggregation_method=AggregationMethods.L2,\n",
        "                                             label_names=['entailment', 'neutral', 'contradiction'])\n",
        "\n",
        "attribution = NLIAttribution(model_name=nli_model_name, config=attr_config)"
      ],
      "execution_count": null,
      "outputs": []
    },
    {
      "cell_type": "code",
      "metadata": {
        "id": "PN09qTSRpSvS"
      },
      "source": [
        "ds, avg_correlation, avg_correlations_per_lang, avg_pval, avg_pvalues_per_lang = crosslingual_faithfulness.evaluate(attribution, 16, dataset_with_alignments=ds)"
      ],
      "execution_count": null,
      "outputs": []
    },
    {
      "cell_type": "code",
      "metadata": {
        "id": "nZS4qWCYpUh_"
      },
      "source": [
        "show_results(avg_correlation, avg_correlations_per_lang, avg_pval, avg_pvalues_per_lang)"
      ],
      "execution_count": null,
      "outputs": []
    },
    {
      "cell_type": "markdown",
      "metadata": {
        "id": "dvCw8Qx5Ol0M"
      },
      "source": [
        "# Saliency"
      ]
    },
    {
      "cell_type": "markdown",
      "metadata": {
        "id": "ZFTMJN--On1C"
      },
      "source": [
        "## wrt Top prediction with MEAN"
      ]
    },
    {
      "cell_type": "code",
      "metadata": {
        "id": "pWCDNu4PO2xg"
      },
      "source": [
        "attr_config = AttributionConfig(AttributionMethods.Saliency, remove_pad_tokens=True,\n",
        "                                             remove_cls_token=True, remove_sep_tokens=True, join_subwords=True,\n",
        "                                             normalize_scores=True,\n",
        "                                             forward_scoring= ForwardScoringOptions.TOP_PREDICTION,\n",
        "                                             aggregation_method=AggregationMethods.MEAN,\n",
        "                                             label_names=['entailment', 'neutral', 'contradiction'])\n",
        "\n",
        "attribution = NLIAttribution(model_name=nli_model_name, config=attr_config)"
      ],
      "execution_count": null,
      "outputs": []
    },
    {
      "cell_type": "code",
      "metadata": {
        "id": "3PIaQFXVO27X"
      },
      "source": [
        "ds, avg_correlation, avg_correlations_per_lang, avg_pval, avg_pvalues_per_lang = crosslingual_faithfulness.evaluate(attribution, 16, dataset_with_alignments=ds)"
      ],
      "execution_count": null,
      "outputs": []
    },
    {
      "cell_type": "code",
      "metadata": {
        "id": "9auBD7YQUtmd"
      },
      "source": [
        "show_results(avg_correlation, avg_correlations_per_lang, avg_pval, avg_pvalues_per_lang)"
      ],
      "execution_count": null,
      "outputs": []
    },
    {
      "cell_type": "markdown",
      "metadata": {
        "id": "z-eZDZKyOs7K"
      },
      "source": [
        "## wrt Top prediction with L2"
      ]
    },
    {
      "cell_type": "code",
      "metadata": {
        "id": "0emyF1M7O3c4"
      },
      "source": [
        "attr_config = AttributionConfig(AttributionMethods.Saliency, remove_pad_tokens=True,\n",
        "                                             remove_cls_token=True, remove_sep_tokens=True, join_subwords=True,\n",
        "                                             normalize_scores=True,\n",
        "                                             forward_scoring= ForwardScoringOptions.TOP_PREDICTION,\n",
        "                                             aggregation_method=AggregationMethods.L2,\n",
        "                                             label_names=['entailment', 'neutral', 'contradiction'])\n",
        "\n",
        "attribution = NLIAttribution(model_name=nli_model_name, config=attr_config)"
      ],
      "execution_count": null,
      "outputs": []
    },
    {
      "cell_type": "code",
      "metadata": {
        "id": "ip8l5BrAO3jJ"
      },
      "source": [
        "ds, avg_correlation, avg_correlations_per_lang, avg_pval, avg_pvalues_per_lang = crosslingual_faithfulness.evaluate(attribution, 16, dataset_with_alignments=ds)"
      ],
      "execution_count": null,
      "outputs": []
    },
    {
      "cell_type": "code",
      "metadata": {
        "id": "updQtkVkU4A1"
      },
      "source": [
        "show_results(avg_correlation, avg_correlations_per_lang, avg_pval, avg_pvalues_per_lang)"
      ],
      "execution_count": null,
      "outputs": []
    },
    {
      "cell_type": "markdown",
      "metadata": {
        "id": "zTQebqN7OuOZ"
      },
      "source": [
        "## wrt Loss with MEAN"
      ]
    },
    {
      "cell_type": "code",
      "metadata": {
        "id": "IzqRGA-ZO4AX"
      },
      "source": [
        "attr_config = AttributionConfig(AttributionMethods.Saliency, remove_pad_tokens=True,\n",
        "                                             remove_cls_token=True, remove_sep_tokens=True, join_subwords=True,\n",
        "                                             normalize_scores=True,\n",
        "                                             forward_scoring= ForwardScoringOptions.LOSS,\n",
        "                                             aggregation_method=AggregationMethods.MEAN,\n",
        "                                             label_names=['entailment', 'neutral', 'contradiction'])\n",
        "\n",
        "attribution = NLIAttribution(model_name=nli_model_name, config=attr_config)"
      ],
      "execution_count": null,
      "outputs": []
    },
    {
      "cell_type": "code",
      "metadata": {
        "id": "XfqjA2a-U1QC"
      },
      "source": [
        "ds, avg_correlation, avg_correlations_per_lang, avg_pval, avg_pvalues_per_lang = crosslingual_faithfulness.evaluate(attribution, 16, dataset_with_alignments=ds)"
      ],
      "execution_count": null,
      "outputs": []
    },
    {
      "cell_type": "code",
      "metadata": {
        "id": "wVsNGPlxO4Et"
      },
      "source": [
        "show_results(avg_correlation, avg_correlations_per_lang, avg_pval, avg_pvalues_per_lang)"
      ],
      "execution_count": null,
      "outputs": []
    },
    {
      "cell_type": "markdown",
      "metadata": {
        "id": "e3rTuUxYOwjJ"
      },
      "source": [
        "## wrt Loss with L2"
      ]
    },
    {
      "cell_type": "code",
      "metadata": {
        "id": "C0WcWGVxO4fm"
      },
      "source": [
        "attr_config = AttributionConfig(AttributionMethods.Saliency, remove_pad_tokens=True,\n",
        "                                             remove_cls_token=True, remove_sep_tokens=True, join_subwords=True,\n",
        "                                             normalize_scores=True,\n",
        "                                             forward_scoring= ForwardScoringOptions.LOSS,\n",
        "                                             aggregation_method=AggregationMethods.L2,\n",
        "                                             label_names=['entailment', 'neutral', 'contradiction'])\n",
        "\n",
        "attribution = NLIAttribution(model_name=nli_model_name, config=attr_config)"
      ],
      "execution_count": null,
      "outputs": []
    },
    {
      "cell_type": "code",
      "metadata": {
        "id": "SHS3piAZU61P"
      },
      "source": [
        "ds, avg_correlation, avg_correlations_per_lang, avg_pval, avg_pvalues_per_lang = crosslingual_faithfulness.evaluate(attribution, 16, dataset_with_alignments=ds)"
      ],
      "execution_count": null,
      "outputs": []
    },
    {
      "cell_type": "code",
      "metadata": {
        "id": "3RFUejuSO4kP"
      },
      "source": [
        "show_results(avg_correlation, avg_correlations_per_lang, avg_pval, avg_pvalues_per_lang)"
      ],
      "execution_count": null,
      "outputs": []
    },
    {
      "cell_type": "markdown",
      "metadata": {
        "id": "gcDPkxurVQey"
      },
      "source": [
        "# Activation"
      ]
    },
    {
      "cell_type": "markdown",
      "metadata": {
        "id": "Ad7iddsyVQey"
      },
      "source": [
        "## wrt Top prediction with MEAN"
      ]
    },
    {
      "cell_type": "code",
      "metadata": {
        "id": "sOspAAAfVQey",
        "colab": {
          "base_uri": "https://localhost:8080/"
        },
        "outputId": "f3126707-c1b2-4a80-86dc-f6bfc6cac7ab"
      },
      "source": [
        "attr_config = AttributionConfig(AttributionMethods.Activation, remove_pad_tokens=True,\n",
        "                                             remove_cls_token=True, remove_sep_tokens=True, join_subwords=True,\n",
        "                                             normalize_scores=True,\n",
        "                                             forward_scoring= ForwardScoringOptions.TOP_PREDICTION,\n",
        "                                             aggregation_method=AggregationMethods.MEAN,\n",
        "                                             label_names=['entailment', 'neutral', 'contradiction'])\n",
        "\n",
        "attribution = NLIAttribution(model_name=nli_model_name, config=attr_config)"
      ],
      "execution_count": null,
      "outputs": [
        {
          "output_type": "stream",
          "name": "stderr",
          "text": [
            "/usr/local/lib/python3.7/dist-packages/transformers/configuration_utils.py:337: UserWarning: Passing `gradient_checkpointing` to a config initialization is deprecated and will be removed in v5 Transformers. Using `model.gradient_checkpointing_enable()` instead, or if you are using the `Trainer` API, pass `gradient_checkpointing=True` in your `TrainingArguments`.\n",
            "  \"Passing `gradient_checkpointing` to a config initialization is deprecated and will be removed in v5 \"\n"
          ]
        }
      ]
    },
    {
      "cell_type": "code",
      "metadata": {
        "id": "Ws6YZhMYVQey"
      },
      "source": [
        "ds, avg_correlation, avg_correlations_per_lang, avg_pval, avg_pvalues_per_lang = crosslingual_faithfulness.evaluate(attribution, 16, dataset_with_alignments=ds)"
      ],
      "execution_count": null,
      "outputs": []
    },
    {
      "cell_type": "code",
      "metadata": {
        "id": "VpZvdQrVVQez"
      },
      "source": [
        "show_results(avg_correlation, avg_correlations_per_lang, avg_pval, avg_pvalues_per_lang)"
      ],
      "execution_count": null,
      "outputs": []
    },
    {
      "cell_type": "markdown",
      "metadata": {
        "id": "rbmXxHs-VQez"
      },
      "source": [
        "## wrt Top prediction with L2"
      ]
    },
    {
      "cell_type": "code",
      "metadata": {
        "id": "uvjzr0PRVQez"
      },
      "source": [
        "attr_config = AttributionConfig(AttributionMethods.Activation, remove_pad_tokens=True,\n",
        "                                             remove_cls_token=True, remove_sep_tokens=True, join_subwords=True,\n",
        "                                             normalize_scores=True,\n",
        "                                             forward_scoring= ForwardScoringOptions.TOP_PREDICTION,\n",
        "                                             aggregation_method=AggregationMethods.L2,\n",
        "                                             label_names=['entailment', 'neutral', 'contradiction'])\n",
        "\n",
        "attribution = NLIAttribution(model_name=nli_model_name, config=attr_config)"
      ],
      "execution_count": null,
      "outputs": []
    },
    {
      "cell_type": "code",
      "metadata": {
        "id": "c95Iw5KhVQez"
      },
      "source": [
        "ds, avg_correlation, avg_correlations_per_lang, avg_pval, avg_pvalues_per_lang = crosslingual_faithfulness.evaluate(attribution, 16, dataset_with_alignments=ds)"
      ],
      "execution_count": null,
      "outputs": []
    },
    {
      "cell_type": "code",
      "metadata": {
        "id": "UGuCgSxDVQez"
      },
      "source": [
        "show_results(avg_correlation, avg_correlations_per_lang, avg_pval, avg_pvalues_per_lang)"
      ],
      "execution_count": null,
      "outputs": []
    },
    {
      "cell_type": "markdown",
      "metadata": {
        "id": "nFzNRKpYVQez"
      },
      "source": [
        "## wrt Loss with MEAN"
      ]
    },
    {
      "cell_type": "code",
      "metadata": {
        "id": "QNOdgsc8VQe1"
      },
      "source": [
        "attr_config = AttributionConfig(AttributionMethods.Activation, remove_pad_tokens=True,\n",
        "                                             remove_cls_token=True, remove_sep_tokens=True, join_subwords=True,\n",
        "                                             normalize_scores=True,\n",
        "                                             forward_scoring= ForwardScoringOptions.LOSS,\n",
        "                                             aggregation_method=AggregationMethods.MEAN,\n",
        "                                             label_names=['entailment', 'neutral', 'contradiction'])\n",
        "\n",
        "attribution = NLIAttribution(model_name=nli_model_name, config=attr_config)"
      ],
      "execution_count": null,
      "outputs": []
    },
    {
      "cell_type": "code",
      "metadata": {
        "id": "nczfdgpeVQe1"
      },
      "source": [
        "ds, avg_correlation, avg_correlations_per_lang, avg_pval, avg_pvalues_per_lang = crosslingual_faithfulness.evaluate(attribution, 16, dataset_with_alignments=ds)"
      ],
      "execution_count": null,
      "outputs": []
    },
    {
      "cell_type": "code",
      "metadata": {
        "id": "3jG7-E15VQe1"
      },
      "source": [
        "show_results(avg_correlation, avg_correlations_per_lang, avg_pval, avg_pvalues_per_lang)"
      ],
      "execution_count": null,
      "outputs": []
    },
    {
      "cell_type": "markdown",
      "metadata": {
        "id": "k-PdtP16VQe2"
      },
      "source": [
        "## wrt Loss with L2"
      ]
    },
    {
      "cell_type": "code",
      "metadata": {
        "id": "3hYTVz_9VQe2"
      },
      "source": [
        "attr_config = AttributionConfig(AttributionMethods.Activation, remove_pad_tokens=True,\n",
        "                                             remove_cls_token=True, remove_sep_tokens=True, join_subwords=True,\n",
        "                                             normalize_scores=True,\n",
        "                                             forward_scoring= ForwardScoringOptions.LOSS,\n",
        "                                             aggregation_method=AggregationMethods.L2,\n",
        "                                             label_names=['entailment', 'neutral', 'contradiction'])\n",
        "\n",
        "attribution = NLIAttribution(model_name=nli_model_name, config=attr_config)"
      ],
      "execution_count": null,
      "outputs": []
    },
    {
      "cell_type": "code",
      "metadata": {
        "id": "D3tzn4OGVQe2"
      },
      "source": [
        "ds, avg_correlation, avg_correlations_per_lang, avg_pval, avg_pvalues_per_lang = crosslingual_faithfulness.evaluate(attribution, 16, dataset_with_alignments=ds)"
      ],
      "execution_count": null,
      "outputs": []
    },
    {
      "cell_type": "code",
      "metadata": {
        "id": "AqjRX_EjVQe2"
      },
      "source": [
        "show_results(avg_correlation, avg_correlations_per_lang, avg_pval, avg_pvalues_per_lang)"
      ],
      "execution_count": null,
      "outputs": []
    },
    {
      "cell_type": "markdown",
      "metadata": {
        "id": "PD7jS2tDVosM"
      },
      "source": [
        "# Guided BP"
      ]
    },
    {
      "cell_type": "markdown",
      "metadata": {
        "id": "RhGyZqsWVosM"
      },
      "source": [
        "## wrt Top prediction with MEAN"
      ]
    },
    {
      "cell_type": "code",
      "metadata": {
        "id": "9zceZTB8VosN"
      },
      "source": [
        "attr_config = AttributionConfig(AttributionMethods.GuidedBackprop, remove_pad_tokens=True,\n",
        "                                             remove_cls_token=True, remove_sep_tokens=True, join_subwords=True,\n",
        "                                             normalize_scores=True,\n",
        "                                             forward_scoring= ForwardScoringOptions.TOP_PREDICTION,\n",
        "                                             aggregation_method=AggregationMethods.MEAN,\n",
        "                                             label_names=['entailment', 'neutral', 'contradiction'])\n",
        "\n",
        "attribution = NLIAttribution(model_name=nli_model_name, config=attr_config)"
      ],
      "execution_count": null,
      "outputs": []
    },
    {
      "cell_type": "code",
      "metadata": {
        "id": "inTeKTFwVosN"
      },
      "source": [
        "ds, avg_correlation, avg_correlations_per_lang, avg_pval, avg_pvalues_per_lang = crosslingual_faithfulness.evaluate(attribution, 16, dataset_with_alignments=ds)"
      ],
      "execution_count": null,
      "outputs": []
    },
    {
      "cell_type": "code",
      "metadata": {
        "id": "iyUQRcBxVosN"
      },
      "source": [
        "show_results(avg_correlation, avg_correlations_per_lang, avg_pval, avg_pvalues_per_lang)"
      ],
      "execution_count": null,
      "outputs": []
    },
    {
      "cell_type": "markdown",
      "metadata": {
        "id": "qMbLuagDVosO"
      },
      "source": [
        "## wrt Top prediction with L2"
      ]
    },
    {
      "cell_type": "code",
      "metadata": {
        "id": "4t78mVxzVosO"
      },
      "source": [
        "attr_config = AttributionConfig(AttributionMethods.GuidedBackprop, remove_pad_tokens=True,\n",
        "                                             remove_cls_token=True, remove_sep_tokens=True, join_subwords=True,\n",
        "                                             normalize_scores=True,\n",
        "                                             forward_scoring= ForwardScoringOptions.TOP_PREDICTION,\n",
        "                                             aggregation_method=AggregationMethods.L2,\n",
        "                                             label_names=['entailment', 'neutral', 'contradiction'])\n",
        "\n",
        "attribution = NLIAttribution(model_name=nli_model_name, config=attr_config)"
      ],
      "execution_count": null,
      "outputs": []
    },
    {
      "cell_type": "code",
      "metadata": {
        "id": "EFoHbFcFVosO"
      },
      "source": [
        "ds, avg_correlation, avg_correlations_per_lang, avg_pval, avg_pvalues_per_lang = crosslingual_faithfulness.evaluate(attribution, 16, dataset_with_alignments=ds)"
      ],
      "execution_count": null,
      "outputs": []
    },
    {
      "cell_type": "code",
      "metadata": {
        "id": "sUS47d5kVosO"
      },
      "source": [
        "show_results(avg_correlation, avg_correlations_per_lang, avg_pval, avg_pvalues_per_lang)"
      ],
      "execution_count": null,
      "outputs": []
    },
    {
      "cell_type": "markdown",
      "metadata": {
        "id": "sVAWDsbmVosP"
      },
      "source": [
        "## wrt Loss with MEAN"
      ]
    },
    {
      "cell_type": "code",
      "metadata": {
        "id": "8MDKZQX2VosP"
      },
      "source": [
        "attr_config = AttributionConfig(AttributionMethods.GuidedBackprop, remove_pad_tokens=True,\n",
        "                                             remove_cls_token=True, remove_sep_tokens=True, join_subwords=True,\n",
        "                                             normalize_scores=True,\n",
        "                                             forward_scoring= ForwardScoringOptions.LOSS,\n",
        "                                             aggregation_method=AggregationMethods.MEAN,\n",
        "                                             label_names=['entailment', 'neutral', 'contradiction'])\n",
        "\n",
        "attribution = NLIAttribution(model_name=nli_model_name, config=attr_config)"
      ],
      "execution_count": null,
      "outputs": []
    },
    {
      "cell_type": "code",
      "metadata": {
        "id": "jaYsnkdXVosP"
      },
      "source": [
        "ds, avg_correlation, avg_correlations_per_lang, avg_pval, avg_pvalues_per_lang = crosslingual_faithfulness.evaluate(attribution, 16, dataset_with_alignments=ds)"
      ],
      "execution_count": null,
      "outputs": []
    },
    {
      "cell_type": "code",
      "metadata": {
        "id": "urn32fj6VosP"
      },
      "source": [
        "show_results(avg_correlation, avg_correlations_per_lang, avg_pval, avg_pvalues_per_lang)"
      ],
      "execution_count": null,
      "outputs": []
    },
    {
      "cell_type": "markdown",
      "metadata": {
        "id": "b8JA35S9VosQ"
      },
      "source": [
        "## wrt Loss with L2"
      ]
    },
    {
      "cell_type": "code",
      "metadata": {
        "id": "XmMRxZdQVosQ"
      },
      "source": [
        "attr_config = AttributionConfig(AttributionMethods.GuidedBackprop, remove_pad_tokens=True,\n",
        "                                             remove_cls_token=True, remove_sep_tokens=True, join_subwords=True,\n",
        "                                             normalize_scores=True,\n",
        "                                             forward_scoring= ForwardScoringOptions.LOSS,\n",
        "                                             aggregation_method=AggregationMethods.L2,\n",
        "                                             label_names=['entailment', 'neutral', 'contradiction'])\n",
        "\n",
        "attribution = NLIAttribution(model_name=nli_model_name, config=attr_config)"
      ],
      "execution_count": null,
      "outputs": []
    },
    {
      "cell_type": "code",
      "metadata": {
        "id": "CKRhFWB_VosQ"
      },
      "source": [
        "ds, avg_correlation, avg_correlations_per_lang, avg_pval, avg_pvalues_per_lang = crosslingual_faithfulness.evaluate(attribution, 16, dataset_with_alignments=ds)"
      ],
      "execution_count": null,
      "outputs": []
    },
    {
      "cell_type": "code",
      "metadata": {
        "id": "Ga3rSNO2VosR"
      },
      "source": [
        "show_results(avg_correlation, avg_correlations_per_lang, avg_pval, avg_pvalues_per_lang)"
      ],
      "execution_count": null,
      "outputs": []
    },
    {
      "cell_type": "markdown",
      "metadata": {
        "id": "bOlhA9-IW23l"
      },
      "source": [
        "# Occlusion\n",
        "\n",
        "## General Summary\n",
        "\n",
        "| Method | $\\rho$ (p-val) | $\\rho$ (p-val) [top-5] |\n",
        "|--------|-----|----|\n",
        "|__wrt Top prediction__|\n",
        "|Occlusion ($\\Sigma$) | 0.1514 (0.3381) | 0.2234 (0.2722) |\n",
        "|__wrt Loss__|\n",
        "|Occlusion ($\\Sigma$) | in progress | in progress |"
      ]
    },
    {
      "cell_type": "markdown",
      "metadata": {
        "id": "lfjp7obPW23x"
      },
      "source": [
        "## wrt Top prediction with SUM"
      ]
    },
    {
      "cell_type": "code",
      "metadata": {
        "id": "4ldmnncAW23x"
      },
      "source": [
        "attr_config = AttributionConfig(AttributionMethods.Occlusion, remove_pad_tokens=True,\n",
        "                                             remove_cls_token=True, remove_sep_tokens=True, join_subwords=True,\n",
        "                                             normalize_scores=True,\n",
        "                                             forward_scoring= ForwardScoringOptions.TOP_PREDICTION,\n",
        "                                             aggregation_method=AggregationMethods.SUM,\n",
        "                                             label_names=['entailment', 'neutral', 'contradiction'])\n",
        "\n",
        "attribution = NLIAttribution(model_name=nli_model_name, config=attr_config)"
      ],
      "execution_count": null,
      "outputs": []
    },
    {
      "cell_type": "code",
      "metadata": {
        "id": "GXniiLejW23y"
      },
      "source": [
        "ds, avg_correlation, avg_correlations_per_lang, avg_pval, avg_pvalues_per_lang = crosslingual_faithfulness.evaluate(attribution, 16, dataset_with_alignments=ds, sliding_window_shapes=(1, 768))"
      ],
      "execution_count": null,
      "outputs": []
    },
    {
      "cell_type": "code",
      "metadata": {
        "id": "oB2dpNRTW23y"
      },
      "source": [
        "show_results(avg_correlation, avg_correlations_per_lang, avg_pval, avg_pvalues_per_lang)"
      ],
      "execution_count": null,
      "outputs": []
    },
    {
      "cell_type": "markdown",
      "metadata": {
        "id": "1nX-L5YZW23z"
      },
      "source": [
        "## wrt Loss with SUM"
      ]
    },
    {
      "cell_type": "code",
      "metadata": {
        "id": "imVm9dRCW23z"
      },
      "source": [
        "attr_config = AttributionConfig(AttributionMethods.Occlusion, remove_pad_tokens=True,\n",
        "                                             remove_cls_token=True, remove_sep_tokens=True, join_subwords=True,\n",
        "                                             normalize_scores=True,\n",
        "                                             forward_scoring= ForwardScoringOptions.LOSS,\n",
        "                                             aggregation_method=AggregationMethods.SUM,\n",
        "                                             label_names=['entailment', 'neutral', 'contradiction'])\n",
        "\n",
        "attribution = NLIAttribution(model_name=nli_model_name, config=attr_config)"
      ],
      "execution_count": null,
      "outputs": []
    },
    {
      "cell_type": "code",
      "metadata": {
        "id": "6puR-8cyW230"
      },
      "source": [
        "ds, avg_correlation, avg_correlations_per_lang, avg_pval, avg_pvalues_per_lang = crosslingual_faithfulness.evaluate(attribution, 16, dataset_with_alignments=ds, sliding_window_shapes=(1, 768))"
      ],
      "execution_count": null,
      "outputs": []
    },
    {
      "cell_type": "code",
      "metadata": {
        "id": "xtOZ6pGCW230"
      },
      "source": [
        "show_results(avg_correlation, avg_correlations_per_lang, avg_pval, avg_pvalues_per_lang)"
      ],
      "execution_count": null,
      "outputs": []
    },
    {
      "cell_type": "markdown",
      "metadata": {
        "id": "qCXdr9kHYbTZ"
      },
      "source": [
        "# LIME"
      ]
    },
    {
      "cell_type": "markdown",
      "metadata": {
        "id": "Y2OA8w_GYbTa"
      },
      "source": [
        "## wrt Top prediction with SUM"
      ]
    },
    {
      "cell_type": "code",
      "metadata": {
        "id": "4TZSENoiYbTa"
      },
      "source": [
        "attr_config = AttributionConfig(AttributionMethods.LIME, remove_pad_tokens=True,\n",
        "                                             remove_cls_token=True, remove_sep_tokens=True, join_subwords=True,\n",
        "                                             normalize_scores=True,\n",
        "                                             forward_scoring= ForwardScoringOptions.TOP_PREDICTION,\n",
        "                                             aggregation_method=AggregationMethods.SUM,\n",
        "                                             label_names=['entailment', 'neutral', 'contradiction'])\n",
        "\n",
        "attribution = NLIAttribution(model_name=nli_model_name, config=attr_config)"
      ],
      "execution_count": null,
      "outputs": []
    },
    {
      "cell_type": "code",
      "metadata": {
        "id": "I_GbH1gCJblL"
      },
      "source": [
        "import warnings\n",
        "warnings.filterwarnings(\"ignore\")"
      ],
      "execution_count": null,
      "outputs": []
    },
    {
      "cell_type": "code",
      "metadata": {
        "id": "6PEjv2uyYbTb"
      },
      "source": [
        "ds, avg_correlation, avg_correlations_per_lang, avg_pval, avg_pvalues_per_lang = crosslingual_faithfulness.evaluate(attribution, 1, dataset_with_alignments=ds)"
      ],
      "execution_count": null,
      "outputs": []
    },
    {
      "cell_type": "code",
      "metadata": {
        "id": "g6GClWmkYbTb"
      },
      "source": [
        "show_results(avg_correlation, avg_correlations_per_lang, avg_pval, avg_pvalues_per_lang)"
      ],
      "execution_count": null,
      "outputs": []
    },
    {
      "cell_type": "markdown",
      "metadata": {
        "id": "eTPaEgTYYbTd"
      },
      "source": [
        "## wrt Loss with SUM"
      ]
    },
    {
      "cell_type": "code",
      "metadata": {
        "id": "qSWOjXQKYbTd"
      },
      "source": [
        "attr_config = AttributionConfig(AttributionMethods.LIME, remove_pad_tokens=True,\n",
        "                                             remove_cls_token=True, remove_sep_tokens=True, join_subwords=True,\n",
        "                                             normalize_scores=True,\n",
        "                                             forward_scoring= ForwardScoringOptions.LOSS,\n",
        "                                             aggregation_method=AggregationMethods.SUM,\n",
        "                                             label_names=['entailment', 'neutral', 'contradiction'])\n",
        "\n",
        "attribution = NLIAttribution(model_name=nli_model_name, config=attr_config)"
      ],
      "execution_count": null,
      "outputs": []
    },
    {
      "cell_type": "code",
      "metadata": {
        "id": "T6UYME09YbTd"
      },
      "source": [
        "ds, avg_correlation, avg_correlations_per_lang, avg_pval, avg_pvalues_per_lang = crosslingual_faithfulness.evaluate(attribution, 1, dataset_with_alignments=ds)"
      ],
      "execution_count": null,
      "outputs": []
    },
    {
      "cell_type": "code",
      "metadata": {
        "id": "CGSAnEeyYbTe"
      },
      "source": [
        "show_results(avg_correlation, avg_correlations_per_lang, avg_pval, avg_pvalues_per_lang)"
      ],
      "execution_count": null,
      "outputs": []
    }
  ]
}