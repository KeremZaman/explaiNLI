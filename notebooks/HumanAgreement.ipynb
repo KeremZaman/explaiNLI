{
  "nbformat": 4,
  "nbformat_minor": 0,
  "metadata": {
    "colab": {
      "name": "HumanAgreement.ipynb",
      "provenance": [],
      "collapsed_sections": []
    },
    "kernelspec": {
      "name": "python3",
      "display_name": "Python 3"
    },
    "language_info": {
      "name": "python"
    },
    "accelerator": "GPU"
  },
  "cells": [
    {
      "cell_type": "code",
      "metadata": {
        "id": "JR-GjOh03FnS"
      },
      "source": [
        "%cd ../"
      ],
      "execution_count": null,
      "outputs": []
    },
    {
      "cell_type": "markdown",
      "metadata": {
        "id": "0TsUAPtqFHfO"
      },
      "source": [
        "# Download e-SNLI dev and test sets"
      ]
    },
    {
      "cell_type": "code",
      "metadata": {
        "id": "0e11R9HeWxIJ"
      },
      "source": [
        "!wget https://raw.githubusercontent.com/OanaMariaCamburu/e-SNLI/master/dataset/esnli_test.csv"
      ],
      "execution_count": null,
      "outputs": []
    },
    {
      "cell_type": "code",
      "metadata": {
        "id": "c3Wtp0QTB0wc"
      },
      "source": [
        "!wget https://raw.githubusercontent.com/OanaMariaCamburu/e-SNLI/master/dataset/esnli_dev.csv"
      ],
      "execution_count": null,
      "outputs": []
    },
    {
      "cell_type": "markdown",
      "metadata": {
        "id": "S9OXeCaZFM8D"
      },
      "source": [
        "# Import and Initialization"
      ]
    },
    {
      "cell_type": "code",
      "metadata": {
        "id": "2mJMRtJoCk7P"
      },
      "source": [
        "from eval import human_agreement\n",
        "from explainli.config import AttributionMethods, AttributionConfig, AggregationMethods, ForwardScoringOptions\n",
        "from explainli.explainli import NLIAttribution\n",
        "\n",
        "model_name = 'textattack/bert-base-uncased-snli'"
      ],
      "execution_count": null,
      "outputs": []
    },
    {
      "cell_type": "markdown",
      "metadata": {
        "id": "2CP_JWCoB4iG"
      },
      "source": [
        "# InputXGradient HA"
      ]
    },
    {
      "cell_type": "markdown",
      "metadata": {
        "id": "yiya9yyUCaPp"
      },
      "source": [
        "## MEAN aggregation - wrt Top Prediction"
      ]
    },
    {
      "cell_type": "code",
      "metadata": {
        "id": "uEHtPq2r2qkS"
      },
      "source": [
        "attr_config = AttributionConfig(AttributionMethods.InputXGradient, remove_pad_tokens=True,\n",
        "                                             remove_cls_token=True, remove_sep_tokens=True, join_subwords=True,\n",
        "                                             normalize_scores=True,\n",
        "                                             forward_scoring= ForwardScoringOptions.TOP_PREDICTION,\n",
        "                                             aggregation_method=AggregationMethods.MEAN,\n",
        "                                             label_names=['entailment', 'neutral', 'contradiction'])\n",
        "\n",
        "attribution = NLIAttribution(model_name=model_name, config=attr_config)\n"
      ],
      "execution_count": null,
      "outputs": []
    },
    {
      "cell_type": "code",
      "metadata": {
        "id": "okhdg0iXpRBn"
      },
      "source": [
        "_, mAP, f1 = human_agreement.evaluate(attribution, 'esnli_test.csv', 192, 0)\n",
        "print(f\"mAP: {mAP}, f1: {f1}\")"
      ],
      "execution_count": null,
      "outputs": []
    },
    {
      "cell_type": "markdown",
      "metadata": {
        "id": "8HXi_pzICs_U"
      },
      "source": [
        "## L2 aggregation - wrt Top Prediction"
      ]
    },
    {
      "cell_type": "code",
      "metadata": {
        "id": "c4A4qt7ICTds"
      },
      "source": [
        "attr_config = AttributionConfig(AttributionMethods.InputXGradient, remove_pad_tokens=True,\n",
        "                                             remove_cls_token=True, remove_sep_tokens=True, join_subwords=True,\n",
        "                                             normalize_scores=True,\n",
        "                                             forward_scoring= ForwardScoringOptions.TOP_PREDICTION,\n",
        "                                             aggregation_method=AggregationMethods.L2,\n",
        "                                             label_names=['entailment', 'neutral', 'contradiction'])\n",
        "\n",
        "attribution = NLIAttribution(model_name=model_name, config=attr_config)"
      ],
      "execution_count": null,
      "outputs": []
    },
    {
      "cell_type": "code",
      "metadata": {
        "id": "xLY5czuuCXOp"
      },
      "source": [
        "_, mAP, f1 = human_agreement.evaluate(attribution, 'esnli_test.csv', 192, 0.5)\n",
        "print(f\"mAP: {mAP}, f1: {f1}\")\n"
      ],
      "execution_count": null,
      "outputs": []
    },
    {
      "cell_type": "markdown",
      "metadata": {
        "id": "zga892wXCUaS"
      },
      "source": [
        "## MEAN aggregation - wrt Loss"
      ]
    },
    {
      "cell_type": "code",
      "metadata": {
        "id": "dHFA5m40DMBi"
      },
      "source": [
        "attr_config = AttributionConfig(AttributionMethods.InputXGradient, remove_pad_tokens=True,\n",
        "                                             remove_cls_token=True, remove_sep_tokens=True, join_subwords=True,\n",
        "                                             normalize_scores=True,\n",
        "                                             forward_scoring= ForwardScoringOptions.LOSS,\n",
        "                                             aggregation_method=AggregationMethods.MEAN,\n",
        "                                             label_names=['entailment', 'neutral', 'contradiction'])\n",
        "\n",
        "attribution = NLIAttribution(model_name=model_name, config=attr_config)\n"
      ],
      "execution_count": null,
      "outputs": []
    },
    {
      "cell_type": "code",
      "metadata": {
        "id": "o2mwKeRQDML_"
      },
      "source": [
        "_, mAP, f1 = human_agreement.evaluate(attribution, 'esnli_test.csv', 192, 0)\n",
        "print(f\"mAP: {mAP}, f1: {f1}\")\n"
      ],
      "execution_count": null,
      "outputs": []
    },
    {
      "cell_type": "markdown",
      "metadata": {
        "id": "rtO5h10TDKiC"
      },
      "source": [
        "## L2 aggregation - wrt Loss"
      ]
    },
    {
      "cell_type": "code",
      "metadata": {
        "id": "D6RaJeE7AHHp"
      },
      "source": [
        "attr_config = AttributionConfig(AttributionMethods.InputXGradient, remove_pad_tokens=True,\n",
        "                                             remove_cls_token=True, remove_sep_tokens=True, join_subwords=True,\n",
        "                                             normalize_scores=True,\n",
        "                                             forward_scoring= ForwardScoringOptions.LOSS,\n",
        "                                             aggregation_method=AggregationMethods.L2,\n",
        "                                             label_names=['entailment', 'neutral', 'contradiction'])\n",
        "\n",
        "attribution = NLIAttribution(model_name=model_name, config=attr_config)\n"
      ],
      "execution_count": null,
      "outputs": []
    },
    {
      "cell_type": "code",
      "metadata": {
        "id": "c2Pwq1aDDkcA"
      },
      "source": [
        "_, mAP, f1 = human_agreement.evaluate(attribution, 'esnli_test.csv', 192, 0.5)\n",
        "print(f\"mAP: {mAP}, f1: {f1}\")\n"
      ],
      "execution_count": null,
      "outputs": []
    },
    {
      "cell_type": "markdown",
      "metadata": {
        "id": "L2JjMWVTD9LN"
      },
      "source": [
        "# Saliency HA"
      ]
    },
    {
      "cell_type": "markdown",
      "metadata": {
        "id": "aPIw43EBEEsX"
      },
      "source": [
        "## MEAN aggregation - wrt Top Prediction"
      ]
    },
    {
      "cell_type": "code",
      "metadata": {
        "id": "ipYXG9hmEW9S"
      },
      "source": [
        "attr_config = AttributionConfig(AttributionMethods.Saliency, remove_pad_tokens=True,\n",
        "                                             remove_cls_token=True, remove_sep_tokens=True, join_subwords=True,\n",
        "                                             normalize_scores=True,\n",
        "                                             forward_scoring= ForwardScoringOptions.TOP_PREDICTION,\n",
        "                                             aggregation_method=AggregationMethods.MEAN,\n",
        "                                             label_names=['entailment', 'neutral', 'contradiction'])\n",
        "\n",
        "attribution = NLIAttribution(model_name=model_name, config=attr_config)"
      ],
      "execution_count": null,
      "outputs": []
    },
    {
      "cell_type": "code",
      "metadata": {
        "id": "24sDXE4nEXRQ"
      },
      "source": [
        "_, mAP, f1 = human_agreement.evaluate(attribution, 'esnli_test.csv', 192, 0)\n",
        "print(f\"mAP: {mAP}, f1: {f1}\")\n"
      ],
      "execution_count": null,
      "outputs": []
    },
    {
      "cell_type": "markdown",
      "metadata": {
        "id": "ZZ4hJPBbEGLA"
      },
      "source": [
        "## L2 aggregation - wrt Top Prediction"
      ]
    },
    {
      "cell_type": "code",
      "metadata": {
        "id": "D37WaB2jEoC9"
      },
      "source": [
        "attr_config = AttributionConfig(AttributionMethods.Saliency, remove_pad_tokens=True,\n",
        "                                             remove_cls_token=True, remove_sep_tokens=True, join_subwords=True,\n",
        "                                             normalize_scores=True,\n",
        "                                             forward_scoring= ForwardScoringOptions.TOP_PREDICTION,\n",
        "                                             aggregation_method=AggregationMethods.L2,\n",
        "                                             label_names=['entailment', 'neutral', 'contradiction'])\n",
        "\n",
        "attribution = NLIAttribution(model_name=model_name, config=attr_config)"
      ],
      "execution_count": null,
      "outputs": []
    },
    {
      "cell_type": "code",
      "metadata": {
        "id": "JwMjW0TBEqh9"
      },
      "source": [
        "_, mAP, f1 = human_agreement.evaluate(attribution, 'esnli_test.csv', 192, 0.5)\n",
        "print(f\"mAP: {mAP}, f1: {f1}\")\n"
      ],
      "execution_count": null,
      "outputs": []
    },
    {
      "cell_type": "markdown",
      "metadata": {
        "id": "02XQEzNeEGP5"
      },
      "source": [
        "## MEAN aggregation - wrt Loss"
      ]
    },
    {
      "cell_type": "code",
      "metadata": {
        "id": "wh2pPfUEEvhq"
      },
      "source": [
        "attr_config = AttributionConfig(AttributionMethods.Saliency, remove_pad_tokens=True,\n",
        "                                             remove_cls_token=True, remove_sep_tokens=True, join_subwords=True,\n",
        "                                             normalize_scores=True,\n",
        "                                             forward_scoring= ForwardScoringOptions.LOSS,\n",
        "                                             aggregation_method=AggregationMethods.MEAN,\n",
        "                                             label_names=['entailment', 'neutral', 'contradiction'])\n",
        "\n",
        "attribution = NLIAttribution(model_name=model_name, config=attr_config)"
      ],
      "execution_count": null,
      "outputs": []
    },
    {
      "cell_type": "code",
      "metadata": {
        "id": "SFSYBHYZEzrf"
      },
      "source": [
        "_, mAP, f1 = human_agreement.evaluate(attribution, 'esnli_test.csv', 192, 0)\n",
        "print(f\"mAP: {mAP}, f1: {f1}\")\n"
      ],
      "execution_count": null,
      "outputs": []
    },
    {
      "cell_type": "markdown",
      "metadata": {
        "id": "5KL5FnWNESHs"
      },
      "source": [
        "## L2 aggregation - wrt Loss"
      ]
    },
    {
      "cell_type": "code",
      "metadata": {
        "id": "d_bwqyAuA-fH"
      },
      "source": [
        "attr_config = AttributionConfig(AttributionMethods.Saliency, remove_pad_tokens=True,\n",
        "                                             remove_cls_token=True, remove_sep_tokens=True, join_subwords=True,\n",
        "                                             normalize_scores=True,\n",
        "                                             forward_scoring= ForwardScoringOptions.LOSS,\n",
        "                                             aggregation_method=AggregationMethods.L2,\n",
        "                                             label_names=['entailment', 'neutral', 'contradiction'])\n",
        "\n",
        "attribution = NLIAttribution(model_name=model_name, config=attr_config)"
      ],
      "execution_count": null,
      "outputs": []
    },
    {
      "cell_type": "code",
      "metadata": {
        "id": "YyxmW-h8E_HW"
      },
      "source": [
        "_, mAP, f1 = human_agreement.evaluate(attribution, 'esnli_test.csv', 192, 0.5)\n",
        "print(f\"mAP: {mAP}, f1: {f1}\")\n"
      ],
      "execution_count": null,
      "outputs": []
    },
    {
      "cell_type": "markdown",
      "metadata": {
        "id": "xu3t_gSGEC-w"
      },
      "source": [
        "# Activation HA"
      ]
    },
    {
      "cell_type": "markdown",
      "metadata": {
        "id": "V4dPsLitEH4U"
      },
      "source": [
        "## MEAN aggregation - wrt Top Prediction"
      ]
    },
    {
      "cell_type": "code",
      "metadata": {
        "id": "0npprk2mEdb1"
      },
      "source": [
        "attr_config = AttributionConfig(AttributionMethods.Activation, remove_pad_tokens=True,\n",
        "                                             remove_cls_token=True, remove_sep_tokens=True, join_subwords=True,\n",
        "                                             normalize_scores=True,\n",
        "                                             forward_scoring= ForwardScoringOptions.TOP_PREDICTION,\n",
        "                                             aggregation_method=AggregationMethods.MEAN,\n",
        "                                             label_names=['entailment', 'neutral', 'contradiction'])\n",
        "\n",
        "attribution = NLIAttribution(model_name=model_name, config=attr_config)"
      ],
      "execution_count": null,
      "outputs": []
    },
    {
      "cell_type": "code",
      "metadata": {
        "id": "wIUAcHyGEded"
      },
      "source": [
        "_, mAP, f1 = human_agreement.evaluate(attribution, 'esnli_test.csv', 192, 0)\n",
        "print(f\"mAP: {mAP}, f1: {f1}\")"
      ],
      "execution_count": null,
      "outputs": []
    },
    {
      "cell_type": "markdown",
      "metadata": {
        "id": "H6fDOiADEIRc"
      },
      "source": [
        "## L2 aggregation - wrt Top Prediction"
      ]
    },
    {
      "cell_type": "code",
      "metadata": {
        "id": "zn90oN2lFZpr"
      },
      "source": [
        "attr_config = AttributionConfig(AttributionMethods.Activation, remove_pad_tokens=True,\n",
        "                                             remove_cls_token=True, remove_sep_tokens=True, join_subwords=True,\n",
        "                                             normalize_scores=True,\n",
        "                                             forward_scoring= ForwardScoringOptions.TOP_PREDICTION,\n",
        "                                             aggregation_method=AggregationMethods.L2,\n",
        "                                             label_names=['entailment', 'neutral', 'contradiction'])\n",
        "\n",
        "attribution = NLIAttribution(model_name=model_name, config=attr_config)"
      ],
      "execution_count": null,
      "outputs": []
    },
    {
      "cell_type": "code",
      "metadata": {
        "id": "jwdkHgmYFZye"
      },
      "source": [
        "_, mAP, f1 = human_agreement.evaluate(attribution, 'esnli_test.csv', 192, 0.5)\n",
        "print(f\"mAP: {mAP}, f1: {f1}\")"
      ],
      "execution_count": null,
      "outputs": []
    },
    {
      "cell_type": "markdown",
      "metadata": {
        "id": "kE_x74ziEIlk"
      },
      "source": [
        "## MEAN aggregation - wrt Loss"
      ]
    },
    {
      "cell_type": "code",
      "metadata": {
        "id": "JoEKqAADFkiN"
      },
      "source": [
        "attr_config = AttributionConfig(AttributionMethods.Activation, remove_pad_tokens=True,\n",
        "                                             remove_cls_token=True, remove_sep_tokens=True, join_subwords=True,\n",
        "                                             normalize_scores=True,\n",
        "                                             forward_scoring= ForwardScoringOptions.LOSS,\n",
        "                                             aggregation_method=AggregationMethods.MEAN,\n",
        "                                             label_names=['entailment', 'neutral', 'contradiction'])\n",
        "\n",
        "attribution = NLIAttribution(model_name=model_name, config=attr_config)"
      ],
      "execution_count": null,
      "outputs": []
    },
    {
      "cell_type": "code",
      "metadata": {
        "id": "wzNNUgNYFkzS"
      },
      "source": [
        "_, mAP, f1 = human_agreement.evaluate(attribution, 'esnli_test.csv', 192, 0)\n",
        "print(f\"mAP: {mAP}, f1: {f1}\")\n"
      ],
      "execution_count": null,
      "outputs": []
    },
    {
      "cell_type": "markdown",
      "metadata": {
        "id": "IeYWgRmHEI3r"
      },
      "source": [
        "## L2 aggregation - wrt Loss"
      ]
    },
    {
      "cell_type": "code",
      "metadata": {
        "id": "iFNlpGxjFmKo"
      },
      "source": [
        "attr_config = AttributionConfig(AttributionMethods.Activation, remove_pad_tokens=True,\n",
        "                                             remove_cls_token=True, remove_sep_tokens=True, join_subwords=True,\n",
        "                                             normalize_scores=True,\n",
        "                                             forward_scoring= ForwardScoringOptions.LOSS,\n",
        "                                             aggregation_method=AggregationMethods.L2,\n",
        "                                             label_names=['entailment', 'neutral', 'contradiction'])\n",
        "\n",
        "attribution = NLIAttribution(model_name=model_name, config=attr_config)"
      ],
      "execution_count": null,
      "outputs": []
    },
    {
      "cell_type": "code",
      "metadata": {
        "id": "M29xijh5FmQ2"
      },
      "source": [
        "_, mAP, f1 = human_agreement.evaluate(attribution, 'esnli_test.csv', 192, 0.5)\n",
        "print(f\"mAP: {mAP}, f1: {f1}\")"
      ],
      "execution_count": null,
      "outputs": []
    },
    {
      "cell_type": "markdown",
      "metadata": {
        "id": "KZE8uL9WL5Ho"
      },
      "source": [
        "# Guided BP HA"
      ]
    },
    {
      "cell_type": "markdown",
      "metadata": {
        "id": "JuWr-c2dMEY2"
      },
      "source": [
        "## MEAN aggregation - wrt Top Prediction"
      ]
    },
    {
      "cell_type": "code",
      "metadata": {
        "id": "HHckKwhsMgDI"
      },
      "source": [
        "attr_config = AttributionConfig(AttributionMethods.GuidedBackprop, remove_pad_tokens=True,\n",
        "                                             remove_cls_token=True, remove_sep_tokens=True, join_subwords=True,\n",
        "                                             normalize_scores=True,\n",
        "                                             forward_scoring= ForwardScoringOptions.TOP_PREDICTION,\n",
        "                                             aggregation_method=AggregationMethods.MEAN,\n",
        "                                             label_names=['entailment', 'neutral', 'contradiction'])\n",
        "\n",
        "attribution = NLIAttribution(model_name=model_name, config=attr_config)"
      ],
      "execution_count": null,
      "outputs": []
    },
    {
      "cell_type": "code",
      "metadata": {
        "id": "NBVC3bZ7MgOF"
      },
      "source": [
        "_, mAP, f1 = human_agreement.evaluate(attribution, 'esnli_test.csv', 192, 0)\n",
        "print(f\"mAP: {mAP}, f1: {f1}\")"
      ],
      "execution_count": null,
      "outputs": []
    },
    {
      "cell_type": "markdown",
      "metadata": {
        "id": "UyX0O3v0MUFe"
      },
      "source": [
        "## L2 aggregation - wrt Top Prediction"
      ]
    },
    {
      "cell_type": "code",
      "metadata": {
        "id": "yTbstEU0Mhar"
      },
      "source": [
        "attr_config = AttributionConfig(AttributionMethods.GuidedBackprop, remove_pad_tokens=True,\n",
        "                                             remove_cls_token=True, remove_sep_tokens=True, join_subwords=True,\n",
        "                                             normalize_scores=True,\n",
        "                                             forward_scoring= ForwardScoringOptions.TOP_PREDICTION,\n",
        "                                             aggregation_method=AggregationMethods.L2,\n",
        "                                             label_names=['entailment', 'neutral', 'contradiction'])\n",
        "\n",
        "attribution = NLIAttribution(model_name=model_name, config=attr_config)"
      ],
      "execution_count": null,
      "outputs": []
    },
    {
      "cell_type": "code",
      "metadata": {
        "id": "PxCZwu5_MhhK"
      },
      "source": [
        "_, mAP, f1 = human_agreement.evaluate(attribution, 'esnli_test.csv', 192, 0.5)\n",
        "print(f\"mAP: {mAP}, f1: {f1}\")"
      ],
      "execution_count": null,
      "outputs": []
    },
    {
      "cell_type": "markdown",
      "metadata": {
        "id": "jRcBbydZMVil"
      },
      "source": [
        "## MEAN aggregation - wrt Loss"
      ]
    },
    {
      "cell_type": "code",
      "metadata": {
        "id": "8SQPM8SMMh_i"
      },
      "source": [
        "attr_config = AttributionConfig(AttributionMethods.GuidedBackprop, remove_pad_tokens=True,\n",
        "                                             remove_cls_token=True, remove_sep_tokens=True, join_subwords=True,\n",
        "                                             normalize_scores=True,\n",
        "                                             forward_scoring= ForwardScoringOptions.LOSS,\n",
        "                                             aggregation_method=AggregationMethods.MEAN,\n",
        "                                             label_names=['entailment', 'neutral', 'contradiction'])\n",
        "\n",
        "attribution = NLIAttribution(model_name=model_name, config=attr_config)"
      ],
      "execution_count": null,
      "outputs": []
    },
    {
      "cell_type": "code",
      "metadata": {
        "id": "vLoDnwgkMiG2"
      },
      "source": [
        "_, mAP, f1 = human_agreement.evaluate(attribution, 'esnli_test.csv', 192, 0)\n",
        "print(f\"mAP: {mAP}, f1: {f1}\")"
      ],
      "execution_count": null,
      "outputs": []
    },
    {
      "cell_type": "markdown",
      "metadata": {
        "id": "N7P47By4Mc7R"
      },
      "source": [
        "## L2 aggregation - wrt Loss"
      ]
    },
    {
      "cell_type": "code",
      "metadata": {
        "id": "02haJDWHMjJ7"
      },
      "source": [
        "attr_config = AttributionConfig(AttributionMethods.GuidedBackprop, remove_pad_tokens=True,\n",
        "                                             remove_cls_token=True, remove_sep_tokens=True, join_subwords=True,\n",
        "                                             normalize_scores=True,\n",
        "                                             forward_scoring= ForwardScoringOptions.LOSS,\n",
        "                                             aggregation_method=AggregationMethods.L2,\n",
        "                                             label_names=['entailment', 'neutral', 'contradiction'])\n",
        "\n",
        "attribution = NLIAttribution(model_name=model_name, config=attr_config)"
      ],
      "execution_count": null,
      "outputs": []
    },
    {
      "cell_type": "code",
      "metadata": {
        "id": "ZBJlJjkRMjOf"
      },
      "source": [
        "_, mAP, f1 = human_agreement.evaluate(attribution, 'esnli_test.csv', 192, 0.5)\n",
        "print(f\"mAP: {mAP}, f1: {f1}\")"
      ],
      "execution_count": null,
      "outputs": []
    },
    {
      "cell_type": "markdown",
      "metadata": {
        "id": "-n1MCWmTJVQa"
      },
      "source": [
        "# Occlusion HA"
      ]
    },
    {
      "cell_type": "markdown",
      "metadata": {
        "id": "PNuwxsFJJZql"
      },
      "source": [
        "## SUM aggregation - wrt Top Prediction"
      ]
    },
    {
      "cell_type": "code",
      "metadata": {
        "id": "h7MjYqqYK2YC"
      },
      "source": [
        "attr_config = AttributionConfig(AttributionMethods.Occlusion, remove_pad_tokens=True,\n",
        "                                             remove_cls_token=True, remove_sep_tokens=True, join_subwords=True,\n",
        "                                             normalize_scores=True,\n",
        "                                             forward_scoring= ForwardScoringOptions.TOP_PREDICTION,\n",
        "                                             aggregation_method=AggregationMethods.SUM,\n",
        "                                             label_names=['entailment', 'neutral', 'contradiction'])\n",
        "\n",
        "attribution = NLIAttribution(model_name=model_name, config=attr_config)"
      ],
      "execution_count": null,
      "outputs": []
    },
    {
      "cell_type": "code",
      "metadata": {
        "id": "SVurcuKKK2gL"
      },
      "source": [
        "_, mAP, f1 = human_agreement.evaluate(attribution, 'esnli_test.csv', 192, 0, sliding_window_shapes=(1, 768))\n",
        "print(f\"mAP: {mAP}, f1: {f1}\")"
      ],
      "execution_count": null,
      "outputs": []
    },
    {
      "cell_type": "markdown",
      "metadata": {
        "id": "lWTN0XrQJaOh"
      },
      "source": [
        "## SUM aggregation - wrt Loss"
      ]
    },
    {
      "cell_type": "code",
      "metadata": {
        "id": "TgSC2bosLMIw"
      },
      "source": [
        "attr_config = AttributionConfig(AttributionMethods.Occlusion, remove_pad_tokens=True,\n",
        "                                             remove_cls_token=True, remove_sep_tokens=True, join_subwords=True,\n",
        "                                             normalize_scores=True,\n",
        "                                             forward_scoring= ForwardScoringOptions.LOSS,\n",
        "                                             aggregation_method=AggregationMethods.SUM,\n",
        "                                             label_names=['entailment', 'neutral', 'contradiction'])\n",
        "\n",
        "attribution = NLIAttribution(model_name=model_name, config=attr_config)"
      ],
      "execution_count": null,
      "outputs": []
    },
    {
      "cell_type": "code",
      "metadata": {
        "id": "aMKXofYyLN0r"
      },
      "source": [
        "_, mAP, f1 = human_agreement.evaluate(attribution, 'esnli_test.csv', 1, 0, sliding_window_shapes=(1, 768))\n",
        "print(f\"mAP: {mAP}, f1: {f1}\")"
      ],
      "execution_count": null,
      "outputs": []
    },
    {
      "cell_type": "markdown",
      "metadata": {
        "id": "A0N9FmDUAUiK"
      },
      "source": [
        "# LIME HA"
      ]
    },
    {
      "cell_type": "markdown",
      "metadata": {
        "id": "BXj6SJnxAaTc"
      },
      "source": [
        "## SUM aggregation - wrt Top Prediction"
      ]
    },
    {
      "cell_type": "code",
      "metadata": {
        "id": "1I_DOvrWAues"
      },
      "source": [
        "attr_config = AttributionConfig(AttributionMethods.LIME, remove_pad_tokens=True,\n",
        "                                             remove_cls_token=True, remove_sep_tokens=True, join_subwords=True,\n",
        "                                             normalize_scores=True,\n",
        "                                             forward_scoring= ForwardScoringOptions.TOP_PREDICTION,\n",
        "                                             aggregation_method=AggregationMethods.SUM,\n",
        "                                             label_names=['entailment', 'neutral', 'contradiction'])\n",
        "\n",
        "attribution = NLIAttribution(model_name=model_name, config=attr_config)"
      ],
      "execution_count": null,
      "outputs": []
    },
    {
      "cell_type": "code",
      "metadata": {
        "id": "2y4Ebl5AAvyQ"
      },
      "source": [
        "import warnings\n",
        "warnings.filterwarnings('ignore')\n",
        "warnings.simplefilter('ignore')\n",
        "\n",
        "_, mAP, f1 = human_agreement.evaluate(attribution, 'esnli_test.csv', 1, 0)\n",
        "print(f\"mAP: {mAP}, f1: {f1}\")"
      ],
      "execution_count": null,
      "outputs": []
    },
    {
      "cell_type": "markdown",
      "metadata": {
        "id": "bAOfkP0TAqID"
      },
      "source": [
        "## SUM aggregation - wrt Loss"
      ]
    },
    {
      "cell_type": "code",
      "metadata": {
        "id": "FE8TmSoWAqaC"
      },
      "source": [
        "attr_config = AttributionConfig(AttributionMethods.LIME, remove_pad_tokens=True,\n",
        "                                             remove_cls_token=True, remove_sep_tokens=True, join_subwords=True,\n",
        "                                             normalize_scores=True,\n",
        "                                             forward_scoring= ForwardScoringOptions.LOSS,\n",
        "                                             aggregation_method=AggregationMethods.SUM,\n",
        "                                             label_names=['entailment', 'neutral', 'contradiction'])\n",
        "\n",
        "attribution = NLIAttribution(model_name=model_name, config=attr_config)"
      ],
      "execution_count": null,
      "outputs": []
    },
    {
      "cell_type": "code",
      "metadata": {
        "id": "bCX4GBcLAwTi"
      },
      "source": [
        "warnings.filterwarnings('ignore')\n",
        "warnings.simplefilter('ignore')\n",
        "\n",
        "_, mAP, f1 = human_agreement.evaluate(attribution, 'esnli_test.csv', 1, 0)\n",
        "print(f\"mAP: {mAP}, f1: {f1}\")\n"
      ],
      "execution_count": null,
      "outputs": []
    },
    {
      "cell_type": "markdown",
      "metadata": {
        "id": "BfsnyUh50Yed"
      },
      "source": [
        "# Shapley"
      ]
    },
    {
      "cell_type": "markdown",
      "metadata": {
        "id": "HBf7PsPT0cY4"
      },
      "source": [
        "## SUM aggregation - wrt Top Prediction"
      ]
    },
    {
      "cell_type": "code",
      "metadata": {
        "id": "i6m0W2zV0dMs"
      },
      "source": [
        "attr_config = AttributionConfig(AttributionMethods.Shapley, remove_pad_tokens=True,\n",
        "                                             remove_cls_token=True, remove_sep_tokens=True, join_subwords=True,\n",
        "                                             normalize_scores=True,\n",
        "                                             forward_scoring= ForwardScoringOptions.TOP_PREDICTION,\n",
        "                                             aggregation_method=AggregationMethods.SUM,\n",
        "                                             label_names=['entailment', 'neutral', 'contradiction'])\n",
        "\n",
        "attribution = NLIAttribution(model_name=model_name, config=attr_config)"
      ],
      "execution_count": null,
      "outputs": []
    },
    {
      "cell_type": "code",
      "metadata": {
        "id": "jh1MDv6T0dYP"
      },
      "source": [
        "_, mAP, f1 = human_agreement.evaluate(attribution, 'esnli_test.csv', 1, 0)\n",
        "print(f\"mAP: {mAP}, f1: {f1}\")"
      ],
      "execution_count": null,
      "outputs": []
    },
    {
      "cell_type": "markdown",
      "metadata": {
        "id": "08t_4XG_0dpU"
      },
      "source": [
        "## SUM aggregation - wrt Loss"
      ]
    },
    {
      "cell_type": "code",
      "metadata": {
        "id": "CT1_SwSG0d5X"
      },
      "source": [
        "attr_config = AttributionConfig(AttributionMethods.Shapley, remove_pad_tokens=True,\n",
        "                                             remove_cls_token=True, remove_sep_tokens=True, join_subwords=True,\n",
        "                                             normalize_scores=True,\n",
        "                                             forward_scoring= ForwardScoringOptions.LOSS,\n",
        "                                             aggregation_method=AggregationMethods.SUM,\n",
        "                                             label_names=['entailment', 'neutral', 'contradiction'])\n",
        "\n",
        "attribution = NLIAttribution(model_name=model_name, config=attr_config)"
      ],
      "execution_count": null,
      "outputs": []
    },
    {
      "cell_type": "code",
      "metadata": {
        "id": "b2vqIiZC0eFJ"
      },
      "source": [
        "_, mAP, f1 = human_agreement.evaluate(attribution, 'esnli_test.csv', 128, 0)\n",
        "print(f\"mAP: {mAP}, f1: {f1}\")"
      ],
      "execution_count": null,
      "outputs": []
    },
    {
      "cell_type": "markdown",
      "metadata": {
        "id": "3As6bkKr7LMN"
      },
      "source": [
        "# Integrated Gradients"
      ]
    },
    {
      "cell_type": "markdown",
      "metadata": {
        "id": "_FSkCtoNRpdo"
      },
      "source": [
        "## MEAN aggregation - wrt Top Prediction"
      ]
    },
    {
      "cell_type": "code",
      "metadata": {
        "id": "vexIKtmYRma2"
      },
      "source": [
        "attr_config = AttributionConfig(AttributionMethods.IntegratedGradients, remove_pad_tokens=True,\n",
        "                                             remove_cls_token=True, remove_sep_tokens=True, join_subwords=True,\n",
        "                                             normalize_scores=True,\n",
        "                                             forward_scoring= ForwardScoringOptions.TOP_PREDICTION,\n",
        "                                             aggregation_method=AggregationMethods.MEAN,\n",
        "                                             label_names=['entailment', 'neutral', 'contradiction'])\n",
        "attribution = NLIAttribution(model_name=model_name, config=attr_config)"
      ],
      "execution_count": null,
      "outputs": []
    },
    {
      "cell_type": "code",
      "metadata": {
        "id": "rIWI6swdRopn"
      },
      "source": [
        "num_steps = 75\n",
        "_, mAP, f1 = human_agreement.evaluate(attribution, 'esnli_test.csv', 1, 0, n_steps=num_steps)\n",
        "print(f\"mAP: {mAP}, f1: {f1} for n_steps={num_steps}\")\n"
      ],
      "execution_count": null,
      "outputs": []
    },
    {
      "cell_type": "markdown",
      "metadata": {
        "id": "mwwW6OplR8ch"
      },
      "source": [
        "## L2 aggregation - wrt Top Prediction"
      ]
    },
    {
      "cell_type": "code",
      "metadata": {
        "id": "nfVaCZKoepqm"
      },
      "source": [
        "attr_config = AttributionConfig(AttributionMethods.IntegratedGradients, remove_pad_tokens=True,\n",
        "                                             remove_cls_token=True, remove_sep_tokens=True, join_subwords=True,\n",
        "                                             normalize_scores=True,\n",
        "                                             forward_scoring= ForwardScoringOptions.TOP_PREDICTION,\n",
        "                                             aggregation_method=AggregationMethods.L2,\n",
        "                                             label_names=['entailment', 'neutral', 'contradiction'])\n",
        "attribution = NLIAttribution(model_name=model_name, config=attr_config)"
      ],
      "execution_count": null,
      "outputs": []
    },
    {
      "cell_type": "code",
      "metadata": {
        "id": "tlrlBffSexC9"
      },
      "source": [
        "num_steps = 100\n",
        "_, mAP, f1 = human_agreement.evaluate(attribution, 'esnli_test.csv', 1, 0.5, n_steps=num_steps)\n",
        "print(f\"mAP: {mAP}, f1: {f1} for n_steps={num_steps}\")\n"
      ],
      "execution_count": null,
      "outputs": []
    },
    {
      "cell_type": "markdown",
      "metadata": {
        "id": "grhRPpnReqQT"
      },
      "source": [
        "## MEAN aggregation - wrt Loss"
      ]
    },
    {
      "cell_type": "code",
      "metadata": {
        "id": "OSRQogdnetIc"
      },
      "source": [
        "attr_config = AttributionConfig(AttributionMethods.IntegratedGradients, remove_pad_tokens=True,\n",
        "                                             remove_cls_token=True, remove_sep_tokens=True, join_subwords=True,\n",
        "                                             normalize_scores=True,\n",
        "                                             forward_scoring= ForwardScoringOptions.LOSS,\n",
        "                                             aggregation_method=AggregationMethods.MEAN,\n",
        "                                             label_names=['entailment', 'neutral', 'contradiction'])\n",
        "attribution = NLIAttribution(model_name=model_name, config=attr_config)"
      ],
      "execution_count": null,
      "outputs": []
    },
    {
      "cell_type": "code",
      "metadata": {
        "id": "8RPeZG-9etP0"
      },
      "source": [
        "num_steps = 50\n",
        "_, mAP, f1 = human_agreement.evaluate(attribution, 'esnli_test.csv', 3, 0, n_steps=num_steps)\n",
        "print(f\"mAP: {mAP}, f1: {f1} for n_steps={num_steps}\")"
      ],
      "execution_count": null,
      "outputs": []
    },
    {
      "cell_type": "markdown",
      "metadata": {
        "id": "jiA6I3C2ett5"
      },
      "source": [
        "## L2 aggregation - wrt Loss"
      ]
    },
    {
      "cell_type": "code",
      "metadata": {
        "id": "nas5kuo-fNrM"
      },
      "source": [
        "attr_config = AttributionConfig(AttributionMethods.IntegratedGradients, remove_pad_tokens=True,\n",
        "                                             remove_cls_token=True, remove_sep_tokens=True, join_subwords=True,\n",
        "                                             normalize_scores=True,\n",
        "                                             forward_scoring= ForwardScoringOptions.LOSS,\n",
        "                                             aggregation_method=AggregationMethods.L2,\n",
        "                                             label_names=['entailment', 'neutral', 'contradiction'])\n",
        "attribution = NLIAttribution(model_name=model_name, config=attr_config)"
      ],
      "execution_count": null,
      "outputs": []
    },
    {
      "cell_type": "code",
      "metadata": {
        "id": "0IjVievEfPZN"
      },
      "source": [
        "num_steps = 50\n",
        "_, mAP, f1 = human_agreement.evaluate(attribution, 'esnli_test.csv', 3, 0.5, n_steps=num_steps)\n",
        "print(f\"mAP: {mAP}, f1: {f1} for n_steps={num_steps}\")"
      ],
      "execution_count": null,
      "outputs": []
    }
  ]
}