{
  "cells": [
    {
      "cell_type": "code",
      "execution_count": null,
      "metadata": {
        "id": "Q7Gin7uAWTLX"
      },
      "outputs": [],
      "source": [
        "cd .."
      ]
    },
    {
      "cell_type": "code",
      "execution_count": null,
      "metadata": {
        "id": "Zgk65esYWTLa"
      },
      "outputs": [],
      "source": [
        "from eval import eraser_faithfulness\n",
        "from explainli.config import AttributionMethods, AttributionConfig, AggregationMethods, ForwardScoringOptions\n",
        "from explainli.explainli import NLIAttribution\n",
        "\n",
        "nli_model_name = '<path_to_finetuned_model>/bert-base-multilingual-finetuned-mnli'"
      ]
    },
    {
      "cell_type": "markdown",
      "metadata": {
        "id": "52q1uJ6JWTLa"
      },
      "source": [
        "## Additional Functions"
      ]
    },
    {
      "cell_type": "code",
      "execution_count": null,
      "metadata": {
        "id": "hAe6tfE7WTLc"
      },
      "outputs": [],
      "source": [
        "import json\n",
        "import torch\n",
        "\n",
        "def save_outputs(name, comprehensiveness_score, sufficiency_score, all_compre_scores, all_suff_scores, compre_pairs_w_perturbations, suff_pairs_w_perturbations, compre_pred_out, suff_pred_out):\n",
        "    with open(f\"{name}_all_scores_and_perturbations.json\", \"w\") as f:\n",
        "        data = {'compre_score': str(comprehensiveness_score),\n",
        "                'suff_score': str(sufficiency_score),\n",
        "                'all_compre_scores': list(map(lambda x: str(x.item()), all_compre_scores)),\n",
        "                'all_suff_scores': list(map(lambda x: str(x.item()), all_suff_scores)),\n",
        "                'compre_perturbations': compre_pairs_w_perturbations,\n",
        "                'suff_perturbations': suff_pairs_w_perturbations\n",
        "               }\n",
        "        json.dump(data, f)\n",
        "        \n",
        "        torch.save(compre_pred_out, f\"{name}_compre_pred_out.pt\")\n",
        "        torch.save(suff_pred_out, f\"{name}_suf_pred_out.pt\")\n",
        "    "
      ]
    },
    {
      "cell_type": "markdown",
      "metadata": {
        "id": "W5Z5gRB0WTLe"
      },
      "source": [
        "# InputxGradient"
      ]
    },
    {
      "cell_type": "markdown",
      "metadata": {
        "id": "ast8Nzp1WTLe"
      },
      "source": [
        "## wrt Top Prediction with MEAN"
      ]
    },
    {
      "cell_type": "code",
      "execution_count": null,
      "metadata": {
        "id": "PmbcaKW6WTLe"
      },
      "outputs": [],
      "source": [
        "attr_config = AttributionConfig(AttributionMethods.InputXGradient, remove_pad_tokens=True,\n",
        "                                             remove_cls_token=True, remove_sep_tokens=False, join_subwords=True,\n",
        "                                             normalize_scores=True,\n",
        "                                             forward_scoring= ForwardScoringOptions.TOP_PREDICTION,\n",
        "                                             aggregation_method=AggregationMethods.MEAN,\n",
        "                                             label_names=['entailment', 'neutral', 'contradiction'])\n",
        "\n",
        "attribution = NLIAttribution(model_name=nli_model_name, config=attr_config)"
      ]
    },
    {
      "cell_type": "code",
      "execution_count": null,
      "metadata": {
        "id": "2e9HHxdDWTLf"
      },
      "outputs": [],
      "source": [
        "comprehensiveness_score, sufficiency_score, all_compre_scores, all_suff_scores, compre_pairs_w_perturbations, \\\n",
        "suff_pairs_w_perturbations, compre_pred_out, suff_pred_out =  eraser_faithfulness.evaluate(attribution, \n",
        "                                                                                           percentages=[0.01, 0.05, 0.1, 0.2, 0.5],\n",
        "                                                                                           batch_size=64, attr_batch_size=192, return_all_outputs=True)"
      ]
    },
    {
      "cell_type": "code",
      "execution_count": null,
      "metadata": {
        "id": "rzb65y6AWTLg",
        "outputId": "56c4a979-5ca4-49b3-b9c0-e38e1729d0df"
      },
      "outputs": [
        {
          "name": "stdout",
          "output_type": "stream",
          "text": [
            "comprehensiveness: 0.2848731577396393  sufficiency: 0.26655709743499756\n"
          ]
        }
      ],
      "source": [
        "print(f\"comprehensiveness: {comprehensiveness_score}  sufficiency: {sufficiency_score}\")\n",
        "save_outputs('inputXgradient_tp_mean', comprehensiveness_score, sufficiency_score, all_compre_scores, all_suff_scores, compre_pairs_w_perturbations, suff_pairs_w_perturbations, compre_pred_out, suff_pred_out)"
      ]
    },
    {
      "cell_type": "markdown",
      "metadata": {
        "id": "EFq_t8u5WTLh"
      },
      "source": [
        "## wrt Top Prediction with L2"
      ]
    },
    {
      "cell_type": "code",
      "execution_count": null,
      "metadata": {
        "id": "StWdyfkIWTLh"
      },
      "outputs": [],
      "source": [
        "attr_config = AttributionConfig(AttributionMethods.InputXGradient, remove_pad_tokens=True,\n",
        "                                             remove_cls_token=True, remove_sep_tokens=False, join_subwords=True,\n",
        "                                             normalize_scores=True,\n",
        "                                             forward_scoring= ForwardScoringOptions.TOP_PREDICTION,\n",
        "                                             aggregation_method=AggregationMethods.L2,\n",
        "                                             label_names=['entailment', 'neutral', 'contradiction'])\n",
        "\n",
        "attribution = NLIAttribution(model_name=nli_model_name, config=attr_config)"
      ]
    },
    {
      "cell_type": "code",
      "execution_count": null,
      "metadata": {
        "id": "zDXLHsdtWTLh"
      },
      "outputs": [],
      "source": [
        "comprehensiveness_score, sufficiency_score, all_compre_scores, all_suff_scores, compre_pairs_w_perturbations, \\\n",
        "suff_pairs_w_perturbations, compre_pred_out, suff_pred_out =  eraser_faithfulness.evaluate(attribution, \n",
        "                                                                                           percentages=[0.01, 0.05, 0.1, 0.2, 0.5],\n",
        "                                                                                           batch_size=64, attr_batch_size=192, return_all_outputs=True)"
      ]
    },
    {
      "cell_type": "code",
      "execution_count": null,
      "metadata": {
        "id": "KS0H0cNIWTLi",
        "outputId": "a4fa58a8-3213-4963-da73-4920e570b3d6"
      },
      "outputs": [
        {
          "name": "stdout",
          "output_type": "stream",
          "text": [
            "comprehensiveness: 0.32222217321395874  sufficiency: 0.23578998446464539\n"
          ]
        }
      ],
      "source": [
        "print(f\"comprehensiveness: {comprehensiveness_score}  sufficiency: {sufficiency_score}\")\n",
        "save_outputs('inputXgradient_tp_l2', comprehensiveness_score, sufficiency_score, all_compre_scores, all_suff_scores, compre_pairs_w_perturbations, suff_pairs_w_perturbations, compre_pred_out, suff_pred_out)"
      ]
    },
    {
      "cell_type": "markdown",
      "metadata": {
        "id": "fk4kWG85WTLi"
      },
      "source": [
        "## wrt Loss with MEAN"
      ]
    },
    {
      "cell_type": "code",
      "execution_count": null,
      "metadata": {
        "id": "bJ6TV6UEWTLi"
      },
      "outputs": [],
      "source": [
        "attr_config = AttributionConfig(AttributionMethods.InputXGradient, remove_pad_tokens=True,\n",
        "                                             remove_cls_token=True, remove_sep_tokens=False, join_subwords=True,\n",
        "                                             normalize_scores=True,\n",
        "                                             forward_scoring= ForwardScoringOptions.LOSS,\n",
        "                                             aggregation_method=AggregationMethods.MEAN,\n",
        "                                             label_names=['entailment', 'neutral', 'contradiction'])\n",
        "\n",
        "attribution = NLIAttribution(model_name=nli_model_name, config=attr_config)"
      ]
    },
    {
      "cell_type": "code",
      "execution_count": null,
      "metadata": {
        "id": "9LbRc9SeWTLi"
      },
      "outputs": [],
      "source": [
        "comprehensiveness_score, sufficiency_score, all_compre_scores, all_suff_scores, compre_pairs_w_perturbations, \\\n",
        "suff_pairs_w_perturbations, compre_pred_out, suff_pred_out =  eraser_faithfulness.evaluate(attribution, \n",
        "                                                                                           percentages=[0.01, 0.05, 0.1, 0.2, 0.5],\n",
        "                                                                                           batch_size=64, attr_batch_size=192, return_all_outputs=True)"
      ]
    },
    {
      "cell_type": "code",
      "execution_count": null,
      "metadata": {
        "id": "V6Yu9MbYWTLj",
        "outputId": "2691c2ea-20f1-430a-ada9-1d8203721bac"
      },
      "outputs": [
        {
          "name": "stdout",
          "output_type": "stream",
          "text": [
            "comprehensiveness: 0.29643404483795166  sufficiency: 0.24230821430683136\n"
          ]
        }
      ],
      "source": [
        "print(f\"comprehensiveness: {comprehensiveness_score}  sufficiency: {sufficiency_score}\")\n",
        "save_outputs('inputXgradient_loss_mean', comprehensiveness_score, sufficiency_score, all_compre_scores, all_suff_scores, compre_pairs_w_perturbations, suff_pairs_w_perturbations, compre_pred_out, suff_pred_out)"
      ]
    },
    {
      "cell_type": "markdown",
      "metadata": {
        "id": "pi-wodCRWTLj"
      },
      "source": [
        "## wrt Loss with L2"
      ]
    },
    {
      "cell_type": "code",
      "execution_count": null,
      "metadata": {
        "id": "nLyb4t8HWTLk"
      },
      "outputs": [],
      "source": [
        "attr_config = AttributionConfig(AttributionMethods.InputXGradient, remove_pad_tokens=True,\n",
        "                                             remove_cls_token=True, remove_sep_tokens=False, join_subwords=True,\n",
        "                                             normalize_scores=True,\n",
        "                                             forward_scoring= ForwardScoringOptions.LOSS,\n",
        "                                             aggregation_method=AggregationMethods.L2,\n",
        "                                             label_names=['entailment', 'neutral', 'contradiction'])\n",
        "\n",
        "attribution = NLIAttribution(model_name=nli_model_name, config=attr_config)"
      ]
    },
    {
      "cell_type": "code",
      "execution_count": null,
      "metadata": {
        "id": "QA9NO8QHWTLk"
      },
      "outputs": [],
      "source": [
        "comprehensiveness_score, sufficiency_score, all_compre_scores, all_suff_scores, compre_pairs_w_perturbations, \\\n",
        "suff_pairs_w_perturbations, compre_pred_out, suff_pred_out =  eraser_faithfulness.evaluate(attribution, \n",
        "                                                                                           percentages=[0.01, 0.05, 0.1, 0.2, 0.5],\n",
        "                                                                                           batch_size=64, attr_batch_size=192, return_all_outputs=True)"
      ]
    },
    {
      "cell_type": "code",
      "execution_count": null,
      "metadata": {
        "id": "zYGC9mMzWTLl",
        "outputId": "a5186af2-3995-402f-aaef-ac5efe4c78eb"
      },
      "outputs": [
        {
          "name": "stdout",
          "output_type": "stream",
          "text": [
            "comprehensiveness: 0.3147645592689514  sufficiency: 0.26130351424217224\n"
          ]
        }
      ],
      "source": [
        "print(f\"comprehensiveness: {comprehensiveness_score}  sufficiency: {sufficiency_score}\")\n",
        "save_outputs('inputXgradient_loss_l2', comprehensiveness_score, sufficiency_score, all_compre_scores, all_suff_scores, compre_pairs_w_perturbations, suff_pairs_w_perturbations, compre_pred_out, suff_pred_out)"
      ]
    },
    {
      "cell_type": "markdown",
      "metadata": {
        "id": "jkEDkUzgWTLl"
      },
      "source": [
        "# Saliency"
      ]
    },
    {
      "cell_type": "markdown",
      "metadata": {
        "id": "sSg-Sb1CWTLm"
      },
      "source": [
        "## wrt Top Prediction with MEAN"
      ]
    },
    {
      "cell_type": "code",
      "execution_count": null,
      "metadata": {
        "id": "-_sLAKwAWTLm"
      },
      "outputs": [],
      "source": [
        "attr_config = AttributionConfig(AttributionMethods.Saliency, remove_pad_tokens=True,\n",
        "                                             remove_cls_token=True, remove_sep_tokens=False, join_subwords=True,\n",
        "                                             normalize_scores=True,\n",
        "                                             forward_scoring= ForwardScoringOptions.TOP_PREDICTION,\n",
        "                                             aggregation_method=AggregationMethods.MEAN,\n",
        "                                             label_names=['entailment', 'neutral', 'contradiction'])\n",
        "\n",
        "attribution = NLIAttribution(model_name=nli_model_name, config=attr_config)"
      ]
    },
    {
      "cell_type": "code",
      "execution_count": null,
      "metadata": {
        "id": "hNPsnowcWTLn"
      },
      "outputs": [],
      "source": [
        "comprehensiveness_score, sufficiency_score, all_compre_scores, all_suff_scores, compre_pairs_w_perturbations, \\\n",
        "suff_pairs_w_perturbations, compre_pred_out, suff_pred_out =  eraser_faithfulness.evaluate(attribution, \n",
        "                                                                                           percentages=[0.01, 0.05, 0.1, 0.2, 0.5],\n",
        "                                                                                           batch_size=64, attr_batch_size=192, return_all_outputs=True)"
      ]
    },
    {
      "cell_type": "code",
      "execution_count": null,
      "metadata": {
        "id": "cunB4TYDWTLn",
        "outputId": "00765726-91ff-43d7-d756-1cd48b03fc3e"
      },
      "outputs": [
        {
          "name": "stdout",
          "output_type": "stream",
          "text": [
            "comprehensiveness: 0.3138962984085083  sufficiency: 0.2259143590927124\n"
          ]
        }
      ],
      "source": [
        "print(f\"comprehensiveness: {comprehensiveness_score}  sufficiency: {sufficiency_score}\")\n",
        "save_outputs('saliency_tp_mean', comprehensiveness_score, sufficiency_score, all_compre_scores, all_suff_scores, compre_pairs_w_perturbations, suff_pairs_w_perturbations, compre_pred_out, suff_pred_out)"
      ]
    },
    {
      "cell_type": "markdown",
      "metadata": {
        "id": "lVVxRd4BWTLo"
      },
      "source": [
        "## wrt Top Prediction with L2"
      ]
    },
    {
      "cell_type": "code",
      "execution_count": null,
      "metadata": {
        "id": "aTWRGvByWTLo"
      },
      "outputs": [],
      "source": [
        "attr_config = AttributionConfig(AttributionMethods.Saliency, remove_pad_tokens=True,\n",
        "                                             remove_cls_token=True, remove_sep_tokens=False, join_subwords=True,\n",
        "                                             normalize_scores=True,\n",
        "                                             forward_scoring= ForwardScoringOptions.TOP_PREDICTION,\n",
        "                                             aggregation_method=AggregationMethods.L2,\n",
        "                                             label_names=['entailment', 'neutral', 'contradiction'])\n",
        "\n",
        "attribution = NLIAttribution(model_name=nli_model_name, config=attr_config)"
      ]
    },
    {
      "cell_type": "code",
      "execution_count": null,
      "metadata": {
        "id": "0fv3u0ApWTLp"
      },
      "outputs": [],
      "source": [
        "comprehensiveness_score, sufficiency_score, all_compre_scores, all_suff_scores, compre_pairs_w_perturbations, \\\n",
        "suff_pairs_w_perturbations, compre_pred_out, suff_pred_out =  eraser_faithfulness.evaluate(attribution, \n",
        "                                                                                           percentages=[0.01, 0.05, 0.1, 0.2, 0.5],\n",
        "                                                                                           batch_size=64, attr_batch_size=192, return_all_outputs=True)"
      ]
    },
    {
      "cell_type": "code",
      "execution_count": null,
      "metadata": {
        "id": "FP8Q2eZiWTLp",
        "outputId": "db645c98-e3fd-4aae-9123-8a5335e2feba"
      },
      "outputs": [
        {
          "name": "stdout",
          "output_type": "stream",
          "text": [
            "comprehensiveness: 0.3098418116569519  sufficiency: 0.23827123641967773\n"
          ]
        }
      ],
      "source": [
        "print(f\"comprehensiveness: {comprehensiveness_score}  sufficiency: {sufficiency_score}\")\n",
        "save_outputs('saliency_tp_l2', comprehensiveness_score, sufficiency_score, all_compre_scores, all_suff_scores, compre_pairs_w_perturbations, suff_pairs_w_perturbations, compre_pred_out, suff_pred_out)"
      ]
    },
    {
      "cell_type": "markdown",
      "metadata": {
        "id": "ooJ2038TWTLp"
      },
      "source": [
        "## wrt Loss with MEAN"
      ]
    },
    {
      "cell_type": "code",
      "execution_count": null,
      "metadata": {
        "id": "w0ibNB30WTLq"
      },
      "outputs": [],
      "source": [
        "attr_config = AttributionConfig(AttributionMethods.Saliency, remove_pad_tokens=True,\n",
        "                                             remove_cls_token=True, remove_sep_tokens=False, join_subwords=True,\n",
        "                                             normalize_scores=True,\n",
        "                                             forward_scoring= ForwardScoringOptions.LOSS,\n",
        "                                             aggregation_method=AggregationMethods.MEAN,\n",
        "                                             label_names=['entailment', 'neutral', 'contradiction'])\n",
        "\n",
        "attribution = NLIAttribution(model_name=nli_model_name, config=attr_config)"
      ]
    },
    {
      "cell_type": "code",
      "execution_count": null,
      "metadata": {
        "id": "rpUfEVraWTLq"
      },
      "outputs": [],
      "source": [
        "comprehensiveness_score, sufficiency_score, all_compre_scores, all_suff_scores, compre_pairs_w_perturbations, \\\n",
        "suff_pairs_w_perturbations, compre_pred_out, suff_pred_out =  eraser_faithfulness.evaluate(attribution, \n",
        "                                                                                           percentages=[0.01, 0.05, 0.1, 0.2, 0.5],\n",
        "                                                                                           batch_size=64, attr_batch_size=192, return_all_outputs=True)"
      ]
    },
    {
      "cell_type": "code",
      "execution_count": null,
      "metadata": {
        "id": "PrYZbargWTLq",
        "outputId": "fbb7ea5b-bdb6-441a-8d1b-a032d8cb9d65"
      },
      "outputs": [
        {
          "name": "stdout",
          "output_type": "stream",
          "text": [
            "comprehensiveness: 0.3183731436729431  sufficiency: 0.23191587626934052\n"
          ]
        }
      ],
      "source": [
        "print(f\"comprehensiveness: {comprehensiveness_score}  sufficiency: {sufficiency_score}\")\n",
        "save_outputs('saliency_loss_mean', comprehensiveness_score, sufficiency_score, all_compre_scores, all_suff_scores, compre_pairs_w_perturbations, suff_pairs_w_perturbations, compre_pred_out, suff_pred_out)"
      ]
    },
    {
      "cell_type": "markdown",
      "metadata": {
        "id": "erZGUXHpWTLq"
      },
      "source": [
        "## wrt Loss with L2"
      ]
    },
    {
      "cell_type": "code",
      "execution_count": null,
      "metadata": {
        "id": "yrJyIaqHWTLr"
      },
      "outputs": [],
      "source": [
        "attr_config = AttributionConfig(AttributionMethods.Saliency, remove_pad_tokens=True,\n",
        "                                             remove_cls_token=True, remove_sep_tokens=False, join_subwords=True,\n",
        "                                             normalize_scores=True,\n",
        "                                             forward_scoring= ForwardScoringOptions.LOSS,\n",
        "                                             aggregation_method=AggregationMethods.L2,\n",
        "                                             label_names=['entailment', 'neutral', 'contradiction'])\n",
        "\n",
        "attribution = NLIAttribution(model_name=nli_model_name, config=attr_config)"
      ]
    },
    {
      "cell_type": "code",
      "execution_count": null,
      "metadata": {
        "id": "wzeHPlC0WTLr"
      },
      "outputs": [],
      "source": [
        "comprehensiveness_score, sufficiency_score, all_compre_scores, all_suff_scores, compre_pairs_w_perturbations, \\\n",
        "suff_pairs_w_perturbations, compre_pred_out, suff_pred_out =  eraser_faithfulness.evaluate(attribution, \n",
        "                                                                                           percentages=[0.01, 0.05, 0.1, 0.2, 0.5],\n",
        "                                                                                           batch_size=64, attr_batch_size=192, return_all_outputs=True)"
      ]
    },
    {
      "cell_type": "code",
      "execution_count": null,
      "metadata": {
        "id": "Oc8LWnqjWTLr",
        "outputId": "9e6b3aa4-474e-431c-8166-25602a7215ed"
      },
      "outputs": [
        {
          "name": "stdout",
          "output_type": "stream",
          "text": [
            "comprehensiveness: 0.3206157982349396  sufficiency: 0.23769353330135345\n"
          ]
        }
      ],
      "source": [
        "print(f\"comprehensiveness: {comprehensiveness_score}  sufficiency: {sufficiency_score}\")\n",
        "save_outputs('saliency_loss_mean', comprehensiveness_score, sufficiency_score, all_compre_scores, all_suff_scores, compre_pairs_w_perturbations, suff_pairs_w_perturbations, compre_pred_out, suff_pred_out)"
      ]
    },
    {
      "cell_type": "markdown",
      "metadata": {
        "id": "V0WrWxUKWTLs"
      },
      "source": [
        "# Activation "
      ]
    },
    {
      "cell_type": "markdown",
      "metadata": {
        "id": "KVOhBrS4WTLs"
      },
      "source": [
        "## wrt Top Prediction with MEAN"
      ]
    },
    {
      "cell_type": "code",
      "execution_count": null,
      "metadata": {
        "id": "a035od3nWTLs"
      },
      "outputs": [],
      "source": [
        "attr_config = AttributionConfig(AttributionMethods.Activation, remove_pad_tokens=True,\n",
        "                                             remove_cls_token=True, remove_sep_tokens=False, join_subwords=True,\n",
        "                                             normalize_scores=True,\n",
        "                                             forward_scoring= ForwardScoringOptions.TOP_PREDICTION,\n",
        "                                             aggregation_method=AggregationMethods.MEAN,\n",
        "                                             label_names=['entailment', 'neutral', 'contradiction'])\n",
        "\n",
        "attribution = NLIAttribution(model_name=nli_model_name, config=attr_config)"
      ]
    },
    {
      "cell_type": "code",
      "execution_count": null,
      "metadata": {
        "id": "zTyZm3KkWTLs"
      },
      "outputs": [],
      "source": [
        "comprehensiveness_score, sufficiency_score, all_compre_scores, all_suff_scores, compre_pairs_w_perturbations, \\\n",
        "suff_pairs_w_perturbations, compre_pred_out, suff_pred_out =  eraser_faithfulness.evaluate(attribution, \n",
        "                                                                                           percentages=[0.01, 0.05, 0.1, 0.2, 0.5],\n",
        "                                                                                           batch_size=64, attr_batch_size=192, return_all_outputs=True)"
      ]
    },
    {
      "cell_type": "code",
      "execution_count": null,
      "metadata": {
        "id": "LB8Xc-SbWTLs",
        "outputId": "cc3cb995-88de-4606-da04-db0b291144d7"
      },
      "outputs": [
        {
          "name": "stdout",
          "output_type": "stream",
          "text": [
            "comprehensiveness: 0.2402103692293167  sufficiency: 0.17900384962558746\n"
          ]
        }
      ],
      "source": [
        "print(f\"comprehensiveness: {comprehensiveness_score}  sufficiency: {sufficiency_score}\")\n",
        "save_outputs('activation_tp_mean', comprehensiveness_score, sufficiency_score, all_compre_scores, all_suff_scores, compre_pairs_w_perturbations, suff_pairs_w_perturbations, compre_pred_out, suff_pred_out)"
      ]
    },
    {
      "cell_type": "markdown",
      "metadata": {
        "id": "ejNTBOcRWTLt"
      },
      "source": [
        "## wrt Top Prediction with L2"
      ]
    },
    {
      "cell_type": "code",
      "execution_count": null,
      "metadata": {
        "id": "rCPrqW4OWTLt"
      },
      "outputs": [],
      "source": [
        "attr_config = AttributionConfig(AttributionMethods.Activation, remove_pad_tokens=True,\n",
        "                                             remove_cls_token=True, remove_sep_tokens=False, join_subwords=True,\n",
        "                                             normalize_scores=True,\n",
        "                                             forward_scoring= ForwardScoringOptions.TOP_PREDICTION,\n",
        "                                             aggregation_method=AggregationMethods.L2,\n",
        "                                             label_names=['entailment', 'neutral', 'contradiction'])\n",
        "\n",
        "attribution = NLIAttribution(model_name=nli_model_name, config=attr_config)"
      ]
    },
    {
      "cell_type": "code",
      "execution_count": null,
      "metadata": {
        "id": "AmIP9bTzWTLt"
      },
      "outputs": [],
      "source": [
        "comprehensiveness_score, sufficiency_score, all_compre_scores, all_suff_scores, compre_pairs_w_perturbations, \\\n",
        "suff_pairs_w_perturbations, compre_pred_out, suff_pred_out =  eraser_faithfulness.evaluate(attribution, \n",
        "                                                                                           percentages=[0.01, 0.05, 0.1, 0.2, 0.5],\n",
        "                                                                                           batch_size=64, attr_batch_size=192, return_all_outputs=True)"
      ]
    },
    {
      "cell_type": "code",
      "execution_count": null,
      "metadata": {
        "id": "4QSVkDkwWTLt",
        "outputId": "e43197a3-7252-46fb-f029-d39836fc62c3"
      },
      "outputs": [
        {
          "name": "stdout",
          "output_type": "stream",
          "text": [
            "comprehensiveness: 0.30651262402534485  sufficiency: 0.33295711874961853\n"
          ]
        }
      ],
      "source": [
        "print(f\"comprehensiveness: {comprehensiveness_score}  sufficiency: {sufficiency_score}\")\n",
        "save_outputs('activation_tp_l2', comprehensiveness_score, sufficiency_score, all_compre_scores, all_suff_scores, compre_pairs_w_perturbations, suff_pairs_w_perturbations, compre_pred_out, suff_pred_out)"
      ]
    },
    {
      "cell_type": "markdown",
      "metadata": {
        "id": "CbOfbPM3WTLt"
      },
      "source": [
        "## wrt Loss with MEAN"
      ]
    },
    {
      "cell_type": "code",
      "execution_count": null,
      "metadata": {
        "id": "bkYkNWiWWTLt"
      },
      "outputs": [],
      "source": [
        "attr_config = AttributionConfig(AttributionMethods.Activation, remove_pad_tokens=True,\n",
        "                                             remove_cls_token=True, remove_sep_tokens=False, join_subwords=True,\n",
        "                                             normalize_scores=True,\n",
        "                                             forward_scoring= ForwardScoringOptions.LOSS,\n",
        "                                             aggregation_method=AggregationMethods.MEAN,\n",
        "                                             label_names=['entailment', 'neutral', 'contradiction'])\n",
        "\n",
        "attribution = NLIAttribution(model_name=nli_model_name, config=attr_config)"
      ]
    },
    {
      "cell_type": "code",
      "execution_count": null,
      "metadata": {
        "id": "ezsOx78UWTLu"
      },
      "outputs": [],
      "source": [
        "comprehensiveness_score, sufficiency_score, all_compre_scores, all_suff_scores, compre_pairs_w_perturbations, \\\n",
        "suff_pairs_w_perturbations, compre_pred_out, suff_pred_out =  eraser_faithfulness.evaluate(attribution, \n",
        "                                                                                           percentages=[0.01, 0.05, 0.1, 0.2, 0.5],\n",
        "                                                                                           batch_size=64, attr_batch_size=192, return_all_outputs=True)"
      ]
    },
    {
      "cell_type": "code",
      "execution_count": null,
      "metadata": {
        "id": "247NwSrHWTLu",
        "outputId": "b926c18c-87a2-45cf-d7a0-0e0e33f3c946"
      },
      "outputs": [
        {
          "name": "stdout",
          "output_type": "stream",
          "text": [
            "comprehensiveness: 0.2402103692293167  sufficiency: 0.17900384962558746\n"
          ]
        }
      ],
      "source": [
        "print(f\"comprehensiveness: {comprehensiveness_score}  sufficiency: {sufficiency_score}\")\n",
        "save_outputs('activation_loss_mean', comprehensiveness_score, sufficiency_score, all_compre_scores, all_suff_scores, compre_pairs_w_perturbations, suff_pairs_w_perturbations, compre_pred_out, suff_pred_out)"
      ]
    },
    {
      "cell_type": "markdown",
      "metadata": {
        "id": "-2fkBgejWTLu"
      },
      "source": [
        "## wrt Loss with L2"
      ]
    },
    {
      "cell_type": "code",
      "execution_count": null,
      "metadata": {
        "id": "rnulxlIOWTLu"
      },
      "outputs": [],
      "source": [
        "attr_config = AttributionConfig(AttributionMethods.Activation, remove_pad_tokens=True,\n",
        "                                             remove_cls_token=True, remove_sep_tokens=False, join_subwords=True,\n",
        "                                             normalize_scores=True,\n",
        "                                             forward_scoring= ForwardScoringOptions.LOSS,\n",
        "                                             aggregation_method=AggregationMethods.L2,\n",
        "                                             label_names=['entailment', 'neutral', 'contradiction'])\n",
        "\n",
        "attribution = NLIAttribution(model_name=nli_model_name, config=attr_config)"
      ]
    },
    {
      "cell_type": "code",
      "execution_count": null,
      "metadata": {
        "id": "8QY07uk5WTLv"
      },
      "outputs": [],
      "source": [
        "comprehensiveness_score, sufficiency_score, all_compre_scores, all_suff_scores, compre_pairs_w_perturbations, \\\n",
        "suff_pairs_w_perturbations, compre_pred_out, suff_pred_out =  eraser_faithfulness.evaluate(attribution, \n",
        "                                                                                           percentages=[0.01, 0.05, 0.1, 0.2, 0.5],\n",
        "                                                                                           batch_size=64, attr_batch_size=192, return_all_outputs=True)"
      ]
    },
    {
      "cell_type": "code",
      "execution_count": null,
      "metadata": {
        "id": "Ld9VjGFuWTLv",
        "outputId": "76f38bc6-5d85-48b9-9106-96835a294ad2"
      },
      "outputs": [
        {
          "name": "stdout",
          "output_type": "stream",
          "text": [
            "comprehensiveness: 0.30651262402534485  sufficiency: 0.33295711874961853\n"
          ]
        }
      ],
      "source": [
        "print(f\"comprehensiveness: {comprehensiveness_score}  sufficiency: {sufficiency_score}\")\n",
        "save_outputs('activation_loss_l2', comprehensiveness_score, sufficiency_score, all_compre_scores, all_suff_scores, compre_pairs_w_perturbations, suff_pairs_w_perturbations, compre_pred_out, suff_pred_out)"
      ]
    },
    {
      "cell_type": "markdown",
      "metadata": {
        "id": "QCHdFjUeWTLv"
      },
      "source": [
        "# GuidedBackprop "
      ]
    },
    {
      "cell_type": "markdown",
      "metadata": {
        "id": "gPNTLtVPWTLw"
      },
      "source": [
        "## wrt Top Prediction with MEAN"
      ]
    },
    {
      "cell_type": "code",
      "execution_count": null,
      "metadata": {
        "id": "Pt4-HKv5WTLw"
      },
      "outputs": [],
      "source": [
        "attr_config = AttributionConfig(AttributionMethods.GuidedBackprop, remove_pad_tokens=True,\n",
        "                                             remove_cls_token=True, remove_sep_tokens=False, join_subwords=True,\n",
        "                                             normalize_scores=True,\n",
        "                                             forward_scoring= ForwardScoringOptions.TOP_PREDICTION,\n",
        "                                             aggregation_method=AggregationMethods.MEAN,\n",
        "                                             label_names=['entailment', 'neutral', 'contradiction'])\n",
        "\n",
        "attribution = NLIAttribution(model_name=nli_model_name, config=attr_config)"
      ]
    },
    {
      "cell_type": "code",
      "execution_count": null,
      "metadata": {
        "id": "QHwReioIWTLw"
      },
      "outputs": [],
      "source": [
        "comprehensiveness_score, sufficiency_score, all_compre_scores, all_suff_scores, compre_pairs_w_perturbations, \\\n",
        "suff_pairs_w_perturbations, compre_pred_out, suff_pred_out =  eraser_faithfulness.evaluate(attribution, \n",
        "                                                                                           percentages=[0.01, 0.05, 0.1, 0.2, 0.5],\n",
        "                                                                                           batch_size=64, attr_batch_size=192, return_all_outputs=True)"
      ]
    },
    {
      "cell_type": "code",
      "execution_count": null,
      "metadata": {
        "id": "1dKCO3jMWTLw",
        "outputId": "f8cd0b82-2bb1-4947-ae61-41d1d64ea342"
      },
      "outputs": [
        {
          "name": "stdout",
          "output_type": "stream",
          "text": [
            "comprehensiveness: 0.2737332880496979  sufficiency: 0.28174301981925964\n"
          ]
        }
      ],
      "source": [
        "print(f\"comprehensiveness: {comprehensiveness_score}  sufficiency: {sufficiency_score}\")\n",
        "save_outputs('guided_bp_tp_mean', comprehensiveness_score, sufficiency_score, all_compre_scores, all_suff_scores, compre_pairs_w_perturbations, suff_pairs_w_perturbations, compre_pred_out, suff_pred_out)"
      ]
    },
    {
      "cell_type": "markdown",
      "metadata": {
        "id": "vJwamLFnWTLx"
      },
      "source": [
        "## wrt Top Prediction with L2"
      ]
    },
    {
      "cell_type": "code",
      "execution_count": null,
      "metadata": {
        "id": "r4cj-VwYWTLx"
      },
      "outputs": [],
      "source": [
        "attr_config = AttributionConfig(AttributionMethods.GuidedBackprop, remove_pad_tokens=True,\n",
        "                                             remove_cls_token=True, remove_sep_tokens=False, join_subwords=True,\n",
        "                                             normalize_scores=True,\n",
        "                                             forward_scoring= ForwardScoringOptions.TOP_PREDICTION,\n",
        "                                             aggregation_method=AggregationMethods.L2,\n",
        "                                             label_names=['entailment', 'neutral', 'contradiction'])\n",
        "\n",
        "attribution = NLIAttribution(model_name=nli_model_name, config=attr_config)"
      ]
    },
    {
      "cell_type": "code",
      "execution_count": null,
      "metadata": {
        "id": "Z7hPIJ3nWTLx"
      },
      "outputs": [],
      "source": [
        "comprehensiveness_score, sufficiency_score, all_compre_scores, all_suff_scores, compre_pairs_w_perturbations, \\\n",
        "suff_pairs_w_perturbations, compre_pred_out, suff_pred_out =  eraser_faithfulness.evaluate(attribution, \n",
        "                                                                                           percentages=[0.01, 0.05, 0.1, 0.2, 0.5],\n",
        "                                                                                           batch_size=64, attr_batch_size=192, return_all_outputs=True)"
      ]
    },
    {
      "cell_type": "code",
      "execution_count": null,
      "metadata": {
        "id": "hi8dclrTWTLy",
        "outputId": "6b2f2007-0c0e-4a55-aaf9-ed2d35712f83"
      },
      "outputs": [
        {
          "name": "stdout",
          "output_type": "stream",
          "text": [
            "comprehensiveness: 0.3098418116569519  sufficiency: 0.23827123641967773\n"
          ]
        }
      ],
      "source": [
        "print(f\"comprehensiveness: {comprehensiveness_score}  sufficiency: {sufficiency_score}\")\n",
        "save_outputs('guided_bp_tp_l2', comprehensiveness_score, sufficiency_score, all_compre_scores, all_suff_scores, compre_pairs_w_perturbations, suff_pairs_w_perturbations, compre_pred_out, suff_pred_out)"
      ]
    },
    {
      "cell_type": "markdown",
      "metadata": {
        "id": "_Dj2j-4XWTLy"
      },
      "source": [
        "## wrt Loss with MEAN"
      ]
    },
    {
      "cell_type": "code",
      "execution_count": null,
      "metadata": {
        "id": "e4xP22jAWTLy"
      },
      "outputs": [],
      "source": [
        "attr_config = AttributionConfig(AttributionMethods.GuidedBackprop, remove_pad_tokens=True,\n",
        "                                             remove_cls_token=True, remove_sep_tokens=False, join_subwords=True,\n",
        "                                             normalize_scores=True,\n",
        "                                             forward_scoring= ForwardScoringOptions.LOSS,\n",
        "                                             aggregation_method=AggregationMethods.MEAN,\n",
        "                                             label_names=['entailment', 'neutral', 'contradiction'])\n",
        "\n",
        "attribution = NLIAttribution(model_name=nli_model_name, config=attr_config)"
      ]
    },
    {
      "cell_type": "code",
      "execution_count": null,
      "metadata": {
        "id": "eV4bPhm9WTLy"
      },
      "outputs": [],
      "source": [
        "comprehensiveness_score, sufficiency_score, all_compre_scores, all_suff_scores, compre_pairs_w_perturbations, \\\n",
        "suff_pairs_w_perturbations, compre_pred_out, suff_pred_out =  eraser_faithfulness.evaluate(attribution, \n",
        "                                                                                           percentages=[0.01, 0.05, 0.1, 0.2, 0.5],\n",
        "                                                                                           batch_size=64, attr_batch_size=192, return_all_outputs=True)"
      ]
    },
    {
      "cell_type": "code",
      "execution_count": null,
      "metadata": {
        "id": "58XcC-qeWTLz",
        "outputId": "d8633aea-4845-47a7-8b36-ca3c885ae4ab"
      },
      "outputs": [
        {
          "name": "stdout",
          "output_type": "stream",
          "text": [
            "comprehensiveness: 0.20522020757198334  sufficiency: 0.2861844599246979\n"
          ]
        }
      ],
      "source": [
        "print(f\"comprehensiveness: {comprehensiveness_score}  sufficiency: {sufficiency_score}\")\n",
        "save_outputs('guided_bp_loss_mean', comprehensiveness_score, sufficiency_score, all_compre_scores, all_suff_scores, compre_pairs_w_perturbations, suff_pairs_w_perturbations, compre_pred_out, suff_pred_out)"
      ]
    },
    {
      "cell_type": "markdown",
      "metadata": {
        "id": "7OLbGYgzWTLz"
      },
      "source": [
        "## wrt Loss with L2"
      ]
    },
    {
      "cell_type": "code",
      "execution_count": null,
      "metadata": {
        "id": "8NSamlh-WTLz"
      },
      "outputs": [],
      "source": [
        "attr_config = AttributionConfig(AttributionMethods.GuidedBackprop, remove_pad_tokens=True,\n",
        "                                             remove_cls_token=True, remove_sep_tokens=False, join_subwords=True,\n",
        "                                             normalize_scores=True,\n",
        "                                             forward_scoring= ForwardScoringOptions.LOSS,\n",
        "                                             aggregation_method=AggregationMethods.L2,\n",
        "                                             label_names=['entailment', 'neutral', 'contradiction'])\n",
        "\n",
        "attribution = NLIAttribution(model_name=nli_model_name, config=attr_config)"
      ]
    },
    {
      "cell_type": "code",
      "execution_count": null,
      "metadata": {
        "id": "4DSUoJGuWTLz"
      },
      "outputs": [],
      "source": [
        "comprehensiveness_score, sufficiency_score, all_compre_scores, all_suff_scores, compre_pairs_w_perturbations, \\\n",
        "suff_pairs_w_perturbations, compre_pred_out, suff_pred_out =  eraser_faithfulness.evaluate(attribution, \n",
        "                                                                                           percentages=[0.01, 0.05, 0.1, 0.2, 0.5],\n",
        "                                                                                           batch_size=64, attr_batch_size=192, return_all_outputs=True)"
      ]
    },
    {
      "cell_type": "code",
      "execution_count": null,
      "metadata": {
        "id": "yCIwDmUpWTLz",
        "outputId": "747827d6-46cd-4e37-b842-452c9f5e9983"
      },
      "outputs": [
        {
          "name": "stdout",
          "output_type": "stream",
          "text": [
            "comprehensiveness: 0.3206157982349396  sufficiency: 0.23769353330135345\n"
          ]
        }
      ],
      "source": [
        "print(f\"comprehensiveness: {comprehensiveness_score}  sufficiency: {sufficiency_score}\")\n",
        "save_outputs('guided_bp_loss_l2', comprehensiveness_score, sufficiency_score, all_compre_scores, all_suff_scores, compre_pairs_w_perturbations, suff_pairs_w_perturbations, compre_pred_out, suff_pred_out)"
      ]
    },
    {
      "cell_type": "markdown",
      "metadata": {
        "id": "CSd7GWkRWTL1"
      },
      "source": [
        "# Occlusion"
      ]
    },
    {
      "cell_type": "markdown",
      "metadata": {
        "id": "wERh2_LLWTL1"
      },
      "source": [
        "## wrt Top Prediction with SUM"
      ]
    },
    {
      "cell_type": "code",
      "execution_count": null,
      "metadata": {
        "id": "_lJ9N-oIWTL1"
      },
      "outputs": [],
      "source": [
        "attr_config = AttributionConfig(AttributionMethods.Occlusion, remove_pad_tokens=True,\n",
        "                                             remove_cls_token=True, remove_sep_tokens=False, join_subwords=True,\n",
        "                                             normalize_scores=True,\n",
        "                                             forward_scoring= ForwardScoringOptions.TOP_PREDICTION,\n",
        "                                             aggregation_method=AggregationMethods.SUM,\n",
        "                                             label_names=['entailment', 'neutral', 'contradiction'])\n",
        "\n",
        "attribution = NLIAttribution(model_name=nli_model_name, config=attr_config)"
      ]
    },
    {
      "cell_type": "code",
      "execution_count": null,
      "metadata": {
        "id": "9BAhz0cOWTL1"
      },
      "outputs": [],
      "source": [
        "comprehensiveness_score, sufficiency_score, all_compre_scores, all_suff_scores, compre_pairs_w_perturbations, \\\n",
        "suff_pairs_w_perturbations, compre_pred_out, suff_pred_out =  eraser_faithfulness.evaluate(attribution, \n",
        "                                                                                           percentages=[0.01, 0.05, 0.1, 0.2, 0.5],\n",
        "                                                                                           batch_size=64, attr_batch_size=16, return_all_outputs=True, sliding_window_shapes=(1, 768))"
      ]
    },
    {
      "cell_type": "code",
      "execution_count": null,
      "metadata": {
        "id": "7UZ-T47dWTL2",
        "outputId": "ee63955d-d41a-416e-e10e-e97f5626c396"
      },
      "outputs": [
        {
          "name": "stdout",
          "output_type": "stream",
          "text": [
            "comprehensiveness: 0.2985566556453705  sufficiency: 0.2890535593032837\n"
          ]
        }
      ],
      "source": [
        "print(f\"comprehensiveness: {comprehensiveness_score}  sufficiency: {sufficiency_score}\")\n",
        "save_outputs('occlusion_tp_sum', comprehensiveness_score, sufficiency_score, all_compre_scores, all_suff_scores, compre_pairs_w_perturbations, suff_pairs_w_perturbations, compre_pred_out, suff_pred_out)"
      ]
    },
    {
      "cell_type": "markdown",
      "metadata": {
        "id": "ZFXMANnaWTL2"
      },
      "source": [
        "## wrt Loss with SUM"
      ]
    },
    {
      "cell_type": "code",
      "execution_count": null,
      "metadata": {
        "id": "xCoXUFg2WTL2"
      },
      "outputs": [],
      "source": [
        "attr_config = AttributionConfig(AttributionMethods.Occlusion, remove_pad_tokens=True,\n",
        "                                             remove_cls_token=True, remove_sep_tokens=False, join_subwords=True,\n",
        "                                             normalize_scores=True,\n",
        "                                             forward_scoring= ForwardScoringOptions.LOSS,\n",
        "                                             aggregation_method=AggregationMethods.SUM,\n",
        "                                             label_names=['entailment', 'neutral', 'contradiction'])\n",
        "\n",
        "attribution = NLIAttribution(model_name=nli_model_name, config=attr_config)"
      ]
    },
    {
      "cell_type": "code",
      "execution_count": null,
      "metadata": {
        "id": "94yJINhDWTL2"
      },
      "outputs": [],
      "source": [
        "comprehensiveness_score, sufficiency_score, all_compre_scores, all_suff_scores, compre_pairs_w_perturbations, \\\n",
        "suff_pairs_w_perturbations, compre_pred_out, suff_pred_out =  eraser_faithfulness.evaluate(attribution, \n",
        "                                                                                           percentages=[0.01, 0.05, 0.1, 0.2, 0.5],\n",
        "                                                                                           batch_size=64, attr_batch_size=16, return_all_outputs=True, sliding_window_shapes=(1, 768))"
      ]
    },
    {
      "cell_type": "code",
      "execution_count": null,
      "metadata": {
        "id": "O5VYmlDlWTL2",
        "outputId": "1bdbf590-f891-4872-aad6-564953f0deff"
      },
      "outputs": [
        {
          "name": "stdout",
          "output_type": "stream",
          "text": [
            "comprehensiveness: 0.3070026934146881  sufficiency: 0.23816151916980743\n"
          ]
        }
      ],
      "source": [
        "print(f\"comprehensiveness: {comprehensiveness_score}  sufficiency: {sufficiency_score}\")\n",
        "save_outputs('occlusion_loss_sum', comprehensiveness_score, sufficiency_score, all_compre_scores, all_suff_scores, compre_pairs_w_perturbations, suff_pairs_w_perturbations, compre_pred_out, suff_pred_out)"
      ]
    },
    {
      "cell_type": "markdown",
      "metadata": {
        "id": "VfU4_M7YWTL3"
      },
      "source": [
        "# LIME"
      ]
    },
    {
      "cell_type": "markdown",
      "metadata": {
        "id": "2-YgrFa1WTL3"
      },
      "source": [
        "## wrt Top Prediction with SUM"
      ]
    },
    {
      "cell_type": "code",
      "execution_count": null,
      "metadata": {
        "id": "0V9kzyhSWTL3"
      },
      "outputs": [],
      "source": [
        "attr_config = AttributionConfig(AttributionMethods.LIME, remove_pad_tokens=True,\n",
        "                                             remove_cls_token=True, remove_sep_tokens=False, join_subwords=True,\n",
        "                                             normalize_scores=True,\n",
        "                                             forward_scoring= ForwardScoringOptions.TOP_PREDICTION,\n",
        "                                             aggregation_method=AggregationMethods.SUM,\n",
        "                                             label_names=['entailment', 'neutral', 'contradiction'])\n",
        "\n",
        "attribution = NLIAttribution(model_name=nli_model_name, config=attr_config)"
      ]
    },
    {
      "cell_type": "code",
      "execution_count": null,
      "metadata": {
        "id": "fFty7hvQWTL3"
      },
      "outputs": [],
      "source": [
        "import warnings\n",
        "warnings.filterwarnings(\"ignore\")"
      ]
    },
    {
      "cell_type": "code",
      "execution_count": null,
      "metadata": {
        "id": "AYBvRlIIWTL3"
      },
      "outputs": [],
      "source": [
        "comprehensiveness_score, sufficiency_score, all_compre_scores, all_suff_scores, compre_pairs_w_perturbations, \\\n",
        "suff_pairs_w_perturbations, compre_pred_out, suff_pred_out =  eraser_faithfulness.evaluate(attribution, \n",
        "                                                                                           percentages=[0.01, 0.05, 0.1, 0.2, 0.5],\n",
        "                                                                                           batch_size=64, attr_batch_size=8, return_all_outputs=True)"
      ]
    },
    {
      "cell_type": "code",
      "execution_count": null,
      "metadata": {
        "id": "Ge6-J1zFWTL3",
        "outputId": "29b339f2-390e-4853-eb9e-0e53d8f59921"
      },
      "outputs": [
        {
          "name": "stdout",
          "output_type": "stream",
          "text": [
            "comprehensiveness: 0.24494752287864685  sufficiency: 0.24101042747497559\n"
          ]
        }
      ],
      "source": [
        "print(f\"comprehensiveness: {comprehensiveness_score}  sufficiency: {sufficiency_score}\")\n",
        "save_outputs('LIME_tp_sum', comprehensiveness_score, sufficiency_score, all_compre_scores, all_suff_scores, compre_pairs_w_perturbations, suff_pairs_w_perturbations, compre_pred_out, suff_pred_out)"
      ]
    },
    {
      "cell_type": "markdown",
      "metadata": {
        "id": "P9JYNfWaWTL4"
      },
      "source": [
        "## wrt Loss with SUM"
      ]
    },
    {
      "cell_type": "code",
      "execution_count": null,
      "metadata": {
        "id": "EbuqOuDiWTL4"
      },
      "outputs": [],
      "source": [
        "attr_config = AttributionConfig(AttributionMethods.LIME, remove_pad_tokens=True,\n",
        "                                             remove_cls_token=True, remove_sep_tokens=False, join_subwords=True,\n",
        "                                             normalize_scores=True,\n",
        "                                             forward_scoring= ForwardScoringOptions.LOSS,\n",
        "                                             aggregation_method=AggregationMethods.SUM,\n",
        "                                             label_names=['entailment', 'neutral', 'contradiction'])\n",
        "\n",
        "attribution = NLIAttribution(model_name=nli_model_name, config=attr_config)"
      ]
    },
    {
      "cell_type": "code",
      "execution_count": null,
      "metadata": {
        "id": "ebQXB82zWTL4"
      },
      "outputs": [],
      "source": [
        "comprehensiveness_score, sufficiency_score, all_compre_scores, all_suff_scores, compre_pairs_w_perturbations, \\\n",
        "suff_pairs_w_perturbations, compre_pred_out, suff_pred_out =  eraser_faithfulness.evaluate(attribution, \n",
        "                                                                                           percentages=[0.01, 0.05, 0.1, 0.2, 0.5],\n",
        "                                                                                           batch_size=64, attr_batch_size=8, return_all_outputs=True)"
      ]
    },
    {
      "cell_type": "code",
      "execution_count": null,
      "metadata": {
        "id": "TL6Q2Ai4WTL4",
        "outputId": "9208b251-52db-4349-b7aa-cb988107bffc"
      },
      "outputs": [
        {
          "name": "stdout",
          "output_type": "stream",
          "text": [
            "comprehensiveness: 0.24925467371940613  sufficiency: 0.2260829359292984\n"
          ]
        }
      ],
      "source": [
        "print(f\"comprehensiveness: {comprehensiveness_score}  sufficiency: {sufficiency_score}\")\n",
        "save_outputs('LIME_loss_sum', comprehensiveness_score, sufficiency_score, all_compre_scores, all_suff_scores, compre_pairs_w_perturbations, suff_pairs_w_perturbations, compre_pred_out, suff_pred_out)"
      ]
    },
    {
      "cell_type": "markdown",
      "metadata": {
        "id": "WPXrd96EWTL4"
      },
      "source": [
        "# Integrated Gradients"
      ]
    },
    {
      "cell_type": "markdown",
      "metadata": {
        "id": "21dRpoNdWTL4"
      },
      "source": [
        "## wrt Top Prediction with MEAN"
      ]
    },
    {
      "cell_type": "code",
      "execution_count": null,
      "metadata": {
        "id": "RACsqNDZWTL5"
      },
      "outputs": [],
      "source": [
        "attr_config = AttributionConfig(AttributionMethods.IntegratedGradients, remove_pad_tokens=True,\n",
        "                                             remove_cls_token=True, remove_sep_tokens=False, join_subwords=True,\n",
        "                                             normalize_scores=True,\n",
        "                                             forward_scoring= ForwardScoringOptions.TOP_PREDICTION,\n",
        "                                             aggregation_method=AggregationMethods.MEAN,\n",
        "                                             label_names=['entailment', 'neutral', 'contradiction'])\n",
        "\n",
        "attribution = NLIAttribution(model_name=nli_model_name, config=attr_config)"
      ]
    },
    {
      "cell_type": "code",
      "execution_count": null,
      "metadata": {
        "id": "vMlv5PVUWTL5"
      },
      "outputs": [],
      "source": [
        "comprehensiveness_score, sufficiency_score, all_compre_scores, all_suff_scores, compre_pairs_w_perturbations, \\\n",
        "suff_pairs_w_perturbations, compre_pred_out, suff_pred_out =  eraser_faithfulness.evaluate(attribution, \n",
        "                                                                                           percentages=[0.01, 0.05, 0.1, 0.2, 0.5],\n",
        "                                                                                           batch_size=64, attr_batch_size=2, return_all_outputs=True, n_steps=100)"
      ]
    },
    {
      "cell_type": "code",
      "execution_count": null,
      "metadata": {
        "id": "iWUSEuKIWTL5",
        "outputId": "2ac20f3f-d472-4aef-ff05-d349a11977a0"
      },
      "outputs": [
        {
          "name": "stdout",
          "output_type": "stream",
          "text": [
            "comprehensiveness: 0.21276625990867615  sufficiency: 0.28814610838890076\n"
          ]
        }
      ],
      "source": [
        "print(f\"comprehensiveness: {comprehensiveness_score}  sufficiency: {sufficiency_score}\")\n",
        "save_outputs('IG_tp_mean', comprehensiveness_score, sufficiency_score, all_compre_scores, all_suff_scores, compre_pairs_w_perturbations, suff_pairs_w_perturbations, compre_pred_out, suff_pred_out)"
      ]
    },
    {
      "cell_type": "markdown",
      "metadata": {
        "id": "rOjPxdzsWTL5"
      },
      "source": [
        "## wrt Top Prediction with L2"
      ]
    },
    {
      "cell_type": "code",
      "execution_count": null,
      "metadata": {
        "id": "JMfz7EleWTL5"
      },
      "outputs": [],
      "source": [
        "attr_config = AttributionConfig(AttributionMethods.IntegratedGradients, remove_pad_tokens=True,\n",
        "                                             remove_cls_token=True, remove_sep_tokens=False, join_subwords=True,\n",
        "                                             normalize_scores=True,\n",
        "                                             forward_scoring= ForwardScoringOptions.TOP_PREDICTION,\n",
        "                                             aggregation_method=AggregationMethods.L2,\n",
        "                                             label_names=['entailment', 'neutral', 'contradiction'])\n",
        "\n",
        "attribution = NLIAttribution(model_name=nli_model_name, config=attr_config)"
      ]
    },
    {
      "cell_type": "code",
      "execution_count": null,
      "metadata": {
        "id": "8Rdpaf3cWTL5"
      },
      "outputs": [],
      "source": [
        "comprehensiveness_score, sufficiency_score, all_compre_scores, all_suff_scores, compre_pairs_w_perturbations, \\\n",
        "suff_pairs_w_perturbations, compre_pred_out, suff_pred_out =  eraser_faithfulness.evaluate(attribution, \n",
        "                                                                                           percentages=[0.01, 0.05, 0.1, 0.2, 0.5],\n",
        "                                                                                           batch_size=64, attr_batch_size=2, return_all_outputs=True, n_steps=100)"
      ]
    },
    {
      "cell_type": "code",
      "execution_count": null,
      "metadata": {
        "id": "EmShqI_6WTL6",
        "outputId": "ba3d63d4-d306-436b-8cd8-4ccbefb256cd"
      },
      "outputs": [
        {
          "name": "stdout",
          "output_type": "stream",
          "text": [
            "comprehensiveness: 0.3021012842655182  sufficiency: 0.29073989391326904\n"
          ]
        }
      ],
      "source": [
        "print(f\"comprehensiveness: {comprehensiveness_score}  sufficiency: {sufficiency_score}\")\n",
        "save_outputs('IG_tp_L2', comprehensiveness_score, sufficiency_score, all_compre_scores, all_suff_scores, compre_pairs_w_perturbations, suff_pairs_w_perturbations, compre_pred_out, suff_pred_out)"
      ]
    },
    {
      "cell_type": "markdown",
      "metadata": {
        "id": "zsPLGSQnWTL6"
      },
      "source": [
        "## wrt Loss with MEAN"
      ]
    },
    {
      "cell_type": "code",
      "execution_count": null,
      "metadata": {
        "id": "fCEFTHWoWTL6"
      },
      "outputs": [],
      "source": [
        "attr_config = AttributionConfig(AttributionMethods.IntegratedGradients, remove_pad_tokens=True,\n",
        "                                             remove_cls_token=True, remove_sep_tokens=False, join_subwords=True,\n",
        "                                             normalize_scores=True,\n",
        "                                             forward_scoring= ForwardScoringOptions.LOSS,\n",
        "                                             aggregation_method=AggregationMethods.MEAN,\n",
        "                                             label_names=['entailment', 'neutral', 'contradiction'])\n",
        "\n",
        "attribution = NLIAttribution(model_name=nli_model_name, config=attr_config)"
      ]
    },
    {
      "cell_type": "code",
      "execution_count": null,
      "metadata": {
        "id": "Usq6LtGBWTL6"
      },
      "outputs": [],
      "source": [
        "comprehensiveness_score, sufficiency_score, all_compre_scores, all_suff_scores, compre_pairs_w_perturbations, \\\n",
        "suff_pairs_w_perturbations, compre_pred_out, suff_pred_out =  eraser_faithfulness.evaluate(attribution, \n",
        "                                                                                           percentages=[0.01, 0.05, 0.1, 0.2, 0.5],\n",
        "                                                                                           batch_size=64, attr_batch_size=4, return_all_outputs=True, n_steps=75)"
      ]
    },
    {
      "cell_type": "code",
      "execution_count": null,
      "metadata": {
        "id": "KCanSt17WTL6",
        "outputId": "13b9a2cb-45f7-4760-fc74-3d5a951f4aee"
      },
      "outputs": [
        {
          "name": "stdout",
          "output_type": "stream",
          "text": [
            "comprehensiveness: 0.25857409834861755  sufficiency: 0.21338248252868652\n"
          ]
        }
      ],
      "source": [
        "print(f\"comprehensiveness: {comprehensiveness_score}  sufficiency: {sufficiency_score}\")\n",
        "save_outputs('IG_loss_MEAN', comprehensiveness_score, sufficiency_score, all_compre_scores, all_suff_scores, compre_pairs_w_perturbations, suff_pairs_w_perturbations, compre_pred_out, suff_pred_out)"
      ]
    },
    {
      "cell_type": "markdown",
      "metadata": {
        "id": "G1KS-Ib7WTL8"
      },
      "source": [
        "## wrt Loss with L2"
      ]
    },
    {
      "cell_type": "code",
      "execution_count": null,
      "metadata": {
        "id": "lOVUmj01WTL8"
      },
      "outputs": [],
      "source": [
        "attr_config = AttributionConfig(AttributionMethods.IntegratedGradients, remove_pad_tokens=True,\n",
        "                                             remove_cls_token=True, remove_sep_tokens=False, join_subwords=True,\n",
        "                                             normalize_scores=True,\n",
        "                                             forward_scoring= ForwardScoringOptions.LOSS,\n",
        "                                             aggregation_method=AggregationMethods.L2,\n",
        "                                             label_names=['entailment', 'neutral', 'contradiction'])\n",
        "\n",
        "attribution = NLIAttribution(model_name=nli_model_name, config=attr_config)"
      ]
    },
    {
      "cell_type": "code",
      "execution_count": null,
      "metadata": {
        "id": "RnIhTe4CWTL8"
      },
      "outputs": [],
      "source": [
        "comprehensiveness_score, sufficiency_score, all_compre_scores, all_suff_scores, compre_pairs_w_perturbations, \\\n",
        "suff_pairs_w_perturbations, compre_pred_out, suff_pred_out =  eraser_faithfulness.evaluate(attribution, \n",
        "                                                                                           percentages=[0.01, 0.05, 0.1, 0.2, 0.5],\n",
        "                                                                                           batch_size=64, attr_batch_size=2, return_all_outputs=True, n_steps=100)"
      ]
    },
    {
      "cell_type": "code",
      "execution_count": null,
      "metadata": {
        "id": "FjE-yik7WTL9",
        "outputId": "9f75dbe2-753a-47f6-b6f4-dbf8acd0ef96"
      },
      "outputs": [
        {
          "name": "stdout",
          "output_type": "stream",
          "text": [
            "comprehensiveness: 0.29097580909729004  sufficiency: 0.28717684745788574\n"
          ]
        }
      ],
      "source": [
        "print(f\"comprehensiveness: {comprehensiveness_score}  sufficiency: {sufficiency_score}\")\n",
        "save_outputs('IG_loss_L2', comprehensiveness_score, sufficiency_score, all_compre_scores, all_suff_scores, compre_pairs_w_perturbations, suff_pairs_w_perturbations, compre_pred_out, suff_pred_out)"
      ]
    },
    {
      "cell_type": "markdown",
      "metadata": {
        "id": "QqoPp-OfWTL9"
      },
      "source": [
        "# Shapley"
      ]
    },
    {
      "cell_type": "markdown",
      "metadata": {
        "id": "JMQeo1XFWTL9"
      },
      "source": [
        "## wrt Top Prediction with SUM"
      ]
    },
    {
      "cell_type": "code",
      "execution_count": null,
      "metadata": {
        "id": "GaVoVcv4WTL9"
      },
      "outputs": [],
      "source": [
        "attr_config = AttributionConfig(AttributionMethods.Shapley, remove_pad_tokens=True,\n",
        "                                             remove_cls_token=True, remove_sep_tokens=False, join_subwords=True,\n",
        "                                             normalize_scores=True,\n",
        "                                             forward_scoring= ForwardScoringOptions.TOP_PREDICTION,\n",
        "                                             aggregation_method=AggregationMethods.SUM,\n",
        "                                             label_names=['entailment', 'neutral', 'contradiction'])\n",
        "\n",
        "attribution = NLIAttribution(model_name=nli_model_name, config=attr_config)"
      ]
    },
    {
      "cell_type": "code",
      "execution_count": null,
      "metadata": {
        "id": "S98LSsFxWTL9"
      },
      "outputs": [],
      "source": [
        "comprehensiveness_score, sufficiency_score, all_compre_scores, all_suff_scores, compre_pairs_w_perturbations, \\\n",
        "suff_pairs_w_perturbations, compre_pred_out, suff_pred_out =  eraser_faithfulness.evaluate(attribution, \n",
        "                                                                                           percentages=[0.01, 0.05, 0.1, 0.2, 0.5],\n",
        "                                                                                           batch_size=64, attr_batch_size=4, return_all_outputs=True)"
      ]
    },
    {
      "cell_type": "code",
      "execution_count": null,
      "metadata": {
        "id": "f5f6zyJAWTL9"
      },
      "outputs": [],
      "source": [
        "print(f\"comprehensiveness: {comprehensiveness_score}  sufficiency: {sufficiency_score}\")\n",
        "save_outputs('Shapley_tp_sum', comprehensiveness_score, sufficiency_score, all_compre_scores, all_suff_scores, compre_pairs_w_perturbations, suff_pairs_w_perturbations, compre_pred_out, suff_pred_out)"
      ]
    },
    {
      "cell_type": "markdown",
      "metadata": {
        "id": "9l4m9hO_WTL-"
      },
      "source": [
        "## wrt Loss with SUM"
      ]
    },
    {
      "cell_type": "code",
      "execution_count": null,
      "metadata": {
        "id": "i_J6RuE-WTL-"
      },
      "outputs": [],
      "source": [
        "attr_config = AttributionConfig(AttributionMethods.Shapley, remove_pad_tokens=True,\n",
        "                                             remove_cls_token=True, remove_sep_tokens=False, join_subwords=True,\n",
        "                                             normalize_scores=True,\n",
        "                                             forward_scoring= ForwardScoringOptions.LOSS,\n",
        "                                             aggregation_method=AggregationMethods.SUM,\n",
        "                                             label_names=['entailment', 'neutral', 'contradiction'])\n",
        "\n",
        "attribution = NLIAttribution(model_name=nli_model_name, config=attr_config)"
      ]
    },
    {
      "cell_type": "code",
      "execution_count": null,
      "metadata": {
        "id": "RAlI7gtyWTL-"
      },
      "outputs": [],
      "source": [
        "comprehensiveness_score, sufficiency_score, all_compre_scores, all_suff_scores, compre_pairs_w_perturbations, \\\n",
        "suff_pairs_w_perturbations, compre_pred_out, suff_pred_out =  eraser_faithfulness.evaluate(attribution, \n",
        "                                                                                           percentages=[0.01, 0.05, 0.1, 0.2, 0.5],\n",
        "                                                                                           batch_size=64, attr_batch_size=4, return_all_outputs=True)"
      ]
    },
    {
      "cell_type": "code",
      "execution_count": null,
      "metadata": {
        "id": "KdJt26fHWTL-"
      },
      "outputs": [],
      "source": [
        "print(f\"comprehensiveness: {comprehensiveness_score}  sufficiency: {sufficiency_score}\")\n",
        "save_outputs('Shapley_loss_sum', comprehensiveness_score, sufficiency_score, all_compre_scores, all_suff_scores, compre_pairs_w_perturbations, suff_pairs_w_perturbations, compre_pred_out, suff_pred_out)"
      ]
    }
  ],
  "metadata": {
    "kernelspec": {
      "display_name": "clip_prefix_caption",
      "language": "python",
      "name": "clip_prefix_caption"
    },
    "language_info": {
      "codemirror_mode": {
        "name": "ipython",
        "version": 3
      },
      "file_extension": ".py",
      "mimetype": "text/x-python",
      "name": "python",
      "nbconvert_exporter": "python",
      "pygments_lexer": "ipython3",
      "version": "3.9.7"
    },
    "colab": {
      "name": "EraserFaithfulness.ipynb",
      "provenance": [],
      "collapsed_sections": []
    }
  },
  "nbformat": 4,
  "nbformat_minor": 0
}